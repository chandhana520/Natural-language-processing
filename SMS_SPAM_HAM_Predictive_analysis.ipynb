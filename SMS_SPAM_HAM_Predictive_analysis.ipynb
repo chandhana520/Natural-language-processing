{
  "nbformat": 4,
  "nbformat_minor": 0,
  "metadata": {
    "colab": {
      "name": "SMS_SPAM/HAM Predictive analysis",
      "provenance": [],
      "collapsed_sections": []
    },
    "kernelspec": {
      "name": "python3",
      "display_name": "Python 3"
    }
  },
  "cells": [
    {
      "cell_type": "markdown",
      "metadata": {
        "id": "9_x1GxgsduEH"
      },
      "source": [
        "**SMS SPAM/HAM DATASET**\n",
        "==============\n",
        "The SMS Spam Collection is a set of SMS tagged messages that have been collected for SMS Spam research. It contains one set of SMS messages in English of 5,574 messages, tagged acording being ham (legitimate) or spam."
      ]
    },
    {
      "cell_type": "markdown",
      "metadata": {
        "id": "iJDybKPBgwz5"
      },
      "source": [
        "Analysing the dataset![spam_classifier_g2mt4wa.png](data:image/png;base64,iVBORw0KGgoAAAANSUhEUgAABWUAAAKdCAMAAAB8q/viAAACQ1BMVEW7w86Ckl6XiCyfp7G3qEuomDiYqH+bm4+YAABhZWq7ozYoWYkoV4QAAAAiJCaKkJhAQ0e7nS+7nzO7pzsoVYCepa6PGB6jqrS7wMsoXY25wc0oU3y2vsixucShqLGnrrh1gVVza1WQlp5DR0q7wsiutsBpbnS7qj+WnKW3wcu4rLayr4oHBwg1Njm0vMdscHZ/hIuYmIyzvL5/j1eNk5x+FRqgr5IEGis+QUS6wMQNDQ6klDWqqIJKTlKbjjyenZApKy5fYF83Oj4TExRmam+psbqCiI+TmaJcYWVVWV0tLzKtFR0oUXiZn6gxMzU7PkEmKCqwurihoZN0eX+aCAiwurl4fYQXGBmGjJR5hlizjZUwYI2ejzFPUlYbHR4fICOrs71vdHt8gYiTkoetsrS7wL5ZDhC5sryRmKB2d3KiMjSgKCppiKU4Yop9i1xzf1N9fne7qk+5v8iwokQVJjOboqtSVlqiNzqMm3C0pUi7sHdZW1q3oaq7uJusuMegsMFYXGG7oj27vrW7o0SrnD67q1tHSk59l7A5Z5NbXVyLoLaeoqGuJCukQEMUokCuHCS6ucNEbpWKiH4LoDm7oTW7s4KUpHolMj27vKxTeJu0gYqBeWgkpU2rrqeQlJWeHR+twcKXmJOHFhuuSlK1lZ6vWF+vOECcEhN3tpSxYWmybHS7tY6ydHxVr3c+q2R3bFd5GB2avbJyj6u7rmsNHi2vLTRegKCLuqVUNjpks4SKPD1qFBkvOUGHJShoJipHICVxQT61eu8tAAA8CUlEQVR42uzcsWkDYRCEUbFInThzBULGlVwXF13+F+41DozhcLxzvFfEx0RzAwAAAAAAAAAAAAAAAAAAAAAA4r1dyg1glud+3C9jf78BzPL8fF0ms/v2cQOY5flZV8nsqlJZYJqu7EUyu5fKAvN0Za+R2VUqCwzUlW2v/Z7tWKWywEQ/la0tPLOrVBYYqSt7gcyuUllgpq5sfmZXqSwwVFc2PrOrVBaYqiubntlHqSwwVlf2V2Jmj1epLDBXVzY6sx1ZlQUG+1vZWvcsHVmVBSbrygZntiOrssBoXdnczHZkVRaYrSsbm9ljK5UFhuvKpmb2qFJZYLqubGhm901lgfnOKluPgCfEjqzKAvOdVDbicLYjq7JAgK5sYmb3KpUFEnRlT73ukx2lskCG78rGrdm9VBYI0ZWNy+wqlQVSdGXTMrtKZYEY/1S2tpGZXaWyQI6zyo7+9V6lskCQrmxUZlepLJCkK5uU2UepLPDF3h2cSA7FUBQF0Y7KqTiJwSvvHfjI63ExdFfRlsQ5QVwefPhqJSvbKLNLqCzQS1b2Pwo9ga2hskAzLypb8RjYsYbKAt1kZZtkNiOrskA7N5Wt+eFsRlZlgX6ysi0ym5FVWaChrGyLzG6hskBHWdkGmd23UFmgpaxs/cxmZFUW6OmusveWr6dkZFUWaOq2srXOJ2RkVRbo6mVly5y2zciqLNBWVrZ2ZjOyKgv0dVvZQucTzgiVBRrLylbO7BkqC7T2zcrG9ufrF52hskBvLypb4xjYGSoLNHdX2Sr/ep+hskB3WdmqmV1CZYH2srJFM3uGygL93VW2xL/eS6gsMMBV2YJr9lhCZYEJrsrWW7MZWZUFRvi3sgV+QjzWUFlghquy1dZsRlZlgSGuyhZbs8cSKgtMcVW21po91lBZYIyrsqXW7L6GygJzZGVLZXbfQmWBQd6rbCylIquyQDlvVjaWo1BkVRYoJytbJ7MZWZUFZsnKlslsRlZlgWHuK/vIlZo9QmWBabKyb1urRFZlgXKuypZYs2eoLDBQVrZEZs9QWWCiz1Q2tr1CZFUWKOeq7PNr9gyVBWa6Kvv4mt1DZYGhsrKPZ3YJlQWmyso+nNljCZUFxsrKfs7xsyWrssBcH61s7D9ZsioLDPaXvTtKbR2IwSgMBS1KCLQS7WKe8j4Lv27SuaFtHFI6UEmcbxEH8dvGR2V3Gj+PLJUF0NlR2a3mT/8+Q2UBtLYq+zfXrL1RWQC9rcr+xTV7iTcqC6C5/ZWN8fomS2UBdLe9siYyXovsFKOyALpT3x3Zw3gtsoegsgB621vZMLmar0X2YFQWQGtbKxvy7qVrdsoHo7IAOttZWZO7eXn+4OvOgsoC6Et981qwzHHa2THlE6OyANpS37kWnHf2vLEHo7IAutpVWZNH5njw0OuRoLIAelLfFNkzc45xeTfGnHLKqCyAlrZUNuQpu5GnjMoC6GhHZU12sKCyAPr5fWXDZBOjsgDaUd+wFqTJLJUFkI16hrVgsaCyAHpRTxTZQ1BZAK2op5hk74zKAuhEPdEhe2VBZQH08YvKyn9pzlkqCyAb9QTvFnxlVBZAF+qZ1oLFgsoC6EE9YWRFLKgsgBbUk60Fi1FZAB2o5ztkb4zKAmhAPWlkD0FlAZSnnuBLhDNGZQFUp570kL0yKgugOPXEkT0ElQVQmnrStWAxKgugMvVcL3B9Z1QWQGHqedeCDxZUFkBZ6onXgsWoLICq1HMfsjdGZQEUpV4gsoegsgBKUk++FixGZQFUpF4jsiJGZQEUpJ5/LViCygIoR71MZEWMygKoRj3jlwhnjMoCKEa9yiF7ZUFlAZSinv6x1z/27eAkgiiIougk0Fm4M4KioDam0QEYkuHajraDAy4H/hvOCeJSPP7/q1UWSFKTshacWmWBIDUxa8Gpd5UFYtSkRfawqyyQoiZnkr1plQVC1KQdsle9qywQoSYxsoddZYEENSlvC+61ygIBahIP2aveVRZYXk1qZA+tssDqapLeFtxrlQUWV5N6yF71rrLA0mqSI/uVWZUFVlaTuhacWmWBhdUEH7LfWmWBddWkR/bQKgusqiZ5LTi1ygKLqgn67vW/VllgTTXha8GP3lUWWFFN+lpwapUFFlQTvxb8UllgPTVPcch+a5UFVvPy+kw+LgAAAAAAAAAAAAAAAAAAAAAAAAAAAACQYtsuADzMtr1fAHiQbXPMAjzOm8oC3KgsQBSV/WTHjk0YBoIgil4DW4My1+BQoE4UqQLXb7DBt851wcB72TbwWQagUVmAKLvKAkwqCxBFZQEalQWIorIAK71UFmBSWYAoKgvQqCxAFJUFaFQWIMqpsgCTygJEUVmARmUBoqgsQKOyAFEulQWYVBYgyqayAJPKAkRRWYBGZQGiqCxAo7IAUVQWYCmVBWhUFiBKVW0DgEUOlQWYVBYgisoC/LHLAgTxywKstFddA4AvlQWIcqgswEKlsgCdxQAgiMoCrPSsOgcAN9uu3y97fu6jngOAm+z12Hplj6rXgDf79tOaOBDHYXxgTz18u17EErRCi7LCNOuhBwkUgqldFWoLgvbS+ufkG6jnPe3r3mmbxJQaFhaF2jyfw8BvSK7PITMBsCMdKcp8MQi5awAAu7SS1EkrG4rPswCwU01J69fKNt3ysgIAdmj9mla3rtdEFgB2ryNptZaG4uQLAPYglHQlEVkA2It6JAVEFgD2ZaVXoQEA7MNSTmQAAPvRLOnYAAAAAAAAAAD+rXH2qfQMAHwpp0efyi8DAF+Kq2zz52dBZQF8Oa6yVfNZUFkAXw6VBYAsKgsAh4TKAkAWlQWAQ0JlASCLygLAIaGyAJBFZQHgkFBZAMiisgBwSKgsAGRRWQA4JFQWALKoLAAcEioLADn2V9mjwWDwyzMZ1b7bet6M9cuF2/ndbN/WNs9NBrHr8feKb1I3g4yKcZ4Hg1MqC6AItlZ2KumqZTK+y7lJpvnPWWDlWDu9uk0zW1LCBsdHdZMYKOPstbvSJZUFUAQ5lQ0U1M1G61zW6iYeVhdSdH9RKnVGx1bTiZ9WNnCbTjeMrGbtWlrZoFtKlKksgCLZXlk7mqp/YlK3U10klT1ZDWW7k3LN9ba36s8UXVeTyh7/MC8a39p/IkULP6ns7NSkqCyAItleWd2VFPXSudW3wUJxZXvnUqnimTd+e6ao7W0q+8ZrNAM9PZxQWQAFl1fZcaCxl8yVC51fJpWdWA1rZmNsNapvKptqSqUGlQVQcHmVLd9r1IhHrx3YH2ll7xScmQy/q+jG+1jZ6sg9SGUBFFxeZb21ood4rF25OalszarbMFlLqe+nld2YSH0qC6Dg8iprbq0e/eTsyy5NUtkHqf/+jbnUmW+pbDnQMKlsuRprUVkAhZJb2WpX93EzrxVW0soupIVn3okU1rdUtj5UkNzkOn+MtaksgELJrax5kF20jOPP1PfTyl5LS/NeqNnplsr27qS4shuPVBZAoeRX1oTqzo2z1NOl+Y/Kzu+kD38ljKks8Je9O2hRGwgDMPxBT99h1l6CJSQVUhIUUu0hhxJYWEx0twW3hUD0oqt72j/QPXvq7+6uNRqpCIVCM/o+xxG9iC/OTCbBRTlR2VWcvqbQvzEfwn1lI2NKVw5cmav2sf+y9yZl9wvAhTtRWedqM7+fxWnp7itbGpMfvsOLzXB0pLJvFuaGygK4cCcq638x2VK8D+ZhJPvKOsbMfanrvo4cqWzrZZzKArhwJyrrjqfmzu0+mDupVVYetusDFXddbZMdVta7NvGYygK4cCcqK52hmXbyOHUOKqsmznuy92NaXfJ1UNnep9Tcd6gsgAt3qrKSx/Hd0MzloLLOwmQt2Vn+NPG6/0dle8nUpIVHZQFcuJOVnSzMNE27h5XtDzLzUHb6roh4Yfc5NR/bclBZ1wvfrK5MPF9y50MAl+5kZb1rY8ywf1hZWd5NTfZ2MAuC4HH9PY6HE6kquyiCF61yfZ+a6bxK6xczfQwq/rayg6DSobIAztfJykoQm/jRrVV2wy++voxvGLN4HtWeSBNXw+l96dWeSBPvBNvKxjtKZQGcr6OVvcmuZcMbZh8d2XjKsplUnOj6/iHLpt+/rWe+VObZb4ubz89FR3Y0q9l0dJbVRFQWwPk6Wtmn5EeV02SyfTlMklB2ekvnKUmSSduXPSf5LZi0Q1f22kmNv/2wvTaVBXC+NpVtCioL4OxQWQCoo7IAYBMqCwB1VBYAbEJlAaCOygKATagsANRRWQCwCZUFgDoqCwA2ea96220KKgvg7LzXRqGyAP4tt+c7rSLK9X/58rFR5toceTHuhj1XANir13kqc0WDlcH75qxbA/g7bmc8UNXB4+3EQQPdjktVjcqJALCR+xSp5rOloLnc7kpVy1AAWGf5SXUV9AXN5k/KXFeOALBMu9C8NWJrxQL+pNAoEABWGa1Ub2msJV6/LTILWCUsNGISao9RqVG3JwCsUbDSZ5dlqas2cw/AGi3NWS6wixdpyVYlYItlpI++wCbvurky/QBsMctzfrC26Y91wCkwwA5hoWN2UqzjRMohMMAOTqRtgW3CQgsW0wEbeDNdCewz04iTtoAN/FLHAvtMWE4H7BCuWN+zUhjliQBovlGu3IfLRv1IZwKg+TqqXCxrIzfSTwKg+aisrags8Iu9u+dNG4gDMO4hQ5VjS4aYwAYDGdjzHTpm8xwhtc5Al0qR8IlWFdZtHirFc1VlYHMlf74SyGFeXGPrnKj2PT9v9wEenf7cHc1AZZuKygLNQGWbisoCzUBlm4rKAs3wFpXtyX28HrVGZQEr1VzZsUqSxI+jPelqbRE4oLKAheqrbLcnY89zX4gcnhfLHjfvqSxgm3oqezWWi9RzX4nsO5AqGVBaKgvYpJbKjqUfuVpuZDUvTBWdpbKARWqo7BfphzuNLYqs6HQ6Ila8Z0tlAWuYV7anIjcjdjJ7pLMmwoVkO0tlAUvoyr5DZDtbXkpmqSxgCdPK9lToHoxkiyKrkVkqC1jCsLJXcruT9aIo8nRkj3X2CJ/zs1QWsIJhZUeJ525ECynlInaFKJjJZh4Um1kqC9jAsLL9SEd2PQLoyrg4shmfP7qmsoANTCsb6sjqCUIoSkX2UkgHVBZov3oqGy5GeiUpF9nLy9QBlQXar57KRsrReiLHUWRXHhxQWaD9aq/sqExkqSyVBWxR08Qgq6wqMS6gslQWsEYtlRUiHTsbQXQUWSq7QWUBK9VRWSGE5webk1x+ichSWSoL2MO8skKsL3ylSgaB8r3T4wIqS2UBixhXVojX615RHMehd/J3LypLZQGrGFc2/wku3Vgqu0VlATuZV7Ygs8eRpbJUFrCMcWUrRZbKUlnANuaVrRBZKktlAeuYV1Y7HVkqS2UB+xhX1isgCiJ7TWWpLGADw8r2Er9AJP4d2QqVvZrcmJtcOe1CZYFmyCpbvyAtiGyFyk5+fzL3a+K0C5UFmuGdKnvY2EqVvfn6wdznG6ddqCzQDG9d2fzI6sreL39uLb/dDqgslQXapkplu4FUSi2SRUlJlB/ZrLJP04vM9Mfj7J7KUlmgXcpXtitVGodeFfmRza/s+cp8+ji7pbJUFmiT0pUdqTh0N0Sm+jHZ6/zKnm9cnM2oLJUF2qRkZbuBcjWx81WPbH5lV31dfS/mswGVpbJAe5Sr7EjGu5HdNtYgsgeVzcyXAypLZYHWKFXZkYr2d7LmkdWV1Y3d6ez35YDKUlmgLUpVVsa1R3a3srqx2tmMylJZoC3KVHachAcz2YqRLa7s+aH5n3sqS2WBlihR2ZGKaons9Z6PurJ6XLDrcUBlqSzQDiUqK+Oj0wU1RFZXVjd2z/TpZGXvnp+f73JW18pVttsfDof9rnNg1B9u1v9vVBZohr/s3cFLG1kcwPEf2IOuErNtQ4bZGQPGZDOCYw4e4kEIwcQ0kBgwSHAJJIK01O1BQQtFa2vRFqFQoULbiwct0upJoX/fzryXn5Nk4uRlGpZm+vvaQvMmSaGHD68vb146K6u9RWOdkB0RRBaNxbnsH217fTLbQdnT7yvnK19bOS29/3JudFUSUjYdrVQq0XQLp9pCtmKOV+HXjpSlqP6os7Ivj0V3cIkjazCLyrabyt7/eLMvOSv7flKSpJ3T1tEdyexcTNknBZ/Pl1iQW0bDRZ/Rdgh+7UhZiuqPBJR9V1e2B8iiss5z2fv379/b7aSseZBhq7LPmaTS+VOxFYPxnKHp4pMmZZUZv89sLk8rBhRF/V/K9vCOL1wuuF2XbYes0euTie6VPXvMkV0fdK2sGk9xZLc0+MUjZSmqPxJUtj2xWLfLBax3ALC70QZZ1s1s18p+/QBmKzjoQll9eYohGw796jNZUpai+iUxZYd7OJPFuexLgInLN3ZkeQdrXSpb+roJRpsrpUHXyirxgs+oeAh9EClLUf2RkLLDvZvJMmPNRgxl1160GvvxPnYpdaVsic1kpcffLwZdK6sumQO+ZDYCfRApS1H9kYiyvUPWBLbu7A8FlbUh60LZiyu2XPD4GyLrQtnIUJLNZIf6AllSlqL6JBFle4ms8Ys1cmTgtn9zt7I3E10oe/FdYsjiBlo3yqZfFdlMdl6FvoiUpaj+SETZXu6TRWc/7wFIu/fsyGJv1sSVPeUz2ckzRNaFsmNZNpOdqqlgT9aDAbOgKreM67oCRkqIXU8rcJueHmAviWjQmhJilwIDaZ2UpSivJ6Jsz5BlxrKOjwyPZk9e25B1o+zFF4bszvvSoGtlA9sM2dSyCvYio9HDRbPD6GgErLSZ6enpUR20wPIcuz6vIrH5TK2SMIfC2dW81PxuM0uVRV6llgkopCxFeTohZXuErPnD++dIse+Wvd/Yn+LKllbA7Pw5IutC2UDYx5CN62BLDm4XfFiuEpABU/3GyHZam1n08bL8mlzeTvmsUktqw7sFsjmfVTERDZKyFOXlROeyvTgfBvvr+OglAEw0T2U/NiErruw6RxZv+HKjrBabY+T5M22QVZe5oZh/VGlS1r8wfYtwFlhZHECa59NQT48nis0XUwukLEV5OSFlRWeyjsjyH46sBkb7B3fPZMWVfXougdGX9UHXysqxMJMvHFPaILvURCZ7hdSobHIuh1eK88Ca9rWUi2rAkmJI9m2PIqQsRXk5EWV7guxt7651GYwmbl47ICuq7NMdRt7KxaB7Zavc0akA2JPHU3zGWQ6l06P8iYWgpSxWqC2MZv2R+rg5knyVT6fT44fscqIKrPQj/uxy0Li28Chp/K0ZhZSlKC8npKzLNVm7sw+ffX67B6y1G/tqASIrruz6DrCkbyW3yo4vFH28JRlshSpMxWlOYTWaNB9GW5UNs1UESQOeVDvMjisS+2Oa7cJNTgMrGGavx5mtMpadT9OnXxTl6USUFUB2+NmzZ8f/Ond9fX2097Iu2b4DssLKTn7bgXofzkrulE1lrf/wL9uZXS2YRtZ0wE21bAFAbVZ2Lmg7H1wGLBBuWLEd85tmj4GVJpOyFOXphJTthOyzz0fmxlG5c8Cb+OSwXCCurCTBbTvrbpTFinyzbB5a0rPm+LZ6y2c5ydRtUnYqDQ7Jj9jqK7CCbCU3T3clUNTv088rO3x8vQddNDGxtnvyxmF3gbCyvA9XV5umuF8u3CtbGMqyZYPKmAxNLRRMgmvWQIDBGm5StgaOcWUV/s8dZg9iqkzKUtRvkitlm+ax/+7pgK3td2735MWGwxaubpV9/K10sSKb2n4tuVW2UKuGtk1mk9EINJXxmaMzA7fxPV9+uUHZZATuStbVSLrSoGxkiGm+OD8ekklZivotElD2mROybOsra3b38vLmwKkN1r0HyKsDsmLKoq3Pd/jSrEtlk6s6QCzBtxI04afF2XKC3yqRY8qqDcpu62BPCpXj8dXl6flspdCgrFy//aGYqywvKKQsRf0GuVC2cVvBuz2JmbK2f3Kz8XdDD2yxb6tFYW3IulNW4ufDlM7Yo8lTV8oW4iZ3ynKB+RmTwEqN+tqWiDQoW1NsxKZHs4c5H4bKmmmxQ9zSkHqVCSmkLEV5va6Vbf7Y60jj09gXB8irA7LtshnbjbLS5FmpfvChxJZmT10o65/RGv8zv50Gq0hWQNlVaEktH075MEtZnhKYT+FgIby0JZOyFOXtRJVtj+y1zlZjT9BYrI2xOJMVQFZ8J9d7fHh6Dkab37s/+dC6KyDE9CtmVbit+sqFspFowYfZlQVZjS0ncTgZHtVJWYrydF0qO9LU8R7f+rrREVkurL32yIrflWA9ngRk1/V3JQywuW0O2WXzWzYy01oA7lZWWS0wracS0fxY0Ag//bLSguU5lDgVp3u/KMrTiStrR/aff3V2E9ffAsgadViT/dOdsti3D/gl4a6VleN8opoHTK+ZAwWtJQkclA0m+LaFoKpItp1cmKzma2G+QOvPk7IU5eW6UnakueMjA6iJF2LIGr8FkHWv7MUXtjR7VXKvLOhR5t5h+hbDDJvL4mMrB2Wnk+ZLlvS2+2WtJKla5gu0cVKWorzczyjLv+9gQwRZ45cgstg9UWWxp5zRryX3ysqBOX6nrYYjZTbfHJK7UHabbYhdsOjGFQN7abatqxIhZSnKw3Wj7EhL1xquFwisyYoii51MdKksbu56715ZUDJsepmMo4ljzMG5kCSubAV3KliHeqGytvhUOUjKUpSHE1bWjuzwW+Pqp4Mer8liXXyHLXaFBxq4VhbUGv9imidoZLRoOlhTu5zLzo3hw8h88W5lF9hfFiJlKcrDiSs70tq7I+PqZWdkzZ+ukX29272ypRW2NLty4V5ZGJjjG6+C9dEYgzS3VFX4gKyo+dVxJ2WzeKeDmVzlh4Cjsmo5E1Q0JFxlIs/rpCxFeThRZducJvvZ0GH2phOyKKwgstjBPogri63zO22/ldwrC3kmZ3K+CiydK5mbqz3Jb23lY5mh7UQx4aRsmR0wc5jJBwa28uVtjqx1WkwynI3ntwIDA4F8mR26mCzTp18U5eUElbUjayhrLstudEb2gfgdX1YvZl0oWzrju2bPfkJZOZPjBxpo9fMIskUfc3cqZTRVYCsITspW2cJssZBK+FMpZiwqiycf5oy38psX+Tlg9O2KFOXpXCr7sJ2y7Yx1gywuGIgri118/wA47lJZ0KMMP/8W8NJDnFmsk7Iym8xaFaOFJmVbSoxrpCxFeTkRZdvOZFFZF1u4HIzFNj51qSxauiLhWbNulYUg3851+62HkXI46Wts6pGTsqDH/Q3GLi5FFi1lq9lis9evxhW6w5aiPJ2Ism2RRWV7iyx2MgvOyq6fb0qbbTB9PikZrZw6K4ucFovFSrBVWTmWKhr5qzighcpD1skDr1ZjKvCUmvG83Ay0pASWw3VMU0t5HaLFYjIq8/cOZeanfFiqNhrR6LQYivJ2bpR9aFO2V/tksTefwEFZVslo8I5xwU+/QNF1XQF7ut56QdPVaiCWD0ZUXWsaNpLBnmI+fSyi64xW40mbFuJK/b1U46V0vixFeT5U1qG9YSdlnWayXSOLnYBdWfehst6KlKWo/khA2Zc/2iGLynZ9W62Asgf7pCwpS1EeSUBZOHrXDllUtvfIvt4FUpaUpSiPJKKs+uMfO7KorPCarDiyJ7OkLClLUV5JRFl57/OwhaxN2QfCZxd0NBaRJWVJWYrySqisc3ufEVmbsu2RNX9cInspASlLylKUZxJTVqrPZh/alW2LLNY9sge7E0DKkrIU5Z3ElAV57wca66Cs69tqsTf/sXfHLk8DYQDGXzDLuQiKGKpVkBh0UQeX7qlOTpUiTlUIuDgouATjxyUExU1oIO5u3Sz492k/jVUp8fRO+C73/GiHFro+vDTvJUWXCJWlssCIGFZW4tdv3v+a2Yt9ZYe3C8wjq6O2SkSoLJUFxuS4skZuHH368PbZTz4fruy+sbop/kJbzRIRKktlgXHpK2ti8vro6N3ekewqO7BdUG+S+C+ICJWlssDY9JU1NZlM+vekr+yB7YK+smKnr+wDe1QWgAWXlTV3oLKnewazrJh68eqRvY8vZFyoLOAH68oO7MnqohwioLLA+Dmt7Onf6HpHHxYJqCwwftaV/ec92VpAZYHxc1JZ8z1ZKktlgcC4qKz5sVoqS2WB0LiobP9vwR/vwkVlqSwQHEeVPW3yjC8qS2WB8Dir7K6zw5Fd11+tqSyVBYLiprJ9Y4ciGx2fBCtrKktlgZC4qWzf2IHINp0cK59TWSoLBMRJZQ22C/aPQCg1laWyQDisK2t4GKGZ/fhJQ2WpLBAOB5U1Ooywr2zcUlkqC4TDvrKnD/m1sb9UNimoLJUFwmFb2cjw3gV1t/8JlaWyQDgsK5sU5wwPI7QzORaXaypLZYFwWFZWysjwxJf+ltm8jL5/sRVQWWD8bCs7K7ThsVq93cxm5Vb3nysBlQXGz7ayUkbG9y7Qen/A9mybCKgsMH7WlZUyGo7sYQ2jLJUFgmBf2aR8rge2Cw6LSkZZKgsEwb6yknTbej/JmlR2XXRElsoCYegrayXfNNp8kj3bbPJYQGWBIDiprCR522izyK6blkGWygLhuKLUNXEhL4um1uvByJ7Vz5sNl72oLBCSearm4kScV+WmaJrocGTr502xKbucOdaNG6m6KwBOvtUtdUocieMkr6qu3dnWu9Ce/fqKinanq6o8IbHOzNPsqgA4+aZL1yNRP9h231Wk9X+4n2UvBcDJd+mhuiXwz5ksXQmAk29yPVNXBL6ZLtXtiQDwwHzBVRT/xOdTdVkA+ODGQ5XOBX6ZPuGPHsAb81Q9mQp8Et/PFNe+AG88VNl1gU9upGp5UwB44tJSPT4v8Me1Jyq9IAC8sVqoW2TWH6ulSu9dEgD+uPJYqXsCP8wXSt0RAF65vFDZnRW3I/TA9PxCpUQW8M78icoeP2Wj6wt7d9OqKBTGAVyYlYuTbsSLWEKiFJi5cBGCIL5lgiYI6kbNVvcL1LpVn3vudOt2Zxjm5c5tJu/8f9AmWoTC33Oe83jOvZtyhY8qOkAvTU2apn1GoeB+CZPcp+ntBi99AfRSYKg0TXfGmOPh/uySKv/yIMyx7gXQW1N+aag03LF5xSFjAXpNVHZVgaS9R2pnLAN9SgEA/HsJsfCWPwDABVIWAKBXkLIAALfEEQ0pCwBwMwHRaAoAAJ4hZQEAegUpCwDwClIWAKBXkLIAADdFyIECAIAzpCwAQK8gZQEA3pcgCNPpVDwjZKWLon7+XD39RBCwOysAwM8IurLhd8nSNCqjyJ+oqh9FUV3L7BOXEC+dzdL49HmyfvryWNf1PopUdZ6fhBVjLnccH2xw5jYAwBfKJmGKnLbZteumcZy1TelplkbexrI8r2wHmRPPXNc9sv7cCMeTACNdAPhvCA9fqgABb+ZR6ngW+aGybbWYZQf71Wrlq9+IVuzKZpt47ViktMiPaW25mG+Z0am88IACAwB8MMJQGSVVZXTzw8K1vhqqap7XDJx0tlgs5FXkR0b4yHGBQr2BroweH5mwUPdRvXjipk7WkG+jvHUW+2i+3VaPiRTglAIA6DmFCzu6Zt00azSLXDXxQo7ovChCxkw4aTN8oN6dvuFHydasjKLIo72cfv0PrLJx4jUr0x2z5CkAgJ7RuXzleJpGXvOIs6fNx+DSGkD9NYLw3K2gTIxCzlKNfEXTvFLujASVBAC4a6IySswqzyP3ZZquWY3Xpq57nIdL/p7m58PJOLcPazd1BiW5hu5gtj8U1XjCb+7pzwIA6HyxqmU3ayxypjVsHXVFOGG4IXW/hgE3zot8vrdT71U1wUnZI+1XE3SEAcC/JnJF1FjWq9pA6UYhpyhDUezPYr4givpQUSZ5tMheVxIsq6nzkAIA+MuE4Sh5ZIp68FIaKJssTt18HFC9pyemmqZp1lwLH4M0yk0zkRSc6w0ANxeYalSzA08jJ5azXvnddrz7aAkUcIzRqTXrkIsyXtt1vk0UCgDgJqTQbjzvpeHViqNQCpSh+EB9WKKuSFJS0G5zLSN43vqw5XpTDgGAu6cHn5JQlZuXvoGBsz6YH6A28HsSRj1mg8YjZ9osMpYJ2hEA4E8onOEf7PjSO9C4e78z7rpr4MZ0zlR9X3YH2qVkO6sPqjH5jy8JALwVX9hp+bIC5NXdjpMUDNy+GCrBiCui9SVqLa9pF2q1oQAAfkoYSlxSyOUlQMq2ZRmJgu8RloU9aEuPPLMGtrrb8Qr6bAHgux6UXa5GbGs9R0azrqN5hZ0Df2Y6GvvRSnZa8qxc23RX7RC1APCaOArdtC01ctLI82rHoz7wW1MAPqn8RXqdA6S1YVIA8N8ThxJX0Z51CYeGnS8peDu+2GelZ708r9QlHwx16hfpeLIBfCT6MlcPa++880BsH3IGLffvQeSrYn9028su4oujmjPcL0StdKSxhgbwQWzCY5ydKwSauw8fOQnDqHclbj6Nmc6+NCJ4TZbK2x31Q7ynHXAbAPpNEBVlksfa5U2m5lBg/HpbUriaXXfU8exus1F0gfqulpQM1hsBemvKVwVtNxZ5opXpcZWPkbA3dr30uS3HzTlqW5nOwyT43mCWzHBPAHpJT3w2HZwXZbJVbk5w7tXfJko7M/QXMTmxmmxmd8w3d6HTCE0BQJ8Ioqgv6cFLicDNcdDVPybsVPu6J68mq5IuigJ1otiE4AYB9IbOm1uVzbTnoZMr0yFmo/dCNwtbTi8bImQuXVSn6cW4JSX6DAD6YLrr6pnjXTYp3DIJ3jK4N5/Zu5/WpsE4gON5ECYeHteLdIRWk9XKhFi3ITKEseladYJ1tTiXw9ifStFLKoIS8OJpIL31sEuY4CvIdbf50ox1M6Wz0NLkaUK/n7dQ+u3DL7881fdv7CweHG1cjBDWnxwdPHhuyV1eHAOS4Oa1zKAvb+nltXV5buP69tTdUpg6ev2F7LGxqAGYuOyKtIpan1xxYae+umXJP95WV1afcg9BaszXC5nqHpUFkuLo0sPoyuHmyr3zXaH15/e357n1NFX2Xy6WM91BbZVPDpi8Iym/hdM7/eb2q39/FXMveGadon+QRdezjXDrgFtmgIkrbkqrkNUC+ezs0+dV2fV2696XwyzPuNIoW5VWsEFbfbJaXryiAZiw0jVLvspq+Wfl1ZV1S/6xt1quzzOETa3c7EGwynWL5QIgEfS6Jbd2dvfOZwTW3uZOMZ+jsAAQjcqG/PeS5pM7POQCgGiVvkgprermweFnCgsA0cvfeSTl3rwGAIjHwpYl5Wb2rgYAiEV9XcrrBxpSa672LlrL/OgCUdIr5Ue8JJRic+3G1WidfNIAROpGYUFDSuknXofKAkBcKp5JZQEgLiXPpLIAEJdSx6SyABCXfMOnsgAQl9xP36SyABATve2bVBYA4tL2zK4PH4e2RGUBYEgnvtnl7xaGlWlQWaCXPpcyGtSpeOZFZTNDa6xRWaDH8szDVJlZ1qDK/keTygLjqgn3eCY1XCHeaFCk2PGpLBBBZYXjzqSEI6isQg3fDCu7MjQqC/RXNpCGzh67QlBZdXJBZEOdpaGxyQX0V7Yr8WMDVwgqq9CnnxeRZV8WiKSydsKPs7agsirdfe2bVBaIsrLJHs+6jqCyKuknnkllgYgrKxwxk0yucASVVarimVQWiKyyISORx1knaCyVVSrvmVQWiKOywk7eUzDXFoLKqlXsmP06a2OisphaQWWT3FlX2ILKKrbc8c1+H8a1RmUxrWqij52kbQNhCEFlFQsXZUP+18KYqCymVk1cYiRk2+DYtW1BZVW73bso2/OG7ZioLKZWTVxm20m428B1bEdQWdXm2p5JZYGYKhsyJj42OBZG0Fgqq1zbN0etbCFzenZ2WqCywAiVFXbLmehx1rUNIaiscnrbM0et7KvmX2dUFhhc2YSNDVzRsgWVVU+vNLz/Kz8e5LR54ez748GoLKZWTQzitFSPDcJhgSEElVWvdPP90ogaXjP0a2kw9mUxtWpiMKM1ieVZ127Zgsoqp+ey87M/ro7KbPZo8O4XMFJlhW0YqscGbnCEdgSVVa50a2F2dvTKrv1q9uhQWWC4yoYMxdsGonuQpbKq5W49exBElrPsb/bu37WJMI7jeL8cKC56S1SKnkeCEgeFYkpdJDRYokPQJy7eIFUC0iLcdUhLoIuTIMElQzI4mb8gQ4aStNU/zcuTpN/zzCV3+fFY7z6vTc3p9ubrt89zAWCKKutWT+Fpg5rpmESorGoPd0puY+er7Pc+R/Y8H76yj9cAEkLQDE8sR9HaoEaOaREqq9qd97KxUyubr+w3Jv9B41e/0++4+v3zoFH2oPHXY/V7yCwkhaCZbEfJndvBFtgmVFaxh+9L6Rtj/srufx05Pq22vhx/9dve7p1ttm+OnPV6Xyc4cp9999WX2R+5rIbOQjIICsE0HfvKajUd07GIUFm11u/KOTaostv6yOmWq6r7ZM43XTe9TnS/0658NO+rrPuP7d26swYQf4LCsMzVnjaouSG3bEJl1Xp4P8WNDays1KoOWvlK9zqRkZWjLDv3dbYlI1uYUFlX9tbdh2sAMScoHNNc4dqALDnIorJq3U/xriCwsmOFQWa7p97Idja5suzsj8xW5RD8VJ9QWamo3b+9BhBrgkKyHbeEV1ah5rgJJ0Jl1XrMc2xwZZ96yGC29NGv9JPNoZt+7ZOLz7zaGig8dU2qrJRO3V0DiDNBPqrXBs3BmGwRKqvU+l1j7wYLquyGV+XloLPPng9tn3/s8yjr0e7/uvZ86HN1MP4ejG/Y+ivLnb2PvQHEmKDwbGf5awPZbptQWaXuGsUbzFfZQOUDfctrtzOpsv2tP3yu8BTrq6y3sztrAHElKArTtcy1Qc0y5UYWlVVp8MICNruybOOoW21J1d3r1z/yLOv18/r11kh3a999KriyLJd9j/0sxJSgSCxziWuDJjlykEVlFVp3X1iQuxGtsiyfL0v5Xrvd5rWs36fyUD5/dUZlWa60cwehhTgSFI1tLeu0QZMsx3RsIlRWnduPbxW5sVEryxqbYzcn+n6Vzawsd/YeDtBCDAmKypYDaHMJywIXESqr0PoON3aRyuZ7Myr7rRypsrw32MHPwSB2BEVnuhb8JoXm8C8hVFYFfmHBDbbQLLs51r450dlGtMqy7L3H62sAcSJoDpaz2NqgWRssCyybUFl17uwc5m5ErGzep9IYOuh0ZlT2e2NsoywfDVtZeSEMnYU4ETQX0+XYzQWWBY5FhMqqs86XEMJXdv9420uvjnW7P6dW9nX1QutIPpufWVlWvL8GEB+C5mPPvTZokjlgEyqr0vq9UjryLLud8dK7W+x1Z0plO1seLT3jCl/ZXDaFykKcCJqTzWuDyMsCuZFFZZXgympaKZuLWFn9Dy1OZ/fjtMq2X/MnqwV9IGxl09lDTUNlIU4Ezc12TBdFGmdrtjlsLCqrClfWlcrOUVlWGHnU708/Y9A+KYw91SNUNldKaRoqC/EiaAGmy7Fqka4hyMiisgpxZaUo52WvZSb7sumaXtmMT5jK5rKapqGyEDeCFmHJztq1CMsCx7QJlVWOK2uksumwld2oBJhV2bOK3+wzBumSZqCyEEOCFmPx2iDMskAOsqisalxZKXWYu3S3Eoa7AlQWYkgQW2CcNWthlgUum1BZxbiyzODORqgsq0y/ltBuRLxhmysZmobKQjwJYoscNnCoNnNZIAdZVFY9riwzSsVc9MpuNCpDvzqdwEMG7c3xwqBRyU+tLO8KNA2VhbgSxBYcZ6k5a1lgEyqrHFfW77AY+c2HerU1VN3d3f0Z8ObD3d3X40+1npdnVnbP3RWgshBjgpbBlJyAcZac8UYWlVUmuLLMSO1FquxB1f8Wb1d7+lu8n21Mr2z6UNM0VBbiTBBbbJwNWBs0a6NR1yZUVrHgynJni7mwla286LrV9F6ynVjZzm63Oja4vpBpBFc2t1fSDFQWYk7QctjjxWvTF1l72F+bCJVVLriyLFWaUtk8q8gLtq2DC+cBi9mz/YOxI9nl/XLA22KKco5FZSHmBC2L5Qx7+kdmbceUbEJlFYhSWWaUQnyHrb41+s5v/p325FMGuueh0+FT+qTvsM1pmobKQgIIWhrbcnyXFGqjRYJFhMpGpaCyLJueccNW5rJb1b2ejqbZmx7tju6VKVRlZl/p/sruHWqoLCSDoCWyxz/m4pMFw40sKvvPcWUD9gZ70ypbkP/1P9V9Tvyb2c6J7icz2/JVtp7SNFQWEkLQUll82sA2LwZZVPbf48oGSaWnzLJdOZD+JXPuHWbPuLEsc8qV9TQWlYXEELSazNrjZYFNqOxlwJUNZBym/3qL94Vn744n+9Xr9c56rl/Hk309fnZ0fHxR2fKgsagsJIggtsztLA+yqOylwJWdJlW/OodKZePqLNxYQ0NlIVEELR1nVm5kUdlLgSs7Xerw6grJMRaVhWQRtHy2ZXoue6GylwJXdqZ6+epKlOuahspC8ghaBdtztACVvRS4srOlVtHZuruPRWUhiQStxsUgi8peDlxZ1fMs7wpQWUgkQf8ZVFZBZV1GvbzcXQEqC0mFyiYEVza0en1ZuwJNQ2UhuVDZhIhWWT7YVV6QvIKAykKSobIJwZWNJPXh6NkC3j0vGhoqC8mGyiYEVzYaI/3mnT6XjP7swdtbhobKQsKhsgnBlY3IMEpvv8wT2cKH7GBZgMrCb3buGCViKArD6AMLVzBglcbKStQVCBY2FmMxa3ADswWbrMKdOopwA4K+TAJ6557Tp/0IF95fncoWEZU9xu71cm5kHz5+Y1UWVLaKZZUd9rvH+zmuXw5fqSyobB1R2eMMm6e3m07n4/5sUFlQ2VKisgtC+/tDhZiPVVlQ2VKisgsM49g1baiyoLLl9FR22QJtTHSrLKhsPVHZxcYfJ2FUFlS2pP7Kzl9GjEkYlQWVrSoqu3Zn41agsqCydUVl1zFsvt0KVBZUtrCo7Gr2z5NpQ5UFla0tKruicfxqrMqCylYXlV3V5vMcq7KgsuUdKpuHynJKVLYIlYVOKttQWUhEZYtQWeiksg2VhURUtgiVhU4q21BZSERli1BZ6KSyDZWFRFS2CJWFTirbUFlIRGWLUFnopLINlYVEVLYIlYVOKttQWUhEZYtQWeiksg2VhURUtgiVhU4q21BZSERli1BZ+CPbu2S2DZWFRK5uk7loqCzAf6OyABMqC5CKygJMqCxAKioLMKGyAKmoLMCEygKkorLwzt4dvCauxAEcH+jJg9qLJIREQYkYibEHDyUgBDUaE0wFQaXQRL24Z6E99ZCTJ9FCb9JDoe3SlrbQQyn9797MJKu2fY9Xtrst4u9zWJy0LgtLvzs7/qIArIDKAgDAWoHKAgDACqgsAACsFagsAACsgMoCAMBagcoCAMAKqCwAAKwVqCwAAKyAygIAwFrh9Pj6EBAAAAAAAAAAAAAAAODbSAgAAMBfw18/IgAAAH8Jfz19gMwCAMBfcv4yPT09e2YRAACAv+B+enp/hjOLAAAA/HH8w+n0/vx5ejqFQ4N1dDf/12sAbDhJ7/HIxwk9Bb3Hca+foIg9XRcF/o//SR7vSWQResSxvVYQWCvs8GZm3QzRK8Mra3J3ggDYaIxdakuIEip7A/QO30iiFUIyVNwtlcbeTu8PR/b54fTs+pz8vF7DocH6yV7MLGt2lUUrji8scg0yCzbbYVh2C4gSx2oFvaMfbKMlZdAsl+qGl9LGDPo0/hwtPJO00t4/PkxPX84RWCfHPy3r6sqyfg5fX7u5wNeyCIANdhhulpsZ7lVlOYnHaPFYpaDlyApRXCPnpBOCIojxuISX+Dr9Xvz8t8/EX5D8JUceY+z7iYIH3FVKup6S/WsQWTgwWDOjy4k1uxuh24n1dMkiit1/wscFaHg1w9dgagRssEPZq6vbW9xKZSWmGioeGFVdwtfyOblTLB61eT+GXcdsrDzZG+jRykGxEhVpZ4VG2ygW8TMRVq1HY22veJRv8HrVKB6kkwJ6RbrHZb1eTHA9PC72tNdwA9haObmbWJP5CX4wpw/8a7iuc/bXA8gs2FyHspFIqXVxWVk+uetott10SlEexYsRWbXtvbxfWS6jOYPlPrPb2T0yTdt0nTpDw2o3Tdt2O/UeXhhqqaTZdkR1Wyl8WXM6rVfxPMcvcp3h17l4/PAeR/bc39NCZNcOezuzJsfsYlN7S3qLt7A//Wss3egiADYVrqwStzt5xa8sCanthuKKcBhy7CSH+IFTQku9iqOlfyQEifMrq+baDN/bKZVDpNNMO6lzQlVTuxyprDxOClImJcvmIMHp/Y7TW50owC92vTyeTfFYwfk9+ZWWl0QWxri+jJQ50MqyXDaLjU9VFu9gL0eIyj7hA9phdnkcS8s7gYEusLlIZaVu0x1IQWUFQ/VEhImhsie+rSyX6O81zXGoyvB+ZVsK2f7uuO4P+mX6xCO5r5DKRmoSvlTtyG2FJHgv/GNlouCMThTQwN5Pz178yL6cwQ22XylpqqVQPm+ktBr6hNH8yZoFE1v0IPbipzW7CdYntzi4+3BiADYXqSwSWk4zKvmVTdidKkeLGXVzW0FllzhlqxracyPjrkIqa2YQsbUt05NbXtQTTONITguksqkewgqOzCCslwpHV48LTu/5IKyn0yCyDzi5MFzwdfhieJxQeF7oxXj0GezlE87q8FdWZxY9naWy9OgAIgs2GK0sEgzZPvQryzQjQQwbpttYVnY1tL1CsWMXSGVLh4jo0bAqjdbBnqk1y2G/skUxqGzvXWVZejTA+iex9GyWlhci+6V0M7yDlvKGyOwYXqiqcwjj9Gjf8ypVhqwUr60n8TKdVPhYG1+OimjVkExynSDf7WRxQoCPDmZ4uguADeZXlkuk1GKjTveymttF1I+IFvMr+x5zUDboXrbhL8fhlsK3m5FipbUz2Jb/t7Kr87HXvya48J6WR+DrKLvhkLJYSVq4VbQ1zY1sZ/zJPtPEKzfFkEW4eZCztUgnYrTIv6RO5OBNZm/InhX59i+XI7OzW7grAWw2v7KIY0rlukcqKx6ofdo6vlVOJUhlc+g9wSh7pLL+6QKXtMtdbmsv3O+R6a/6RyorPZKTWXaxxsvpNUT2a7XVTj8uLSvrFqsxpppSczr5O073CwxTNVWDVlaOVGpMzZNlZ1yNxdtNtYUCy4OCpzl6ZY5HZucjBMBGo5UlfmhljVRW6rp2QZR4sZDrtBS8jGhxSeIQxekxXVQUQSyUnBapbLjYUCQ+7pVTDIqVwgNBknpV8yOVDd6vQEKU9DyFu2q/nlApqzkjqvNBZbU4wmKanEeYf7WvOn5lDYEcMmhhO0a2wRXZRm/MZ7ip7HI9ItOz+wiADbeorDJwZTovK6a1nJHOe7mmwXCIi6Wccb5VkPxv2kkVvVDIqOeaXpzuZc1xpZ8eR8hsrWh0cpV+3tv+QGWXd3ktJrgenmFM9ssJ1SPTdXP5LY5Wti7RuhrhnIQCXLWs0sr6/21RduUjicR3gOP71j45HxihwAk5Q7hEAGy6rUheQZSY17QW+bESu8aeae8a/osgfM2zze3g3i8+ExrnNM1OGdWERCprtyop29yt1BRy6tDfts1SfWdQauNlXzMEhGVKTX8yzIsk/+NduM5fcGQfIbLfQBIbg4NIeTfmn8sigu3KEZ0UtdHdSafHql/ZZgZhSiq4QXBnWdmlGzxcMESB7MSybhEAG48TeBTgBUEJHimCsLz+aiEpAqbQNZ0xkMgyCORIIQsk0W9Xgifhb/j1+4zQGxIdK+DJrV9wJPttlOReOEUr20ZURnYZxNXGmtOJNB3Zr6zW+L/KsiSyx8vlPskszHAB8Am0sn/g0xFIaiGy34irdlRa2TwipHY4InJdx6lXa7FYX/1gZbNXlnVxjFZckpsTYIwLgG+tLD0sOJ3CGx1+r4Ij08pu87SkR+Ftjj8KF0WJJPeDlT2+mFlX2bfXrNkFZBaA76ws/dTaM5jg+h6CyAVzeXKJVrZTwCu24Mo7iB+H62TBpMIfquzxk2XdLI4O7ljkw/tbuCkBgN93aOR19PnMQmS/Saa0a/Rbrcp2OVLw52XNSjSabqpFAXEt2U1HC/1S8wPnssFbHrLL+72uFrfbkmkuGJkF4Dfx5HWvT+NhuOCbxOumq6qqm/OSPK2sEcqV1bJd0UlXQ1pZVU2vG/n/yp7cTKynoKXs8U/y2TQX2UV/4bO/AAAbihWZw1qtdsgoHPJnDBQmU8skgrE9plGrbQlcjOR1VGsofpkzOiLETGMZ2SuLvsEsdUwmC/C0wdMQBdW18FkC7GYBABuPVPb3Yr0yJjua477O2dHdxJrNRzA4CwAAf6Cy9J6vk8V7xuyz/lvOTvxrJ/77yAAAwIb73crSo1jLIhNbwyu8k82y9FoW72bJQcGQfC0LNycA8E97d2jDMAwFAbRLlHSAgq7ytygJL/YIkcxDUxlUpd6vimRQJSyJFJD34A1gYJ3uc3rtlV2lG3OMqZUL/rNHKiqzAJPb8369rNV9cpQyfRLMJmdrZA0DgG3azOF8TPb1zRHVzS+APQy1HxZZb/sQYCfvtMyScgEAAHCMH/lB+l/YSWFlAAAAAElFTkSuQmCC)\n",
        "------\n",
        "\n",
        "Objective is to predict if a new sms is spam or ham.It is much worse to misclassify ham than misclassify an spam.\n",
        "\n",
        "*The reason is we normally don't check the spam messages if a ham message is moved to spam folder we probably don't read it.*\n",
        "The two possible situations are:\n",
        "------------\n",
        "\n",
        "* New spam sms in my inbox. (False negative). I delete it.\n",
        "* New ham sms in my spam folder (False positive). I may not read it.\n",
        "\n",
        "I prefer the first case and I dont want False positives.\n",
        "\n",
        "First we transform the variable spam/ham into binary variable, then we split our data set in training set and test .\n",
        "\n"
      ]
    },
    {
      "cell_type": "markdown",
      "metadata": {
        "id": "TVTH3TTBgwtz"
      },
      "source": [
        ""
      ]
    },
    {
      "cell_type": "code",
      "metadata": {
        "id": "T3Er64s_VcTw"
      },
      "source": [
        "import nltk\n",
        "import pandas as pd\n",
        "import re\n",
        "from sklearn.feature_extraction.text import TfidfVectorizer\n",
        "import string\n"
      ],
      "execution_count": 32,
      "outputs": []
    },
    {
      "cell_type": "code",
      "metadata": {
        "id": "sOOJv5NmWHGU",
        "colab": {
          "base_uri": "https://localhost:8080/"
        },
        "outputId": "7921409a-149e-4a3a-c1f1-a434b36a86f4"
      },
      "source": [
        "from nltk.corpus import stopwords\n",
        "nltk.download('stopwords')\n",
        "stopwords.words('english')[1:5]"
      ],
      "execution_count": 33,
      "outputs": [
        {
          "output_type": "stream",
          "text": [
            "[nltk_data] Downloading package stopwords to /root/nltk_data...\n",
            "[nltk_data]   Package stopwords is already up-to-date!\n"
          ],
          "name": "stdout"
        },
        {
          "output_type": "execute_result",
          "data": {
            "text/plain": [
              "['me', 'my', 'myself', 'we']"
            ]
          },
          "metadata": {
            "tags": []
          },
          "execution_count": 33
        }
      ]
    },
    {
      "cell_type": "code",
      "metadata": {
        "id": "q18a4haaWQ0f"
      },
      "source": [
        "# Code to read csv file into Colaboratory:\n",
        "!pip install -U -q PyDrive\n",
        "\n",
        "from pydrive.auth import GoogleAuth\n",
        "from pydrive.drive import GoogleDrive\n",
        "from google.colab import auth\n",
        "from oauth2client.client import GoogleCredentials\n",
        "# Authenticate and create the PyDrive client.\n",
        "auth.authenticate_user()\n",
        "gauth = GoogleAuth()\n",
        "gauth.credentials = GoogleCredentials.get_application_default()\n",
        "drive = GoogleDrive(gauth)"
      ],
      "execution_count": 34,
      "outputs": []
    },
    {
      "cell_type": "code",
      "metadata": {
        "id": "O3p4-Iu9ilIh"
      },
      "source": [
        "train_downloaded = drive.CreateFile({'id': '1l30dRqD9p0Xtx7L7Ge65OAwd_LXOQKvq'})\n",
        "train_downloaded.GetContentFile('spam.csv')"
      ],
      "execution_count": 35,
      "outputs": []
    },
    {
      "cell_type": "code",
      "metadata": {
        "id": "sfbz983Bi1Wf",
        "colab": {
          "base_uri": "https://localhost:8080/",
          "height": 204
        },
        "outputId": "a0136d93-f97e-4fb3-ccbf-a550fde83d1c"
      },
      "source": [
        "\n",
        "df=pd.read_csv('spam.csv',encoding='latin-1')\n",
        "df.head()"
      ],
      "execution_count": 36,
      "outputs": [
        {
          "output_type": "execute_result",
          "data": {
            "text/html": [
              "<div>\n",
              "<style scoped>\n",
              "    .dataframe tbody tr th:only-of-type {\n",
              "        vertical-align: middle;\n",
              "    }\n",
              "\n",
              "    .dataframe tbody tr th {\n",
              "        vertical-align: top;\n",
              "    }\n",
              "\n",
              "    .dataframe thead th {\n",
              "        text-align: right;\n",
              "    }\n",
              "</style>\n",
              "<table border=\"1\" class=\"dataframe\">\n",
              "  <thead>\n",
              "    <tr style=\"text-align: right;\">\n",
              "      <th></th>\n",
              "      <th>v1</th>\n",
              "      <th>v2</th>\n",
              "      <th>Unnamed: 2</th>\n",
              "      <th>Unnamed: 3</th>\n",
              "      <th>Unnamed: 4</th>\n",
              "    </tr>\n",
              "  </thead>\n",
              "  <tbody>\n",
              "    <tr>\n",
              "      <th>0</th>\n",
              "      <td>ham</td>\n",
              "      <td>Go until jurong point, crazy.. Available only ...</td>\n",
              "      <td>NaN</td>\n",
              "      <td>NaN</td>\n",
              "      <td>NaN</td>\n",
              "    </tr>\n",
              "    <tr>\n",
              "      <th>1</th>\n",
              "      <td>ham</td>\n",
              "      <td>Ok lar... Joking wif u oni...</td>\n",
              "      <td>NaN</td>\n",
              "      <td>NaN</td>\n",
              "      <td>NaN</td>\n",
              "    </tr>\n",
              "    <tr>\n",
              "      <th>2</th>\n",
              "      <td>spam</td>\n",
              "      <td>Free entry in 2 a wkly comp to win FA Cup fina...</td>\n",
              "      <td>NaN</td>\n",
              "      <td>NaN</td>\n",
              "      <td>NaN</td>\n",
              "    </tr>\n",
              "    <tr>\n",
              "      <th>3</th>\n",
              "      <td>ham</td>\n",
              "      <td>U dun say so early hor... U c already then say...</td>\n",
              "      <td>NaN</td>\n",
              "      <td>NaN</td>\n",
              "      <td>NaN</td>\n",
              "    </tr>\n",
              "    <tr>\n",
              "      <th>4</th>\n",
              "      <td>ham</td>\n",
              "      <td>Nah I don't think he goes to usf, he lives aro...</td>\n",
              "      <td>NaN</td>\n",
              "      <td>NaN</td>\n",
              "      <td>NaN</td>\n",
              "    </tr>\n",
              "  </tbody>\n",
              "</table>\n",
              "</div>"
            ],
            "text/plain": [
              "     v1  ... Unnamed: 4\n",
              "0   ham  ...        NaN\n",
              "1   ham  ...        NaN\n",
              "2  spam  ...        NaN\n",
              "3   ham  ...        NaN\n",
              "4   ham  ...        NaN\n",
              "\n",
              "[5 rows x 5 columns]"
            ]
          },
          "metadata": {
            "tags": []
          },
          "execution_count": 36
        }
      ]
    },
    {
      "cell_type": "code",
      "metadata": {
        "id": "R3nQDBG4j1kA",
        "colab": {
          "base_uri": "https://localhost:8080/"
        },
        "outputId": "31ce6e6a-ba66-4930-97af-eef3dcbfa0ab"
      },
      "source": [
        "\n",
        "df.info()"
      ],
      "execution_count": 37,
      "outputs": [
        {
          "output_type": "stream",
          "text": [
            "<class 'pandas.core.frame.DataFrame'>\n",
            "RangeIndex: 5572 entries, 0 to 5571\n",
            "Data columns (total 5 columns):\n",
            " #   Column      Non-Null Count  Dtype \n",
            "---  ------      --------------  ----- \n",
            " 0   v1          5572 non-null   object\n",
            " 1   v2          5572 non-null   object\n",
            " 2   Unnamed: 2  50 non-null     object\n",
            " 3   Unnamed: 3  12 non-null     object\n",
            " 4   Unnamed: 4  6 non-null      object\n",
            "dtypes: object(5)\n",
            "memory usage: 217.8+ KB\n"
          ],
          "name": "stdout"
        }
      ]
    },
    {
      "cell_type": "code",
      "metadata": {
        "id": "ztSmufEajCnd",
        "colab": {
          "base_uri": "https://localhost:8080/"
        },
        "outputId": "2bc8045a-0418-4bc5-bea5-8164abdb4b89"
      },
      "source": [
        "#checking the columns with most null values\n",
        "df.isnull().sum()"
      ],
      "execution_count": 38,
      "outputs": [
        {
          "output_type": "execute_result",
          "data": {
            "text/plain": [
              "v1               0\n",
              "v2               0\n",
              "Unnamed: 2    5522\n",
              "Unnamed: 3    5560\n",
              "Unnamed: 4    5566\n",
              "dtype: int64"
            ]
          },
          "metadata": {
            "tags": []
          },
          "execution_count": 38
        }
      ]
    },
    {
      "cell_type": "markdown",
      "metadata": {
        "id": "T8Dl9eVMkDBp"
      },
      "source": [
        "As most of the values in Unnamed: 2 , Unnamed: 3   ,Unnamed: 4 columns are null values lets drop those columns"
      ]
    },
    {
      "cell_type": "code",
      "metadata": {
        "id": "9zVbFBuUjlik"
      },
      "source": [
        "\n",
        "#drop unused columns and label the columns which are used \n",
        "df.drop(labels=[\"Unnamed: 2\" , \"Unnamed: 3\" ,\"Unnamed: 4\"],inplace=True,axis=1)\n",
        "df.columns=['label','text']"
      ],
      "execution_count": 39,
      "outputs": []
    },
    {
      "cell_type": "code",
      "metadata": {
        "id": "d2LkF7Fhk4uc",
        "colab": {
          "base_uri": "https://localhost:8080/"
        },
        "outputId": "2fd87c53-0e42-467c-ed15-9cdb3ccb7f4d"
      },
      "source": [
        "df.shape"
      ],
      "execution_count": 40,
      "outputs": [
        {
          "output_type": "execute_result",
          "data": {
            "text/plain": [
              "(5572, 2)"
            ]
          },
          "metadata": {
            "tags": []
          },
          "execution_count": 40
        }
      ]
    },
    {
      "cell_type": "code",
      "metadata": {
        "id": "ZhGUSmwnlfi_",
        "colab": {
          "base_uri": "https://localhost:8080/",
          "height": 204
        },
        "outputId": "9422f8d8-1cbe-47ef-fe0b-d33961968627"
      },
      "source": [
        "df.head()"
      ],
      "execution_count": 41,
      "outputs": [
        {
          "output_type": "execute_result",
          "data": {
            "text/html": [
              "<div>\n",
              "<style scoped>\n",
              "    .dataframe tbody tr th:only-of-type {\n",
              "        vertical-align: middle;\n",
              "    }\n",
              "\n",
              "    .dataframe tbody tr th {\n",
              "        vertical-align: top;\n",
              "    }\n",
              "\n",
              "    .dataframe thead th {\n",
              "        text-align: right;\n",
              "    }\n",
              "</style>\n",
              "<table border=\"1\" class=\"dataframe\">\n",
              "  <thead>\n",
              "    <tr style=\"text-align: right;\">\n",
              "      <th></th>\n",
              "      <th>label</th>\n",
              "      <th>text</th>\n",
              "    </tr>\n",
              "  </thead>\n",
              "  <tbody>\n",
              "    <tr>\n",
              "      <th>0</th>\n",
              "      <td>ham</td>\n",
              "      <td>Go until jurong point, crazy.. Available only ...</td>\n",
              "    </tr>\n",
              "    <tr>\n",
              "      <th>1</th>\n",
              "      <td>ham</td>\n",
              "      <td>Ok lar... Joking wif u oni...</td>\n",
              "    </tr>\n",
              "    <tr>\n",
              "      <th>2</th>\n",
              "      <td>spam</td>\n",
              "      <td>Free entry in 2 a wkly comp to win FA Cup fina...</td>\n",
              "    </tr>\n",
              "    <tr>\n",
              "      <th>3</th>\n",
              "      <td>ham</td>\n",
              "      <td>U dun say so early hor... U c already then say...</td>\n",
              "    </tr>\n",
              "    <tr>\n",
              "      <th>4</th>\n",
              "      <td>ham</td>\n",
              "      <td>Nah I don't think he goes to usf, he lives aro...</td>\n",
              "    </tr>\n",
              "  </tbody>\n",
              "</table>\n",
              "</div>"
            ],
            "text/plain": [
              "  label                                               text\n",
              "0   ham  Go until jurong point, crazy.. Available only ...\n",
              "1   ham                      Ok lar... Joking wif u oni...\n",
              "2  spam  Free entry in 2 a wkly comp to win FA Cup fina...\n",
              "3   ham  U dun say so early hor... U c already then say...\n",
              "4   ham  Nah I don't think he goes to usf, he lives aro..."
            ]
          },
          "metadata": {
            "tags": []
          },
          "execution_count": 41
        }
      ]
    },
    {
      "cell_type": "code",
      "metadata": {
        "id": "psgAmVFIlxpL",
        "colab": {
          "base_uri": "https://localhost:8080/",
          "height": 264
        },
        "outputId": "081dfe8a-87ba-412d-d6a7-97f7ee2bccff"
      },
      "source": [
        "import matplotlib.pyplot as plt\n",
        "\n",
        "count=df['label'].value_counts()\n",
        "count.plot(kind = 'pie')\n",
        "plt.title('pie chart')\n",
        "plt.ylabel('')\n",
        "plt.show();\n",
        "#portion of text messages actually spam"
      ],
      "execution_count": 42,
      "outputs": [
        {
          "output_type": "display_data",
          "data": {
            "image/png": "[encoded data removed]",
            "text/plain": [
              "<Figure size 432x288 with 1 Axes>"
            ]
          },
          "metadata": {
            "tags": []
          }
        }
      ]
    },
    {
      "cell_type": "markdown",
      "metadata": {
        "id": "WA921hxwE7_g"
      },
      "source": [
        "Feature engineering\n",
        "---------\n",
        "lets see if the text length and the percentage of special characters might be useful for identifying spam messages"
      ]
    },
    {
      "cell_type": "code",
      "metadata": {
        "id": "4PehqMhGT70b"
      },
      "source": [
        ""
      ],
      "execution_count": 43,
      "outputs": []
    },
    {
      "cell_type": "code",
      "metadata": {
        "id": "0Zp0-FZnAyAA"
      },
      "source": [
        "def punct(txt):\n",
        "    count = sum([1 for char in txt if char in string.punctuation])\n",
        "    #counting punctuations\n",
        "    textlen=(len(txt) - txt.count(\" \"))\n",
        "    #counting text length \n",
        "    return round(count/textlen, 3)*100\n",
        "    #percentage of punctuation in text\n",
        "\n",
        "df['text_len'] = df['text'].apply(lambda x: len(x) - x.count(\" \"))\n",
        "df['punct_percent'] = df['text'].apply(lambda x: punct(x))\n"
      ],
      "execution_count": 44,
      "outputs": []
    },
    {
      "cell_type": "code",
      "metadata": {
        "colab": {
          "base_uri": "https://localhost:8080/",
          "height": 204
        },
        "id": "MjfN7fyXEs_I",
        "outputId": "c8f408ee-1b7f-4787-e960-90597c9ffeb8"
      },
      "source": [
        "df.head()"
      ],
      "execution_count": 45,
      "outputs": [
        {
          "output_type": "execute_result",
          "data": {
            "text/html": [
              "<div>\n",
              "<style scoped>\n",
              "    .dataframe tbody tr th:only-of-type {\n",
              "        vertical-align: middle;\n",
              "    }\n",
              "\n",
              "    .dataframe tbody tr th {\n",
              "        vertical-align: top;\n",
              "    }\n",
              "\n",
              "    .dataframe thead th {\n",
              "        text-align: right;\n",
              "    }\n",
              "</style>\n",
              "<table border=\"1\" class=\"dataframe\">\n",
              "  <thead>\n",
              "    <tr style=\"text-align: right;\">\n",
              "      <th></th>\n",
              "      <th>label</th>\n",
              "      <th>text</th>\n",
              "      <th>text_len</th>\n",
              "      <th>punct_percent</th>\n",
              "    </tr>\n",
              "  </thead>\n",
              "  <tbody>\n",
              "    <tr>\n",
              "      <th>0</th>\n",
              "      <td>ham</td>\n",
              "      <td>Go until jurong point, crazy.. Available only ...</td>\n",
              "      <td>92</td>\n",
              "      <td>9.8</td>\n",
              "    </tr>\n",
              "    <tr>\n",
              "      <th>1</th>\n",
              "      <td>ham</td>\n",
              "      <td>Ok lar... Joking wif u oni...</td>\n",
              "      <td>24</td>\n",
              "      <td>25.0</td>\n",
              "    </tr>\n",
              "    <tr>\n",
              "      <th>2</th>\n",
              "      <td>spam</td>\n",
              "      <td>Free entry in 2 a wkly comp to win FA Cup fina...</td>\n",
              "      <td>128</td>\n",
              "      <td>4.7</td>\n",
              "    </tr>\n",
              "    <tr>\n",
              "      <th>3</th>\n",
              "      <td>ham</td>\n",
              "      <td>U dun say so early hor... U c already then say...</td>\n",
              "      <td>39</td>\n",
              "      <td>15.4</td>\n",
              "    </tr>\n",
              "    <tr>\n",
              "      <th>4</th>\n",
              "      <td>ham</td>\n",
              "      <td>Nah I don't think he goes to usf, he lives aro...</td>\n",
              "      <td>49</td>\n",
              "      <td>4.1</td>\n",
              "    </tr>\n",
              "  </tbody>\n",
              "</table>\n",
              "</div>"
            ],
            "text/plain": [
              "  label  ... punct_percent\n",
              "0   ham  ...           9.8\n",
              "1   ham  ...          25.0\n",
              "2  spam  ...           4.7\n",
              "3   ham  ...          15.4\n",
              "4   ham  ...           4.1\n",
              "\n",
              "[5 rows x 4 columns]"
            ]
          },
          "metadata": {
            "tags": []
          },
          "execution_count": 45
        }
      ]
    },
    {
      "cell_type": "code",
      "metadata": {
        "id": "rgSYdhKx9zSJ",
        "colab": {
          "base_uri": "https://localhost:8080/",
          "height": 386
        },
        "outputId": "d8508c32-95a9-422f-c318-027173f2b5d9"
      },
      "source": [
        "import seaborn as sns\n",
        "import numpy as np\n",
        "\n",
        "plt.figure(figsize=(10,8))\n",
        "sns.displot(df,x=\"text_len\",hue=\"label\",palette='CMRmap_r',bins=70)\n",
        "plt.xlim(0,300)\n",
        "plt.tight_layout()"
      ],
      "execution_count": 91,
      "outputs": [
        {
          "output_type": "display_data",
          "data": {
            "text/plain": [
              "<Figure size 720x576 with 0 Axes>"
            ]
          },
          "metadata": {
            "tags": []
          }
        },
        {
          "output_type": "display_data",
          "data": {
            "image/png": "[encoded data removed]",
            "text/plain": [
              "<Figure size 423.25x360 with 1 Axes>"
            ]
          },
          "metadata": {
            "tags": [],
            "needs_background": "light"
          }
        }
      ]
    },
    {
      "cell_type": "code",
      "metadata": {
        "colab": {
          "base_uri": "https://localhost:8080/",
          "height": 289
        },
        "id": "L-jUOVXB4gBG",
        "outputId": "c066e838-99a0-4fb3-8201-b7295a266050"
      },
      "source": [
        "bins = np.linspace(0, 200, 40)\n",
        "df.hist(column='text_len', by='label', bins=50,figsize=(12,4))\n",
        "plt.show()"
      ],
      "execution_count": 47,
      "outputs": [
        {
          "output_type": "display_data",
          "data": {
            "image/png": "[encoded data removed]",
            "text/plain": [
              "<Figure size 864x288 with 2 Axes>"
            ]
          },
          "metadata": {
            "tags": [],
            "needs_background": "light"
          }
        }
      ]
    },
    {
      "cell_type": "markdown",
      "metadata": {
        "id": "na1QNN0h9jT2"
      },
      "source": [
        "From the above plots its clear that spam messages are of more length and text_len emerged as an important feature for identifying spam messages"
      ]
    },
    {
      "cell_type": "code",
      "metadata": {
        "colab": {
          "base_uri": "https://localhost:8080/",
          "height": 386
        },
        "id": "oQGlVMpMA6e0",
        "outputId": "5ae3fc84-e2dd-44b2-84b1-a2a7ae45027b"
      },
      "source": [
        "%matplotlib inline\n",
        "sns.displot(df,x=\"punct_percent\",hue=\"label\",palette='inferno',bins=30)\n",
        "plt.xlim(0,60)"
      ],
      "execution_count": 86,
      "outputs": [
        {
          "output_type": "execute_result",
          "data": {
            "text/plain": [
              "(0.0, 60.0)"
            ]
          },
          "metadata": {
            "tags": []
          },
          "execution_count": 86
        },
        {
          "output_type": "display_data",
          "data": {
            "image/png": "[encoded data removed]",
            "text/plain": [
              "<Figure size 423.25x360 with 1 Axes>"
            ]
          },
          "metadata": {
            "tags": [],
            "needs_background": "light"
          }
        }
      ]
    },
    {
      "cell_type": "code",
      "metadata": {
        "colab": {
          "base_uri": "https://localhost:8080/",
          "height": 281
        },
        "id": "Uao3RzMU-jOf",
        "outputId": "d17f29f9-65bd-45ae-9017-4bf46f5c9bd1"
      },
      "source": [
        "bins = np.linspace(0, 50, 40)\n",
        "\n",
        "plt.hist(df['punct_percent'], bins)\n",
        "plt.title(\"Punctuation % Distribution\")\n",
        "plt.show()"
      ],
      "execution_count": 48,
      "outputs": [
        {
          "output_type": "display_data",
          "data": {
            "image/png": "[encoded data removed]",
            "text/plain": [
              "<Figure size 432x288 with 1 Axes>"
            ]
          },
          "metadata": {
            "tags": [],
            "needs_background": "light"
          }
        }
      ]
    },
    {
      "cell_type": "code",
      "metadata": {
        "id": "24cTNWPC96Cx"
      },
      "source": [
        "import numpy as np\n",
        "df['label']=np.where(df['label']=='spam',1,0)"
      ],
      "execution_count": 31,
      "outputs": []
    },
    {
      "cell_type": "markdown",
      "metadata": {
        "id": "ANPFer4Go34c"
      },
      "source": [
        "Preprocessing the text\n",
        "========="
      ]
    },
    {
      "cell_type": "code",
      "metadata": {
        "colab": {
          "base_uri": "https://localhost:8080/"
        },
        "id": "EIytolV3BkLn",
        "outputId": "d0be212b-8d40-4195-f816-f83dd3c8ebb4"
      },
      "source": [
        "df['text'][8:15]"
      ],
      "execution_count": 55,
      "outputs": [
        {
          "output_type": "execute_result",
          "data": {
            "text/plain": [
              "8     WINNER!! As a valued network customer you have...\n",
              "9     Had your mobile 11 months or more? U R entitle...\n",
              "10    I'm gonna be home soon and i don't want to tal...\n",
              "11    SIX chances to win CASH! From 100 to 20,000 po...\n",
              "12    URGENT! You have won a 1 week FREE membership ...\n",
              "13    I've been searching for the right words to tha...\n",
              "14                  I HAVE A DATE ON SUNDAY WITH WILL!!\n",
              "Name: text, dtype: object"
            ]
          },
          "metadata": {
            "tags": []
          },
          "execution_count": 55
        }
      ]
    },
    {
      "cell_type": "markdown",
      "metadata": {
        "id": "uaHS2-HQqJwh"
      },
      "source": [
        "we can clearly see that the text is containig punctuations ,lets dive into data cleaning"
      ]
    },
    {
      "cell_type": "code",
      "metadata": {
        "id": "9fEc13jshwqr"
      },
      "source": [
        "lemma = nltk.WordNetLemmatizer()"
      ],
      "execution_count": null,
      "outputs": []
    },
    {
      "cell_type": "code",
      "metadata": {
        "id": "OcnVwy4-5sWG"
      },
      "source": [
        "def cleaning_text(text):\n",
        "   #removing punctuations\n",
        "   text=\"\".join([word.lower() for word in text if word not in string.punctuation])\n",
        "   # tokenizing data\n",
        "   tokens=re.split('\\W+',text)\n",
        "   #removal of stopwords from the tokenixed text\n",
        "   text=[lemma.lemmatize(word) for word in tokens if word not in stopwords]\n",
        "   return text"
      ],
      "execution_count": null,
      "outputs": []
    },
    {
      "cell_type": "code",
      "metadata": {
        "id": "TIvZCc2lUnVR"
      },
      "source": [
        "stopwords=nltk.corpus.stopwords.words('english')"
      ],
      "execution_count": null,
      "outputs": []
    },
    {
      "cell_type": "code",
      "metadata": {
        "id": "5t5jb2Mv-7nI",
        "colab": {
          "base_uri": "https://localhost:8080/",
          "height": 238
        },
        "outputId": "9c995592-faab-462a-a0f9-14fc98d93511"
      },
      "source": [
        "import nltk\n",
        "nltk.download('wordnet')\n",
        "df['clean_text'] = df['text'].apply(lambda x: cleaning_text(x))\n",
        "df.head()"
      ],
      "execution_count": null,
      "outputs": [
        {
          "output_type": "stream",
          "text": [
            "[nltk_data] Downloading package wordnet to /root/nltk_data...\n",
            "[nltk_data]   Package wordnet is already up-to-date!\n"
          ],
          "name": "stdout"
        },
        {
          "output_type": "execute_result",
          "data": {
            "text/html": [
              "<div>\n",
              "<style scoped>\n",
              "    .dataframe tbody tr th:only-of-type {\n",
              "        vertical-align: middle;\n",
              "    }\n",
              "\n",
              "    .dataframe tbody tr th {\n",
              "        vertical-align: top;\n",
              "    }\n",
              "\n",
              "    .dataframe thead th {\n",
              "        text-align: right;\n",
              "    }\n",
              "</style>\n",
              "<table border=\"1\" class=\"dataframe\">\n",
              "  <thead>\n",
              "    <tr style=\"text-align: right;\">\n",
              "      <th></th>\n",
              "      <th>label</th>\n",
              "      <th>text</th>\n",
              "      <th>text_len</th>\n",
              "      <th>punct_percent</th>\n",
              "      <th>clean_text</th>\n",
              "    </tr>\n",
              "  </thead>\n",
              "  <tbody>\n",
              "    <tr>\n",
              "      <th>0</th>\n",
              "      <td>0</td>\n",
              "      <td>Go until jurong point, crazy.. Available only ...</td>\n",
              "      <td>92</td>\n",
              "      <td>9.8</td>\n",
              "      <td>[go, jurong, point, crazy, available, bugis, n...</td>\n",
              "    </tr>\n",
              "    <tr>\n",
              "      <th>1</th>\n",
              "      <td>0</td>\n",
              "      <td>Ok lar... Joking wif u oni...</td>\n",
              "      <td>24</td>\n",
              "      <td>25.0</td>\n",
              "      <td>[ok, lar, joking, wif, u, oni]</td>\n",
              "    </tr>\n",
              "    <tr>\n",
              "      <th>2</th>\n",
              "      <td>1</td>\n",
              "      <td>Free entry in 2 a wkly comp to win FA Cup fina...</td>\n",
              "      <td>128</td>\n",
              "      <td>4.7</td>\n",
              "      <td>[free, entry, 2, wkly, comp, win, fa, cup, fin...</td>\n",
              "    </tr>\n",
              "    <tr>\n",
              "      <th>3</th>\n",
              "      <td>0</td>\n",
              "      <td>U dun say so early hor... U c already then say...</td>\n",
              "      <td>39</td>\n",
              "      <td>15.4</td>\n",
              "      <td>[u, dun, say, early, hor, u, c, already, say]</td>\n",
              "    </tr>\n",
              "    <tr>\n",
              "      <th>4</th>\n",
              "      <td>0</td>\n",
              "      <td>Nah I don't think he goes to usf, he lives aro...</td>\n",
              "      <td>49</td>\n",
              "      <td>4.1</td>\n",
              "      <td>[nah, dont, think, go, usf, life, around, though]</td>\n",
              "    </tr>\n",
              "  </tbody>\n",
              "</table>\n",
              "</div>"
            ],
            "text/plain": [
              "   label  ...                                         clean_text\n",
              "0      0  ...  [go, jurong, point, crazy, available, bugis, n...\n",
              "1      0  ...                     [ok, lar, joking, wif, u, oni]\n",
              "2      1  ...  [free, entry, 2, wkly, comp, win, fa, cup, fin...\n",
              "3      0  ...      [u, dun, say, early, hor, u, c, already, say]\n",
              "4      0  ...  [nah, dont, think, go, usf, life, around, though]\n",
              "\n",
              "[5 rows x 5 columns]"
            ]
          },
          "metadata": {
            "tags": []
          },
          "execution_count": 110
        }
      ]
    },
    {
      "cell_type": "code",
      "metadata": {
        "id": "QhZK0J4xXiPo"
      },
      "source": [
        "from sklearn.model_selection import train_test_split"
      ],
      "execution_count": null,
      "outputs": []
    },
    {
      "cell_type": "code",
      "metadata": {
        "id": "QZy9u21_Ui9W"
      },
      "source": [
        "#splitting our data into train and text\n",
        "X_train, X_test, y_train, y_test = train_test_split(df.drop('label',axis=1),df['label'], test_size=0.2)"
      ],
      "execution_count": null,
      "outputs": []
    },
    {
      "cell_type": "markdown",
      "metadata": {
        "id": "SmWtaJhtf5jp"
      },
      "source": [
        "Vectorizing text using TF-IDF\n",
        "==============="
      ]
    },
    {
      "cell_type": "code",
      "metadata": {
        "id": "BYMrWDwUYK46",
        "colab": {
          "base_uri": "https://localhost:8080/"
        },
        "outputId": "8be7ceb0-2912-4f9b-9be2-988462f544cb"
      },
      "source": [
        "tfidf_vect = TfidfVectorizer(analyzer=cleaning_text)\n",
        "train_vect=tfidf_vect.fit_transform(X_train['text'])\n",
        "test_vect = tfidf_vect.transform(X_test['text'])\n",
        "print(tfidf_vect.get_feature_names())"
      ],
      "execution_count": null,
      "outputs": [
        {
          "output_type": "stream",
          "text": [
            "['', '0', '008704050406', '0089my', '01223585236', '01223585334', '0125698789', '02', '020603', '0207', '02070836089', '02072069400', '02073162414', '020903', '021', '050703', '0578', '06', '07008009200', '07046744435', '07090201529', '07099833605', '071104', '07123456789', '0721072', '07732584351', '07742676969', '07753741225', '0776xxxxxxx', '07786200117', '077xxx', '078', '07801543489', '07808', '07808726822', '07815296484', '07821230901', '0789xxxxxxx', '0794674629107880867867', '0796xxxxxx', '07973788240', '07xxxxxxxxx', '0800', '08000407165', '08000776320', '08000839402', '08000930705', '08000938767', '08001950382', '08002888812', '08002986030', '08002986906', '08002988890', '08006344447', '0808', '08081263000', '08081560665', '0844', '08448350055', '08448714184', '0845', '08452810071', '08452810073', '08452810075over18s', '0870', '08700621170150p', '08701213186', '08701237397', '08701417012', '08701417012150p', '08701752560', '087018728737', '0870241182716', '08702490080', '08702840625comuk', '08704439680', '08704439680tscs', '0870737910216yrs', '08707500020', '08707509020', '0870753331018', '08708034412', '08708800282', '08709222922', '08709501522', '0870k', '087104711148', '08712101358', '08712103738', '0871212025016', '08712300220', '087123002209am7pm', '08712317606', '08712400200', '08712400603', '08712402050', '08712402578', '08712402902', '08712404000', '08712405020', '08712405022', '08712460324', '0871277810810', '0871277810910pmin', '087143423992stop', '087147123779am7pm', '08714712379', '08714712394', '08714712412', '08714714011', '08714719523', '08715203028', '08715203649', '08715203652', '08715203656', '08715203677', '08715203685', '08715203694', '08715205273', '08715705022', '08717111821', '08717168528', '08717205546', '08717507382', '08717507711', '08717509990', '08717895698', '08717898035', '08718711108', '08718720201', '08718723815', '08718725756', '08718726270', '08718726270150gbpmtmsg18', '08718726970', '08718726971', '08718726978', '08718727868', '08718727870', '08718729755', '08718729758', '08718730555', '08718730666', '08718738001', '08718738034', '08719180248', '08719181259', '08719181503', '08719181513', '08719839835', '08719899217', '08719899230', '09050000301', '09050000332', '09050000460', '09050000555', '09050000878', '09050000928', '09050001295', '09050001808', '09050002311', '09050003091', '09050005321', '09050090044', '09053750005', '09056242159', '09057039994', '09058091854', '09058091870', '09058094454', '09058094455', '09058094507', '09058094565', '09058094583', '09058094594', '09058094597', '09058094599', '09058095107', '09058095201', '09058097189', '09058097218', '09058098002', '09058099801', '09061104276', '09061104283', '09061209465', '09061213237', '09061221061', '09061221066', '09061701461', '09061701851', '09061701939', '09061702893', '09061743386', '09061743806', '09061743810', '09061744553', '09061749602', '09061790121', '09061790125', '09063440451', '09063442151', '09063458130', '0906346330', '09064011000', '09064012103', '09064012160', '09064015307', '09064017295', '09064017305', '09064018838', '09064019014', '09064019788', '09065069120', '09065069154', '09065171142stopsms08', '09065171142stopsms08718727870150ppm', '09065174042', '09065394514', '09065989180', '09065989182', '09066350750', '09066358152', '09066358361', '09066362206', '09066362220', '09066362231', '09066364311', '09066364349', '09066364589', '09066368470', '09066368753', '09066380611', '09066382422', '09066612661', '09066649731from', '09066660100', '09071512432', '09071512433', '09071517866', '09077818151', '09090204448', '09090900040', '09094100151', '09094646899', '09095350301', '09099725823', '09099726429', '09099726481', '09111030116', '09111032124', '1', '10', '100', '1000', '10000', '1000call', '100603', '100psms', '1013', '101mega', '1030', '10803', '10am7pm', '10am9pm', '10k', '10p', '10pmin', '10ppm', '10th', '11', '1120', '113', '1131', '11414', '116', '1172', '11mths', '12', '120', '12000pes', '1205', '121', '1225', '123', '1230', '1250', '125gift', '128', '12hours', '12hrs', '12mths', '13', '130', '131004', '1327', '13404', '139', '1405', '140ppm', '145', '1450', '146tf150p', '14thmarch', '150', '1500', '150ea', '150morefrmmob', '150msg', '150mtmsgrcvd18', '150p', '150pday', '150perweeksub', '150perwksub', '150pm', '150pmeg', '150pmin', '150pmsg', '150pmsgrcvd', '150pmsgrcvdhgsuite3422landsroww1j6hl', '150pmt', '150pmtmsg', '150pmtmsgrcvd18', '150ppermesssubscription', '150ppm', '150ppmpobox10183bhamb64xe', '150ppmsg', '150prcvd', '150psms', '150ptext', '150ptone', '150pw', '150pwk', '150rcvd', '150week', '150wk', '151', '1526', '153', '15541', '15pmin', '16', '1680', '169', '16only', '177', '18', '181104', '1843', '186å', '18only', '18ptxt', '18yrs', '195', '1956669', '1childish', '1da', '1er', '1hanuman', '1his', '1hr', '1im', '1mcflyall', '1million', '1minmobsmorelkpobox177hp51fl', '1minmoremobsemspobox45po139wa', '1month', '1st', '1u', '1unbreakable', '1winaweek', '1winawk', '1x150pwk', '1yf', '2', '20', '200', '2000', '20000', '2003', '2004', '2005', '2006', '2007', '20f', '20m12aq', '20p', '20pmin', '21870000hi', '21m', '21st', '22', '220cm2', '2309', '230ish', '24', '241', '241004', '247mp', '24hrs', '24m', '24th', '25', '250', '250k', '255', '25f', '25p', '260305', '261004', '261104', '2667', '26th', '2703', '27603', '28', '2814032', '285', '28days', '28th', '28thfebtcs', '29100', '2b', '2bajarangabali', '2bold', '2c', '2day', '2daylove', '2end', '2exit', '2ez', '2geva', '2go', '2godid', '2gthr', '2im', '2kbsubject', '2morow', '2morro', '2morrow', '2morrowxxxx', '2mro', '2mrw', '2naughty', '2nd', '2nhite', '2nights', '2nite', '2nitetell', '2optout', '2p', '2police', '2px', '2rcv', '2stop', '2stoptx', '2stoptxt', '2u', '2u2', '2untamed', '2waxsto', '2when', '2wt', '2wu', '2years', '2yr', '3', '30', '300', '3000', '300603', '300603tcsbcm4235wc1n3xxcallcost150ppmmobilesvary', '300p', '3030', '30apr', '30pptxt', '30th', '31', '3100', '310303', '311004', '31pmsg150p', '32000', '3230', '32323', '326', '32f', '330', '3350', '3365', '350', '3510i', '35p', '3650', '36504', '3680', '3680offer', '373', '3750', '375max', '38', '391784', '399', '3aj', '3cover', '3d', '3db', '3g', '3gbp', '3hrs', '3lions', '3lp', '3maruti', '3mins', '3mobile', '3optical', '3qxj9', '3rd', '3sentiment', '3u', '3unkempt', '3uz', '3wife', '3wk', '3xx', '3xå', '4', '40', '400', '400minscall', '402', '4041', '40533', '40gb', '40mph', '415', '41685', '41782', '420', '42049', '42478', '42810', '430', '434', '44', '447797706009', '447801259231', '447per', '448712404000please', '449050000301', '449071512431', '450', '450p', '450pw', '45239', '46', '47', '4712', '4742', '48', '4882', '49557', '4a', '4cook', '4d', '4eva', '4few', '4get', '4got', '4goten', '4info', '4jx', '4lux', '4mths', '4o', '4pavanaputra', '4press', '4rowdy', '4some1', '4tctxt', '4th', '4the', '4thnovbehind', '4txtì¼120', '4u', '4ui', '4utxt', '4w', '4ward', '4wrd', '5', '50', '500', '5000', '50award', '50p', '50å', '515', '5226', '526', '528', '530', '532', '54', '542', '545', '5903', '5digital', '5free', '5ful', '5gardener', '5gently', '5iåõm', '5k', '5min', '5mls', '5month', '5p', '5pm', '5sankatmochan', '5terror', '5th', '5wb', '5we', '5wkg', '5wq', '5years', '6', '600', '6031', '60400thousadi', '60p', '60pmin', '61200', '61610', '6230', '62468', '62735å', '630', '63miles', '645', '645pm', '650', '6669', '67441233', '68866', '69101', '69200', '69669', '69696', '6986618', '69876', '69888', '69888nyt', '69969', '69988', '6cruel', '6days', '6hl', '6housemaid', '6hrs', '6missed', '6months', '6pm', '6ramaduth', '6romantic', '6th', '6times', '6wu', '7', '700', '71', '725', '7250', '7250i', '730', '730ish', '730pm', '731', '74355', '750', '75000', '7548', '7634', '7684', '7732584351', '78', '786', '7876150ppm', '78pmin', '79', '7cfca1a', '7children', '7ish', '7mahaveer', '7pm', '7romantic', '7shy', '7th', '7ws', '7zs', '8', '80', '800', '8000930705', '80062', '8007', '80082', '80086', '80122300pwk', '80182', '80488', '80488biz', '80608', '8077', '80878', '81151', '81303', '81618', '816183', '82242', '82277', '82277unsub', '82468', '830', '83021', '83039', '83049', '83110', '83118', '83222', '83332please', '83338', '83355', '83370', '83383', '83600', '83738', '84', '84025', '84128', '84128custcare', '84199', '84484', '85', '850', '85023', '85069', '85222', '85233', '8552', '85555', '86021', '861', '863', '864233', '86688', '86888', '87021', '87066', '87070', '87077', '87121', '87131', '8714714', '87239', '87575', '8800', '88039', '88088', '88222', '8830', '88600', '88800', '88877', '88877free', '88888', '89034', '89070', '89080', '89105', '89123', '89545', '89555', '89693', '89938', '8am', '8attractive', '8ball', '8hr', '8lovable', '8neighbour', '8pm', '8th', '8wp', '9', '900', '9153', '924', '930', '945', '946', '95pax', '96', '97n7qp', '9996', '9ae', '9am', '9am11pm', '9decent', '9funny', '9ja', '9pm', '9t', '9th', '9yt', 'a21', 'a30', 'aah', 'aaniye', 'aaooooright', 'aathilove', 'aathiwhere', 'ab', 'abeg', 'aberdeen', 'abi', 'ability', 'abiola', 'abj', 'able', 'abnormally', 'aboutas', 'abroad', 'absence', 'absolutely', 'abstract', 'abt', 'abta', 'aburo', 'abuse', 'abuser', 'ac', 'academic', 'acc', 'accenture', 'accept', 'access', 'accessible', 'accidant', 'accident', 'accidentally', 'accommodation', 'accommodationvouchers', 'accomodate', 'accordingly', 'accordinglyor', 'account', 'accounting', 'accumulation', 'achanammarakheshqatar', 'ache', 'achieve', 'acid', 'acl03530150pm', 'acnt', 'acoentry41', 'across', 'acsmsrewards', 'act', 'acted', 'actin', 'acting', 'action', 'activate', 'active', 'activity', 'actor', 'actual', 'actually', 'acwicmb3cktz8r74', 'ad', 'adam', 'add', 'addamsfa', 'added', 'addicted', 'addie', 'adding', 'address', 'adewale', 'adi', 'adjustable', 'admin', 'administrator', 'admirer', 'admission', 'admiti', 'adore', 'adoring', 'adp', 'adrian', 'adsense', 'adult', 'advance', 'adventure', 'adventuring', 'advice', 'advise', 'advisor', 'aeronautics', 'aeroplane', 'afew', 'affair', 'affection', 'affectionate', 'affidavit', 'afford', 'afghanistan', 'afraid', 'africa', 'aft', 'afternoon', 'afterwards', 'aftr', 'ag', 'agalla', 'age', 'age16', 'age16150ppermesssubscription', 'age23', 'agency', 'agent', 'agesring', 'agidhane', 'aging', 'ago', 'agocusoon', 'agree', 'agreen', 'ah', 'aha', 'ahead', 'ahhh', 'ahhhhjust', 'ahmad', 'ahnow', 'ahold', 'ahsen', 'ahthe', 'ahwhat', 'aid', 'aig', 'aight', 'aint', 'air', 'airport', 'airtel', 'aiya', 'aiyah', 'aiyar', 'aiyo', 'ajith', 'ak', 'aka', 'akonlonely', 'al', 'alaikkumpride', 'alaipayuthe', 'albi', 'album', 'alcohol', 'alert', 'alertfrom', 'aletter', 'alex', 'alexs', 'alfie', 'algarve', 'algebra', 'algorithm', 'ali', 'alian', 'alive', 'alivebetter', 'allah', 'allahrakhesh', 'allday', 'allo', 'allowed', 'allows', 'alls', 'almost', 'alone', 'along', 'alot', 'already', 'alreadysabarish', 'alright', 'alrite', 'alritehave', 'also', 'alsoor', 'alter', 'although', 'alwa', 'always', 'alwys', 'amanda', 'amazing', 'american', 'ami', 'amigo', 'amk', 'ammaelife', 'ammo', 'among', 'amongst', 'amore', 'amount', 'amp', 'amplikater', 'amrca', 'amrita', 'amt', 'amused', 'amx', 'amy', 'an', 'ana', 'anal', 'analysis', 'anand', 'andor', 'andre', 'andrewsboy', 'andros', 'angry', 'animal', 'animation', 'anna', 'annie', 'anniversary', 'annoncement', 'announcement', 'annoyin', 'annoying', 'anonymous', 'anot', 'another', 'ansr', 'answer', 'answered', 'answerin', 'answering', 'answr', 'antelope', 'anthony', 'anti', 'anybody', 'anybodys', 'anymore', 'anyone', 'anyones', 'anyplaces', 'anythin', 'anything', 'anythings', 'anythingtomorrow', 'anytime', 'anyway', 'anyways', 'anywhere', 'aom', 'apart', 'apartment', 'ape', 'apeshit', 'apo', 'apologetic', 'apologise', 'apology', 'app', 'apparently', 'appeal', 'appear', 'appendix', 'applebees', 'applespairsall', 'application', 'apply', 'apply2', 'applyed', 'applying', 'appointment', 'appreciate', 'appreciated', 'approaching', 'appropriate', 'approve', 'approved', 'approx', 'apps', 'appt', 'april', 'aproach', 'apt', 'aptitude', 'aquarius', 'ar', 'arab', 'arabian', 'arcade', 'archive', 'ard', 'area', 'arent', 'arestaurant', 'aretaking', 'argentina', 'argh', 'argue', 'arguing', 'argument', 'aries', 'arise', 'arises', 'arithmetic', 'arm', 'armand', 'armands', 'armenia', 'arng', 'arngd', 'arnt', 'around', 'aroundn', 'arr', 'arrange', 'arranging', 'arrested', 'arrive', 'arrived', 'arrow', 'arsenal', 'art', 'artist', 'arun', 'as', 'asa', 'asap', 'asapok', 'asda', 'ash', 'ashley', 'ashleys', 'ashwini', 'asia', 'asian', 'ask', 'askd', 'asked', 'askin', 'asking', 'asks', 'aslamalaikkuminsha', 'asleep', 'assessment', 'asshole', 'assistance', 'associate', 'assume', 'assumed', 'asthere', 'asthma', 'astne', 'astrology', 'asus', 'asusual1', 'ate', 'athletic', 'athome', 'atlanta', 'atleast', 'atm', 'atrocious', 'attach', 'attached', 'attack', 'attempt', 'atten', 'attend', 'attending', 'attitude', 'attractioni', 'attracts', 'attributed', 'atyour', 'auction', 'auctionpunj', 'audition', 'audrey', 'audreys', 'audrie', 'august', 'aunt', 'auntie', 'aunty', 'aust', 'australia', 'authorise', 'auto', 'autocorrect', 'av', 'ava', 'availa', 'available', 'availablei', 'availablethey', 'avalarr', 'avatar', 'ave', 'avenge', 'avent', 'avenue', 'avin', 'avo', 'avoid', 'avoiding', 'avoids', 'await', 'awaiting', 'awake', 'award', 'awarded', 'away', 'awesome', 'awkward', 'aww', 'awww', 'axis', 'ay', 'ayn', 'aå', 'b', 'b4', 'b4190604', 'b4280703', 'b4u', 'ba', 'ba128nnfwfly150ppm', 'babe', 'babesozi', 'baby', 'babygoodbye', 'babyjontet', 'babysit', 'babysitting', 'bac', 'back', 'backwards', 'bad', 'badass', 'badly', 'badrith', 'bag', 'bagi', 'bahamas', 'baig', 'bailiff', 'bak', 'bakra', 'bakrid', 'balance', 'ball', 'baller', 'bam', 'bambling', 'ban', 'band', 'bandage', 'bang', 'bank', 'banneduk', 'banter', 'bar', 'barcelona', 'barely', 'bari', 'barkley', 'barmed', 'barolla', 'barred', 'barring', 'barry', 'base', 'bash', 'basic', 'basically', 'basket', 'basketball', 'basqihave', 'bat', 'batch', 'bath', 'bathe', 'bathing', 'bathroom', 'batsman', 'batt', 'battery', 'bawling', 'bay', 'bb', 'bbc', 'bbdeluxe', 'bblue', 'bc', 'bcaz', 'bck', 'bcm1896wc1n3xx', 'bcm4284', 'bcmsfwc1n3xx', 'bcoz', 'bcum', 'bcums', 'bcz', 'bday', 'bead', 'bear', 'beating', 'beautiful', 'beautifulmay', 'beauty', 'bec', 'becaus', 'becausethey', 'become', 'becomes', 'becoz', 'becz', 'bed', 'bedrm900', 'bedroom', 'bedroomlove', 'beeen', 'beer', 'beerage', 'beerrs', 'befor', 'beforehand', 'beforewent', 'beg', 'beggar', 'begging', 'begin', 'begun', 'behalf', 'behave', 'behind', 'bein', 'believe', 'belive', 'bell', 'bellearlier', 'belly', 'belongs', 'belovd', 'beloved', 'belt', 'ben', 'beneath', 'beneficiary', 'benefit', 'bergkamp', 'best', 'best1', 'bestcongrats', 'bestrply', 'bet', 'beta', 'beth', 'betta', 'better', 'bevieswaz', 'beware', 'beyond', 'bf', 'bffs', 'bfore', 'bhayandar', 'bian', 'biatch', 'bid', 'big', 'bigger', 'biggest', 'bill', 'billed', 'billing', 'billion', 'billy', 'bilo', 'bin', 'biola', 'bird', 'birla', 'biro', 'birth', 'birthdate', 'birthday', 'bishan', 'bit', 'bitch', 'bitching', 'bite', 'bk', 'black', 'blackberry', 'blackim', 'blacko', 'blake', 'blame', 'blank', 'blanket', 'blastin', 'bleak', 'bleh', 'bless', 'blessed', 'blessget', 'blessing', 'blind', 'block', 'blocked', 'blogging', 'bloke', 'blonde', 'bloo', 'blood', 'bloodblood', 'bloodsend', 'bloody', 'bloomberg', 'bloombergcom', 'blow', 'blu', 'blue', 'bluetooth', 'bluetoothhdset', 'blueu', 'bluff', 'bluray', 'bmw', 'boat', 'boatin', 'bob', 'body', 'boggy', 'bognor', 'bold', 'bold2', 'boltblue', 'bomb', 'bonus', 'boo', 'boob', 'book', 'booked', 'bookedthe', 'booking', 'bookmark', 'boooo', 'boost', 'booty', 'bootydelious', 'bored', 'borin', 'boring', 'born', 'bornplease', 'borrow', 'bos', 'boston', 'bot', 'bother', 'bothering', 'bottle', 'bottom', 'bought', 'bout', 'boutxx', 'bowl', 'box', 'box1146', 'box139', 'box177', 'box245c2150pm', 'box326', 'box334', 'box334sk38ch', 'box385', 'box39822', 'box403', 'box420', 'box42wr29c', 'box434sk38wp150ppm18', 'box61m60', 'box95qu', 'box97n7qp', 'boy', 'boye', 'boyf', 'boyfriend', 'boytoy', 'boyy', 'bpo', 'bra', 'brah', 'brain', 'brainless', 'brainy', 'brand', 'brandy', 'brat', 'braved', 'bray', 'brb', 'brdget', 'bread', 'breadstick', 'break', 'breaker', 'breakin', 'breaking', 'breath', 'breathe', 'breathe1', 'breather', 'breeze', 'breezy', 'bridge', 'bridgwater', 'brief', 'bright', 'brighten', 'brilliant', 'brilliant1thingi', 'bring', 'bringing', 'brings', 'bristol', 'british', 'britney', 'bro', 'broad', 'broadband', 'broke', 'broken', 'bros', 'broth', 'brothas', 'brother', 'brought', 'browni', 'brownie', 'browse', 'browser', 'bruce', 'brum', 'bruv', 'bslvyl', 'bsnl', 'bstfrnd', 'bt', 'bthmm', 'btnational', 'btnationalrate', 'btooth', 'btw', 'buck', 'bud', 'buddy', 'budget', 'buen', 'buff', 'buffet', 'buffy', 'bugis', 'build', 'building', 'bulb', 'bull', 'bun', 'bunch', 'bunker', 'burden', 'burger', 'burgundy', 'burial', 'burn', 'burning', 'burnt', 'burrito', 'bus', 'bus822656166382', 'business', 'busty', 'busy', 'busyi', 'butt', 'buttheres', 'button', 'buy', 'buyer', 'buying', 'buzy', 'buzz', 'buzzzz', 'bw', 'bx', 'bx420', 'bx420ip45we', 'bx526', 'bye', 'byåóleafcutter', 'båõday', 'c', 'c52', 'cab', 'cabin', 'cable', 'cafe', 'cage', 'cake', 'caken', 'cal', 'calculated', 'cali', 'calicut', 'california', 'call', 'call09050000327', 'call2optout4qf2', 'call2optout674', 'call2optoutf4q', 'call2optouthf8', 'call2optoutj5q', 'call2optoutlf56', 'call2optoutn9dx', 'call2optoutyhl', 'callback', 'callcost', 'callcoz', 'calld', 'calldrove', 'called', 'caller', 'callertune', 'callfreefone', 'callin', 'calling', 'callingforgot', 'callon', 'calls150ppm', 'callsmessagesmissed', 'callså', 'calm', 'cam', 'camcorder', 'came', 'camera', 'cameravideo', 'camp', 'campus', 'canada', 'canal', 'canary', 'cancel', 'canceled', 'cancelled', 'cancer', 'canlove', 'canname', 'cannot', 'cannt', 'cant', 'cantdo', 'canteen', 'canåõt', 'capacity', 'capital', 'cappuccino', 'captain', 'captaining', 'car', 'card', 'cardiff', 'cardin', 'care', 'careabout', 'cared', 'career', 'careful', 'carefully', 'careinsha', 'careless', 'carente', 'careswt', 'careumma', 'caring', 'carlin', 'carlos', 'carlosll', 'carly', 'carolina', 'caroline', 'carry', 'carryin', 'cartoon', 'case', 'cash', 'cashbalance', 'cashbincouk', 'cashin', 'cashto', 'casing', 'cast', 'casting', 'castor', 'casualty', 'cat', 'catch', 'catching', 'category', 'caught', 'cause', 'causing', 'caveboy', 'cbe', 'cc', 'cc100pmin', 'cd', 'cdgt', 'cedar', 'ceiling', 'celeb4', 'celebrate', 'celebration', 'cell', 'census', 'center', 'centre', 'century', 'cereal', 'certainly', 'certificate', 'cha', 'chad', 'chain', 'challenge', 'challenging', 'champ', 'champlaxigating', 'champneys', 'chance', 'change', 'changed', 'changing', 'channel', 'chap', 'chapel', 'chapter', 'character', 'charge', 'charged', 'charged150pmsg2', 'charity', 'charles', 'charlie', 'charming', 'chart', 'chase', 'chasing', 'chastity', 'chat', 'chatim', 'chatlines', 'chatting', 'cheap', 'cheaper', 'cheat', 'cheating', 'chechi', 'check', 'checkboxes', 'checked', 'checkin', 'checking', 'checkmate', 'checkup', 'cheek', 'cheer', 'cheered', 'cheese', 'cheesy', 'chef', 'chennai', 'chennaibecause', 'chennaii', 'cherish', 'cherthalain', 'chess', 'chest', 'chex', 'chez', 'chg', 'chgs', 'chic', 'chick', 'chicken', 'chickened', 'chief', 'chik', 'chikku', 'chikkuali', 'chikkub', 'chikkudb', 'chikkugoing', 'chikkuil', 'chikkuk', 'chikkusimple', 'chikkuwat', 'child', 'childish', 'childporn', 'chile', 'chill', 'chillaxin', 'chillin', 'china', 'chinchilla', 'chinese', 'chinky', 'chiong', 'chip', 'chloe', 'chocolate', 'choice', 'choose', 'choosing', 'chop', 'chord', 'chore', 'chosen', 'chrgd50p', 'christ', 'christian', 'christmas', 'christmasmerry', 'christmassy', 'chuck', 'chuckin', 'church', 'ciao', 'cin', 'cine', 'cinema', 'citizen', 'city', 'cl', 'claim', 'claire', 'clarification', 'clarify', 'clas', 'class', 'classic', 'classmate', 'cld', 'clean', 'cleaning', 'clear', 'cleared', 'clearer', 'clearing', 'clearly', 'clever', 'click', 'cliff', 'clip', 'clock', 'clos1', 'close', 'closeby', 'closed', 'closedincluding', 'closer', 'cloth', 'clothes', 'cloud', 'club', 'club4', 'club4mobilescom', 'clue', 'cm', 'cme', 'cmon', 'cn', 'cnn', 'co', 'coach', 'coast', 'coat', 'coaxing', 'cocacola', 'coccooning', 'cochin', 'cock', 'cocksucker', 'coco', 'code', 'code4xx26', 'coffee', 'coherently', 'coimbatore', 'coin', 'coincidence', 'colany', 'cold', 'colin', 'collapsed', 'colleague', 'collect', 'collected', 'collecting', 'collection', 'colleg', 'college', 'collegexx', 'color', 'colour', 'colourful', 'colourredtextcolourtxtstar', 'com', 'comb', 'combination', 'combine', 'come', 'comedy', 'comedycant', 'comei', 'comfey', 'comfort', 'comin', 'coming', 'comingdown', 'comingtmorow', 'comment', 'commercial', 'commit', 'common', 'community', 'comp', 'companion', 'company', 'compare', 'compass', 'compensation', 'competition', 'complacent', 'complain', 'complaining', 'complaint', 'complementary', 'complete', 'completed', 'completely', 'completes', 'completing', 'complexity', 'complimentary', 'comprehensive', 'compromised', 'computational', 'computer', 'computerless', 'con', 'conacted', 'concentrate', 'concentrating', 'concentration', 'concern', 'concerned', 'concert', 'conclusion', 'condition', 'conduct', 'conected', 'conference', 'confidence', 'configure', 'confirm', 'confirmd', 'confirmdeny', 'confirmed', 'conform', 'confused', 'confuses', 'congrats', 'congratulation', 'connect', 'connection', 'consensus', 'consent', 'conserve', 'consider', 'considering', 'consistently', 'console', 'constant', 'constantly', 'contact', 'contacted', 'content', 'contented', 'contention', 'continent', 'continued', 'contract', 'contribute', 'control', 'convenience', 'conversation', 'converted', 'converter', 'convey', 'conveying', 'convince', 'convinced', 'convincing', 'cook', 'cooked', 'cooking', 'cooky', 'cool', 'coolmob', 'cooperative', 'cop', 'copied', 'coping', 'copy', 'corect', 'cornwall', 'corporation', 'corrct', 'correct', 'correction', 'correctionor', 'correctly', 'corrupt', 'corvette', 'cost', 'costa', 'costing', 'costume', 'costå', 'couch', 'cougarpen', 'cough', 'coughing', 'could', 'coulda', 'couldnt', 'couldnåõt', 'count', 'countin', 'countinlots', 'country', 'coupla', 'couple', 'courage', 'courageous', 'course', 'court', 'courtroom', 'cousin', 'cover', 'coveragd', 'coz', 'cozy', 'cps', 'cr01327bt', 'cr9', 'crab', 'crack', 'craigslist', 'crammed', 'cramp', 'crap', 'crash', 'crashed', 'crashing', 'crave', 'craving', 'craziest', 'crazy', 'crazyin', 'cream', 'created', 'creative', 'creativity', 'cred', 'credit', 'credited', 'creep', 'creepy', 'cresubi', 'cribbs', 'cricket', 'cricketer', 'crickiting', 'cried', 'crisis', 'cro1327', 'crore', 'cross', 'croydon', 'crucial', 'crucify', 'cruise', 'cruisin', 'crush', 'cry', 'csh11', 'cst', 'cstore', 'ctagg', 'ctargg', 'cthen', 'ctla', 'cttargg', 'ctter', 'cttergg', 'cuck', 'cud', 'cuddle', 'cuddled', 'cuddling', 'cudnt', 'culdnt', 'culture', 'cum', 'cumming', 'cup', 'cupboard', 'cuppa', 'curfew', 'curious', 'current', 'currently', 'curry', 'cust', 'custcare', 'custcare08718720201', 'custom', 'customer', 'customercare', 'cut', 'cute', 'cutefrnd', 'cutest', 'cutie', 'cutter', 'cutting', 'cuz', 'cw25wx', 'cya', 'cyclist', 'da', 'daal', 'daalways', 'dabooks', 'dad', 'daddy', 'dado', 'dagood', 'dahe', 'dahow', 'dai', 'daily', 'dajst', 'dammit', 'damn', 'dan', 'dancce', 'dance', 'dancing', 'dane', 'dang', 'danger', 'dangerous', 'dao', 'daplease', 'dare', 'dark', 'darker', 'darkness', 'darlin', 'darling', 'darlinim', 'darren', 'dartboard', 'dasara', 'dat', 'data', 'date', 'datebox1282essexcm61xn', 'dating', 'datingi', 'datoday', 'daurgent', 'dave', 'dawhats', 'dawhere', 'dawn', 'day', 'day2', 'day2find', 'dayexcept', 'dayhas', 'dayshe', 'daysso', 'daysì', 'daytime', 'dayu', 'daywith', 'dd', 'de', 'dead', 'deadwell', 'deal', 'dealer', 'dealfarm', 'dealing', 'deam', 'dear', 'dear1', 'dearer', 'deari', 'dearloving', 'dearly', 'dearme', 'dearrakhesh', 'dearregret', 'dearshall', 'dearslp', 'deartake', 'deary', 'death', 'debating', 'dec', 'decade', 'december', 'decide', 'decided', 'deciding', 'decimal', 'decision', 'deck', 'decking', 'declare', 'decorating', 'dedicate', 'dedicated', 'deduct', 'deep', 'deepak', 'deer', 'deeraj', 'def', 'defeat', 'defer', 'definite', 'definitely', 'degree', 'dehydration', 'del', 'delay', 'delayed', 'delete', 'deleted', 'delhi', 'deliver', 'delivered', 'deliveredtomorrow', 'delivery', 'deltomorrow', 'deluxe', 'dem', 'den', 'dena', 'dengra', 'dent', 'dentist', 'denying', 'department', 'dependable', 'dependent', 'depends', 'deposit', 'deposited', 'depressed', 'dept', 'der', 'derek', 'dereks', 'derp', 'describe', 'description', 'desert', 'deserve', 'designation', 'desire', 'desk', 'desparate', 'desperate', 'despite', 'dessert', 'destination', 'detail', 'detailsi', 'determine', 'determined', 'detroit', 'deus', 'develop', 'developer', 'device', 'devil', 'devouring', 'dey', 'deyhope', 'deyi', 'dhina', 'dhoni', 'dhorte', 'di', 'dial', 'dialling', 'dialogue', 'diamond', 'diaper', 'dick', 'dictionary', 'diddy', 'didnt', 'didntgive', 'didnåõt', 'didt', 'die', 'died', 'diesel', 'diet', 'diff', 'differ', 'differbe', 'difference', 'different', 'difficult', 'difficulty', 'dificult', 'digi', 'digit', 'digital', 'dignity', 'dileepthank', 'dime', 'dimension', 'din', 'dine', 'dinero', 'ding', 'dining', 'dinner', 'dinnermsg', 'dino', 'dint', 'dip', 'dippeditinadew', 'direct', 'directly', 'director', 'dirt', 'dirtiest', 'dirty', 'dis', 'disagreeable', 'disappeared', 'disappointment', 'disaster', 'disastrous', 'disc', 'disclose', 'disconnect', 'disconnected', 'discount', 'discreet', 'discus', 'discussed', 'diskyou', 'dislike', 'dismay', 'dismissial', 'display', 'distance', 'distract', 'disturb', 'disturbing', 'divert', 'division', 'divorce', 'diwali', 'dizzamn', 'dizzee', 'dl', 'dled', 'dload', 'dnt', 'dob', 'dobby', 'dobbys', 'doc', 'dock', 'doctor', 'document', 'dodda', 'dodgey', 'doesdiscountshitinnit', 'doesnt', 'doesnåõt', 'dog', 'dogbreath', 'doggin', 'dogging', 'doggy', 'dogwood', 'doin', 'doinat', 'doinghow', 'doingwhat', 'dointerested', 'dokey', 'doll', 'dollar', 'dolld', 'dom', 'domain', 'donate', 'done', 'dont', 'dont4get2text', 'dontcha', 'donyt', 'donåõt', 'doom', 'door', 'dorm', 'dorothykiefercom', 'dose', 'dosomething', 'dot', 'double', 'doublefaggot', 'doublemins', 'doubletxt', 'doubt', 'dough', 'download', 'downloaded', 'downloads', 'downon', 'downstem', 'dozen', 'dr', 'dracula', 'drama', 'dramastorms', 'dramatic', 'drastic', 'draw', 'dreading', 'dream', 'dreamlove', 'dreamsmuah', 'dress', 'dressed', 'dresser', 'drink', 'drinkin', 'drinking', 'drinkpa', 'drive', 'driver', 'drivin', 'driving', 'drizzling', 'drms', 'drmstake', 'drop', 'dropped', 'drove', 'drpd', 'drug', 'drugdealer', 'drum', 'drunk', 'drunkard', 'drunken', 'drvgsto', 'dry', 'dryer', 'dsnt', 'dt', 'dual', 'dub', 'dubsack', 'duchess', 'ducking', 'dude', 'dudette', 'due', 'dull', 'dumb', 'dump', 'dun', 'dungerees', 'dunno', 'duo', 'durban', 'durham', 'dusk', 'dust', 'duvet', 'dvd', 'dwn', 'dysentry', 'e', 'e14', 'eachother', 'ear', 'earlier', 'earlierwe', 'earliest', 'early', 'earn', 'earning', 'earth', 'earthsofa', 'easier', 'easiest', 'easily', 'east', 'eastenders', 'easter', 'easy', 'eat', 'eaten', 'eatin', 'eating', 'ebay', 'ec2a', 'echo', 'eckankar', 'ecstacy', 'ecstasy', 'edge', 'edhae', 'edison', 'edition', 'edrunk', 'education', 'educational', 'edukkukayee', 'edward', 'ee', 'eerie', 'eerulli', 'effect', 'efficient', 'efreefone', 'eg', 'egbon', 'egg', 'eggpotato', 'eggspert', 'ego', 'eh', 'eight', 'eighth', 'eire', 'either', 'el', 'ela', 'elaine', 'elama', 'elaya', 'election', 'electricity', 'elephant', 'elliot', 'ello', 'else', 'elsewhere', 'elvis', 'em', 'email', 'embarassed', 'embarrassed', 'embassy', 'emerging', 'emigrated', 'emily', 'emotion', 'employee', 'empty', 'en', 'enamous', 'enc', 'end', 'ended', 'ending', 'enemy', 'energy', 'eng', 'engaged', 'engagement', 'engalnd', 'engin', 'england', 'english', 'enjoy', 'enjoyed', 'enjoyin', 'enna', 'ennal', 'enough', 'enter', 'entered', 'enters', 'entertaining', 'entey', 'entire', 'entirely', 'entitled', 'entrepreneur', 'entropication', 'entry', 'enufcredeit', 'enuff', 'envelope', 'envy', 'epsilon', 'equally', 'er', 'ericson', 'ericsson', 'erm', 'erotic', 'err', 'error', 'ertini', 'eruku', 'erupt', 'erutupalam', 'erything', 'esaplanade', 'escalator', 'escape', 'ese', 'eshxxxxxxxxxxx', 'especially', 'espell', 'esplanade', 'essential', 'establish', 'eta', 'etc', 'eternal', 'ethnicity', 'ethreats', 'ettans', 'euro', 'euro2004', 'eurodisinc', 'europe', 'eve', 'eveb', 'evei', 'even', 'evening', 'event', 'eventually', 'ever', 'every', 'every1', 'everybody', 'everybodys', 'everyboy', 'everyday', 'everyone', 'everyones', 'everyso', 'everythin', 'everything', 'everytime', 'everywhere', 'evey', 'evil', 'evn', 'evng', 'evo', 'evone', 'evr', 'evrey', 'evry', 'evry1', 'evrydy', 'ew', 'ex', 'exact', 'exactly', 'exam', 'excellent', 'except', 'exchanged', 'exciting', 'excuse', 'excused', 'exe', 'executive', 'exeter', 'exhaust', 'exhausted', 'exhibition', 'exist', 'exmpel', 'exorcism', 'exorcist', 'exp', 'expect', 'expecting', 'expects', 'expensive', 'experience', 'experiencehttpwwwvouch4mecometlpdiningasp', 'expert', 'expired', 'expiredso', 'expires', 'expiry', 'explain', 'explicit', 'explicitly', 'explosive', 'exposed', 'express', 'expression', 'ext', 'exterminator', 'extra', 'extract', 'extreme', 'ey', 'eye', 'eyeddont', 'eå', 'f', 'fa', 'fab', 'faber', 'face', 'faceasssssholeeee', 'facebook', 'facility', 'fact', 'factory', 'faggy', 'faglord', 'failed', 'failing', 'fails', 'failure', 'fainting', 'fair', 'faith', 'faithevening', 'fake', 'fakemy', 'fakeyes', 'fal', 'falconerf', 'fall', 'fallen', 'falling', 'fals', 'famamus', 'family', 'familymay', 'famous', 'fan', 'fancied', 'fancy', 'fantastic', 'fantasy', 'far', 'farm', 'farrell', 'farting', 'fassyole', 'fast', 'faster', 'fastest', 'fastpls', 'fat', 'fated', 'father', 'fathima', 'fatty', 'fault', 'faultal', 'faultfed', 'fav', 'fave', 'favor', 'favorite', 'favour', 'favourite', 'fb', 'fear', 'feature', 'feb', 'febapril', 'february', 'fedex', 'fee', 'feed', 'feel', 'feelin', 'feeling', 'fell', 'fellow', 'felt', 'female', 'feng', 'festival', 'fetch', 'fetching', 'fever', 'ffffffffff', 'ffffuuuuuuu', 'fgkslpo', 'fgkslpopw', 'fidalfication', 'field', 'fieldof', 'fiendmake', 'fifa', 'fifteen', 'fifth', 'fifty', 'fight', 'fighting', 'fightng', 'figure', 'file', 'fill', 'filled', 'filling', 'film', 'filth', 'filthy', 'filthyguys', 'final', 'finalise', 'finally', 'finance', 'find', 'finding', 'fine', 'fineabsolutly', 'finest', 'finewhen', 'finger', 'finish', 'finishd', 'finished', 'finishing', 'finn', 'fire', 'firefox', 'fireplace', 'firmware', 'firsg', 'first', 'fish', 'fit', 'fiting', 'five', 'fix', 'fixd', 'fixed', 'fixedline', 'flag', 'flaked', 'flaky', 'flash', 'flat', 'flatter', 'flavour', 'flea', 'flew', 'flight', 'flim', 'flip', 'flirt', 'flirting', 'floating', 'flood', 'floor', 'floppy', 'florida', 'flower', 'flowing', 'fluid', 'flung', 'fly', 'flyim', 'flying', 'flyng', 'fml', 'fo', 'fold', 'foley', 'folk', 'follow', 'followed', 'followin', 'following', 'follows', 'fond', 'fone', 'foned', 'fones', 'food', 'fool', 'fooled', 'foot', 'football', 'footblcrckt', 'footie', 'footprint', 'footy', 'force', 'forced', 'foregate', 'foreign', 'forever', 'forevr', 'forfeit', 'forget', 'forgets', 'forgiven', 'forgiveness', 'forgot', 'forgotten', 'form', 'formal', 'formallypls', 'format', 'formatting', 'formclark', 'formsdon', 'forth', 'fortune', 'forum', 'forward', 'forwarded', 'forwarding', 'forå', 'found', 'four', 'fourth', 'foward', 'fowler', 'fox', 'fps', 'fr', 'fran', 'frankgood', 'franyxxxxx', 'fraud', 'freak', 'freaking', 'freaky', 'free', 'free2day', 'freedom', 'freefone', 'freek', 'freely', 'freemessage', 'freemsg', 'freemsgfav', 'freemsgfeelin', 'freenokia', 'freephone', 'freeringtone', 'freeringtonereply', 'freesend', 'freezing', 'fren', 'french', 'frens', 'frequently', 'fresh', 'fri', 'friday', 'fried', 'friend', 'friendofafriend', 'friendsare', 'friendship', 'friendshipmotherfatherteacherschildrens', 'fringe', 'frm', 'frnd', 'frnds', 'frndship', 'frndsship', 'frndz', 'frnt', 'fro', 'frog', 'frogaxel', 'fromm', 'front', 'frontierville', 'frosty', 'frwd', 'frying', 'ft', 'fuck', 'fucked', 'fuckin', 'fucking', 'fuckinniceselfish', 'fuelled', 'fujitsu', 'fulfil', 'full', 'fullonsmscom', 'fun', 'function', 'fund', 'funeral', 'funk', 'funky', 'funny', 'furniture', 'fusion', 'future', 'fuuuuck', 'fwiw', 'fyi', 'g', 'g2', 'g696ga', 'gailxx', 'gain', 'gained', 'gal', 'galcan', 'galileo', 'galno', 'galsu', 'gam', 'game', 'gamestar', 'gandhipuram', 'ganesh', 'gang', 'gap', 'garage', 'garbage', 'garden', 'gari', 'garment', 'gary', 'gas', 'gate', 'gauge', 'gautham', 'gave', 'gay', 'gayle', 'gaytextbuddycom', 'gbp', 'gbp150week', 'gbp450week', 'gbp5month', 'gbpsms', 'gbpweek', 'gd', 'ge', 'gee', 'geeeee', 'geelater', 'gei', 'gek1510', 'gender', 'generally', 'genius', 'gent', 'gentle', 'gentleman', 'gently', 'genuine', 'genus', 'geoenvironmental', 'george', 'gep', 'ger', 'germany', 'get', 'get4an18th', 'getiing', 'geting', 'getsleep', 'getstop', 'gettin', 'getting', 'getzedcouk', 'gf', 'ghodbandar', 'ghost', 'gibe', 'gift', 'gifted', 'giggle', 'gigolo', 'gimme', 'gimmi', 'gin', 'girl', 'girld', 'girlfrnd', 'girlie', 'gist', 'giv', 'give', 'given', 'giving', 'givits', 'glad', 'gland', 'glasgow', 'glass', 'glo', 'global', 'glorious', 'gloucesterroad', 'gm', 'gmgngegn', 'gn', 'gnarl', 'go', 'go2', 'go2sri', 'goal', 'goalsteam', 'gobi', 'god', 'godi', 'godnot', 'godtaken', 'goggles', 'goigng', 'goin', 'goin2bed', 'going', 'gokila', 'gold', 'golddigger', 'golden', 'gon', 'gona', 'gone', 'goneu', 'gonna', 'gonnamissu', 'good', 'gooddhanush', 'goodenvironment', 'goodfine', 'goodfriend', 'goodmate', 'goodmorning', 'goodmorningmy', 'goodnight', 'goodnite', 'goodno', 'goodnoon', 'goodo', 'goodtimeoli', 'goodwhen', 'goody', 'google', 'gopalettan', 'gorgeous', 'gosh', 'gossip', 'gossx', 'got', 'gota', 'gotmarried', 'goto', 'gotta', 'gotten', 'goverment', 'govtinstituitions', 'gowait', 'gower', 'gprs', 'gpu', 'gr8', 'gr8fun', 'gr8prizes', 'grab', 'graduated', 'grahmbell', 'gram', 'gran', 'grand', 'grandfather', 'grandma', 'granite', 'granted', 'graphic', 'grasp', 'grateful', 'gravel', 'gravity', 'gravy', 'grazed', 'gre', 'great', 'greatbhaji', 'greatbye', 'greatest', 'greatly', 'greatness', 'greece', 'green', 'greeni', 'greet', 'greeting', 'grief', 'grin', 'grinder', 'grinule', 'grl', 'grocer', 'grooved', 'groovy', 'groovying', 'ground', 'groundamla', 'group', 'grow', 'growing', 'grown', 'growrandom', 'grr', 'grumble', 'grumpy', 'gsex', 'gsoh', 'gt', 'gua', 'guai', 'guaranteed', 'gud', 'gudk', 'gudni8', 'gudnite', 'gudnitetcpractice', 'gudnyt', 'guess', 'guessin', 'guidance', 'guide', 'guild', 'guilty', 'gumbys', 'guoyang', 'gurl', 'gut', 'guy', 'gv', 'gving', 'gwr', 'gym', 'gymnastics', 'h', 'ha', 'habbahw', 'habit', 'hadnt', 'hadya', 'haf', 'haha', 'hahahause', 'hahatake', 'hai', 'hail', 'hair', 'haircut', 'hairdresser', 'haiyoh', 'haiz', 'half', 'half8th', 'hall', 'halla', 'hallaq', 'halloween', 'ham', 'hamster', 'hand', 'handed', 'handing', 'handle', 'handset', 'handsome', 'handsomes', 'hanger', 'hanging', 'hank', 'hannaford', 'hanumanji', 'happen', 'happend', 'happened', 'happenin', 'happening', 'happens', 'happier', 'happily', 'happiness', 'happy', 'hard', 'hardcore', 'hari', 'harishs', 'harlem', 'harri', 'harry', 'hasbroin', 'hasnt', 'hat', 'hate', 'haunt', 'hav', 'hava', 'havent', 'haventcn', 'havenåõt', 'havin', 'havnt', 'hdd', 'he', 'head', 'headache', 'heading', 'headset', 'headstart', 'healer', 'healthy', 'heap', 'hear', 'heard', 'hearing', 'heart', 'hearted', 'heartgn', 'heartheart', 'heartsnot', 'heat', 'heaven', 'heavily', 'heavy', 'hee', 'height', 'held', 'helen', 'hell', 'hella', 'hello', 'hellodrivby0quit', 'helloed', 'hellogorgeous', 'hellohow', 'helloooo', 'helloyou', 'help', 'help08700469649', 'help08700621170150p', 'help08712400602450p', 'help08714742804', 'help08718728876', 'helpful', 'helping', 'heltiniiyo', 'hen', 'hence', 'henry', 'hep', 'hereremember', 'herethanksi', 'heri', 'herlove', 'hermy', 'hero', 'heroi', 'heron', 'hershe', 'herwho', 'herwill', 'hesitant', 'hesitate', 'hesitation', 'hex', 'hey', 'heygreat', 'hgsuite3422lands', 'hgsuite3422landsroww1j6hl', 'hi', 'hicts', 'hidden', 'hide', 'hidid', 'hiding', 'high', 'highest', 'hii', 'hill', 'hillsborough', 'himso', 'hint', 'hip', 'hiphop', 'hire', 'hisher', 'history', 'hit', 'hitechnical', 'hitman', 'hitteranyway', 'hittng', 'hiya', 'hl', 'hlday', 'hlp', 'hm', 'hme', 'hmm', 'hmmbad', 'hmmm', 'hmmmbut', 'hmmmhow', 'hmmmkbut', 'hmmmm', 'hmmmstill', 'hmph', 'hmv', 'hmv1', 'ho', 'hockey', 'hogidhechinnu', 'hogli', 'hogolo', 'hol', 'holby', 'hold', 'holder', 'holding', 'hole', 'holiday', 'holidayso', 'holla', 'hollalater', 'hols', 'holy', 'home', 'homebut', 'homeleft', 'homeowner', 'homewot', 'hon', 'honest', 'honestly', 'honesty', 'honey', 'honeybee', 'honeydid', 'honeymoon', 'honi', 'hont', 'hoo', 'hooch', 'hoody', 'hook', 'hooked', 'hoop', 'hop', 'hope', 'hopeafternoon', 'hoped', 'hopeful', 'hopefully', 'hopeing', 'hopeu', 'hoping', 'hor', 'horny', 'horo', 'horrible', 'horse', 'hospital', 'hostbased', 'hostel', 'hostile', 'hot', 'hotel', 'hottest', 'hour', 'house', 'houseful', 'housemaid', 'housewife', 'housework', 'housing', 'howard', 'howda', 'howdy', 'however', 'hows', 'howz', 'hp', 'hp20', 'hppnss', 'hr', 'hrishi', 'html', 'httpalto18coukwavewaveaspo44345', 'httpcareers', 'httpdoit', 'httpgotbabescouk', 'httpimg', 'httptms', 'httpwwwbubbletextcom', 'httpwwwetlpcoukexpressoffer', 'httpwwwgr8prizescom', 'httpwwwurawinnercom', 'httpwwwwtlpcouktext', 'hu', 'huai', 'hubby', 'hudgi', 'hug', 'huge', 'hugging', 'hugh', 'huh', 'hui', 'humanity', 'hun', 'hundred', 'hundredhe', 'hungover', 'hungry', 'hunk', 'hunny', 'hunnyhope', 'hunnywot', 'hunonbus', 'hunt', 'hunting', 'hurricane', 'hurried', 'hurry', 'hurt', 'hurting', 'husband', 'hustle', 'hut', 'hv', 'hw', 'hwd', 'hwkeep', 'hyde', 'hypotheticalhuagauahahuagahyuhagga', 'ia', 'iam', 'ibhltd', 'ibiza', 'ibm', 'ibn', 'ic', 'iccha', 'ice', 'icic', 'icicibankcom', 'icky', 'icon', 'id', 'idc', 'idconvey', 'idea', 'ideal', 'identification', 'identifier', 'idiot', 'idk', 'idp', 'idu', 'ie', 'iff', 'ifink', 'ig11', 'ignorant', 'ignore', 'ignoring', 'ijust', 'ikea', 'ikno', 'il', 'ileave', 'ill', 'ilol', 'im', 'ima', 'image', 'imaginationmy', 'imagine', 'imf', 'imin', 'imma', 'immediately', 'immunisation', 'imp', 'implication', 'important', 'importantly', 'imposed', 'impossible', 'impressed', 'impression', 'impressively', 'improve', 'improved', 'imprtant', 'in2', 'inc', 'inch', 'incident', 'inclu', 'include', 'includes', 'including', 'inclusive', 'inconsiderate', 'inconvenience', 'incorrect', 'increase', 'incredible', 'increment', 'inde', 'indeed', 'independence', 'independently', 'india', 'indian', 'indianpls', 'indicate', 'indyarockscom', 'inever', 'infact', 'infernal', 'influx', 'info', 'inforingtonekingcouk', 'inform', 'information', 'informed', 'infotxt82228couk', 'infowww100percentrealcom', 'infra', 'infront', 'ing', 'ingredient', 'initiate', 'inmind', 'inner', 'inning', 'innocent', 'innu', 'inour', 'inperialmusic', 'inpersonation', 'inr', 'insect', 'insha', 'inshah', 'inside', 'inspection', 'install', 'installation', 'installing', 'instant', 'instantly', 'instead', 'instruction', 'insurance', 'intelligent', 'intend', 'intention', 'interest', 'interested', 'interesting', 'interfued', 'internal', 'internet', 'interview', 'interviw', 'intha', 'intimate', 'intrepid', 'intro', 'intrude', 'invader', 'invention', 'invest', 'invitation', 'invite', 'invited', 'inviting', 'invnted', 'invoice', 'involve', 'involved', 'iouri', 'ip', 'ip4', 'ipad', 'ipaditan', 'ipads', 'iphone', 'ipod', 'iq', 'iraq', 'ireneere', 'iriver', 'iron', 'ironing', 'irritated', 'irritates', 'irritating', 'irritation', 'irulinae', 'isaiahd', 'isare', 'iscoming', 'ish', 'ishtamayoohappy', 'island', 'islove', 'isnt', 'isnåõt', 'issue', 'italian', 'itboth', 'itcould', 'item', 'iter', 'ithis', 'itleave', 'itlet', 'itll', 'itmail', 'itna', 'itnow', 'itor', 'itplspls', 'itried2tell', 'itsnot', 'ittb', 'itu', 'itwhichturnedinto', 'itxt', 'itxx', 'itz', 'itåõs', 'ivatte', 'ive', 'iwana', 'iwasmarinethatåõs', 'iz', 'izzit', 'iåõd', 'iåõllspeak', 'iåõm', 'iåõve', 'j', 'j89', 'jabo', 'jack', 'jacket', 'jackson', 'jada', 'jade', 'jaklin', 'jam', 'james', 'jamster', 'jamsterget', 'jamz', 'jan', 'janarige', 'jane', 'janinexx', 'january', 'janx', 'jap', 'japanese', 'jason', 'java', 'jay', 'jaya', 'jaykwon', 'jaz', 'jazz', 'jd', 'je', 'jealous', 'jean', 'jeevithathile', 'jelly', 'jen', 'jenne', 'jenny', 'jeremiah', 'jeri', 'jerk', 'jerry', 'jersey', 'jess', 'jesus', 'jet', 'jetton', 'jewelry', 'jez', 'jia', 'jiayin', 'jide', 'jiu', 'jjc', 'joanna', 'job', 'jod', 'jog', 'jogging', 'john', 'johnåósounds', 'join', 'joined', 'joinedso', 'joining', 'joke', 'joker', 'jokethet', 'jokin', 'joking', 'jolly', 'jolt', 'jon', 'jones', 'jontin', 'jordan', 'jordantxt', 'jorgeshock', 'jos', 'jot', 'journey', 'joy', 'jst', 'jstfrnd', 'jsut', 'juan', 'judgementali', 'juicy', 'jules', 'juliana', 'july', 'jump', 'jumper', 'june', 'jungle', 'junna', 'jurong', 'jus', 'justbeen', 'justify', 'juswoke', 'juz', 'k', 'k52', 'k61', 'k718', 'kaaj', 'kadeem', 'kafter', 'kaiez', 'kaila', 'kalaachutaarama', 'kalainar', 'kalisidare', 'kall', 'kallis', 'kalstiyathen', 'kama', 'kane', 'kanji', 'kano', 'kanoanyway', 'kanoil', 'kanowhr', 'kappa', 'karaoke', 'karnan', 'karo', 'kate', 'katexxx', 'kath', 'kavalan', 'kay', 'kb', 'kbut', 'kdo', 'ke', 'keen', 'keep', 'keeping', 'kegger', 'keluviri', 'keng', 'kent', 'kept', 'kerala', 'keralacircle', 'keris', 'kettoda', 'key', 'keypad', 'keyword', 'kfc', 'kg', 'kgive', 'kgood', 'khelate', 'ki', 'kicchu', 'kick', 'kickboxing', 'kickoff', 'kid', 'kidding', 'kidz', 'kill', 'killed', 'killing', 'kilo', 'kind', 'kinda', 'kindly', 'king', 'kingdom', 'kintu', 'kiosk', 'kip', 'kiss', 'kissing', 'kit', 'kittum', 'kitty', 'kkadvance', 'kkany', 'kkapo', 'kkare', 'kkcongratulation', 'kkfrom', 'kkgoodstudy', 'kkhow', 'kkim', 'kkits', 'kkwhat', 'kkwhen', 'kkwhere', 'kkwhy', 'kl341', 'knackered', 'knee', 'knew', 'knickers', 'knocking', 'know', 'knowhe', 'knowing', 'known', 'knowwait', 'knowyetunde', 'knw', 'kochi', 'kodstini', 'kodthini', 'konw', 'korche', 'korli', 'korte', 'kothi', 'kr', 'ksry', 'kthen', 'ktv', 'ku', 'kudiyarasu', 'kusruthi', 'kvb', 'kwish', 'kyou', 'kz', 'l', 'l8', 'l8er', 'l8r', 'la', 'la1', 'la3', 'la32wu', 'lab', 'labor', 'lac', 'lacking', 'lacsthats', 'lacsthere', 'laden', 'ladiesu', 'lady', 'lag', 'lage', 'lager', 'laid', 'laidwant', 'lakh', 'lambda', 'lamp', 'lancaster', 'land', 'landline', 'landlineonly', 'landmark', 'lane', 'langport', 'language', 'lanka', 'lanre', 'lap', 'lapdancer', 'laptop', 'lar', 'lara', 'laready', 'large', 'largest', 'lark', 'lasagna', 'last', 'lastest', 'lasting', 'late', 'latebut', 'latei', 'lately', 'latelyxxx', 'later', 'latest', 'latr', 'laugh', 'laughed', 'laughing', 'laundry', 'laurie', 'lautech', 'lavender', 'law', 'laxinorficated', 'lay', 'lazy', 'ldn', 'ldnw15h', 'le', 'lead', 'leading', 'leaf', 'league', 'learn', 'learned', 'least', 'least5times', 'leave', 'leaving', 'lect', 'lecture', 'left', 'leftover', 'leg', 'legal', 'legitimat', 'leh', 'lehhaha', 'lei', 'lemme', 'length', 'leo', 'leona', 'lesser', 'lesson', 'let', 'letter', 'leu', 'level', 'liao', 'liaoso', 'lib', 'libertine', 'library', 'lick', 'lido', 'lie', 'life', 'lifeand', 'lifebook', 'lifeis', 'lifethis', 'lifetime', 'lifeyou', 'lifpartnr', 'lift', 'lifting', 'light', 'lighter', 'lightly', 'lik', 'like', 'liked', 'likely', 'likeyour', 'lil', 'lily', 'limit', 'limited', 'lindsay', 'line', 'linear', 'lined', 'linerental', 'lineyou', 'lingo', 'link', 'linux', 'lion', 'lionm', 'lionp', 'lip', 'lipo', 'liquor', 'list', 'listed', 'listen', 'listener', 'listening', 'listening2the', 'lit', 'literally', 'little', 'live', 'lived', 'liver', 'liverpool', 'living', 'lk', 'lm', 'lmao', 'lmaonice', 'lnly', 'lo', 'load', 'loan', 'lobby', 'local', 'location', 'locaxx', 'lock', 'lodging', 'log', 'logged', 'logging', 'login', 'logo', 'logoff', 'logopic', 'loko', 'lol', 'lolnice', 'lololo', 'londn', 'london', 'loneliness', 'lonely', 'long', 'longer', 'loo', 'look', 'lookatme', 'looked', 'lookin', 'looking', 'lool', 'loooooool', 'looovvve', 'loose', 'loosing', 'loosu', 'lor', 'lord', 'lorwe', 'lose', 'loses', 'losing', 'loss', 'lost', 'lot', 'loti', 'lotr', 'lotsly', 'lotta', 'lotto', 'lotwill', 'lou', 'loud', 'lounge', 'lousy', 'lov', 'lovable', 'love', 'loveable', 'loved', 'lovely', 'loveme', 'lover', 'loverakhesh', 'loverboy', 'loving', 'lovingly', 'lovly', 'low', 'lowcost', 'lower', 'lowes', 'loxahatchee', 'loyal', 'loyalty', 'ls1', 'ls15hb', 'ls278bb', 'lst', 'lt', 'lt3', 'ltd', 'ltdecimalgt', 'ltdå', 'ltemailgt', 'ltgt', 'lttimegt', 'lttrs', 'lturlgt', 'lubly', 'luck', 'luck2', 'luckily', 'lucky', 'lucozade', 'lucozadecoukwrc', 'lucyxx', 'luks', 'lul', 'lunch', 'lunchyou', 'lunsford', 'lush', 'luton', 'luv', 'luvnight', 'luvs', 'luxury', 'lv', 'lvblefrnd', 'lyf', 'lyfu', 'lying', 'lyk', 'lyricalladie21f', 'm100', 'm221bp', 'm227xy', 'm26', 'm263uz', 'm6', 'm8', 'm8s', 'm95', 'ma', 'maaaan', 'maangalyam', 'maat', 'mac', 'macedonia', 'machan', 'machiany', 'machine', 'macho', 'mack', 'macleran', 'mad', 'mad1', 'mad2', 'madam', 'made', 'madodu', 'madoke', 'madstini', 'madthen', 'mag', 'maga', 'magazine', 'maggi', 'magic', 'magical', 'magicalsongsblogspotcom', 'mah', 'mahal', 'mahfuuzmeaning', 'mail', 'mailbox', 'mailed', 'maili', 'main', 'maintain', 'major', 'make', 'makiing', 'makin', 'making', 'malaria', 'malarky', 'male', 'mall', 'mallika', 'man', 'manage', 'manageable', 'managed', 'management', 'manchester', 'manda', 'mandan', 'mandara', 'maneesha', 'manege', 'mango', 'manky', 'manual', 'many', 'map', 'mapquest', 'marandratha', 'march', 'maretare', 'margaret', 'margin', 'mark', 'market', 'marking', 'marley', 'marriage', 'marriageprogram', 'married', 'marry', 'marsms', 'marvel', 'mary', 'masked', 'massagetiepos', 'massive', 'master', 'masteriastering', 'mat', 'match', 'matched', 'mate', 'math', 'mathe', 'mathematics', 'matra', 'matric', 'matrix3', 'matter', 'mattermsg', 'matthew', 'matured', 'maturity', 'max10mins', 'max6month', 'maximize', 'maximum', 'maxå', 'may', 'mayb', 'maybe', 'mb', 'mc', 'mca', 'mcat', 'mcr', 'meal', 'mean', 'meaning', 'meaningful', 'meaningless', 'meant', 'meanwhile', 'meare', 'measure', 'meat', 'meatball', 'mecause', 'med', 'medical', 'medicine', 'medont', 'mee', 'meet', 'meetgreet', 'meetin', 'meeting', 'meetitz', 'mega', 'meh', 'mei', 'meim', 'mel', 'melike', 'melle', 'melnite', 'melody', 'member', 'membership', 'membershiptake', 'memorable', 'memory', 'men', 'mental', 'mention', 'mentionedtomorrow', 'mentionned', 'mentor', 'menu', 'meok', 'meow', 'meowd', 'merely', 'merememberin', 'merry', 'mesages', 'meshe', 'meso', 'mess', 'message', 'messaged', 'messageit', 'messageits', 'messageno', 'messagepandy', 'messagesim', 'messagesome', 'messagestext', 'messagethanks', 'messaging', 'messed', 'messenger', 'messy', 'met', 'mfl', 'mg', 'mi', 'mia', 'mid', 'middle', 'midnight', 'mids', 'might', 'mila', 'mile', 'milk', 'miller', 'million', 'min', 'minapn', 'mind', 'minded', 'mine', 'mineall', 'minecraft', 'mini', 'minnaminunginte', 'minor', 'minstand', 'minstexts', 'mint', 'minus', 'minute', 'minuts', 'miracle', 'mirror', 'misbehaved', 'miserable', 'mising', 'misplaced', 'miss', 'misscall', 'missed', 'missin', 'missing', 'mission', 'missionary', 'misstake', 'missunderstding', 'mist', 'mistake', 'mistakeu', 'misundrstud', 'mite', 'mitsake', 'mittelschmertz', 'miwa', 'mix', 'mj', 'mjzgroup', 'mk45', 'ml', 'mm', 'mmm', 'mmmm', 'mmmmm', 'mmmmmm', 'mmmmmmm', 'mmsto', 'mn', 'mnth', 'mnths', 'mo', 'moan', 'mob', 'mobile', 'mobilesdirect', 'mobilesvary', 'mobileupd8', 'mobno', 'mobsicom', 'mobstorequiz10ppm', 'moby', 'mode', 'model', 'modelsony', 'modl', 'module', 'moji', 'mojibiola', 'mokka', 'molestedsomeone', 'mom', 'moment', 'mon', 'monday', 'mondaynxt', 'money', 'moneyas', 'moneyi', 'monkeespeople', 'monkey', 'monkeyaround', 'monl8rsx', 'mono', 'monoc', 'monster', 'month', 'monthly', 'monthlysubscription50pmsg', 'monthnot', 'mood', 'moon', 'moral', 'moralone', 'morn', 'morning', 'morphine', 'moseley', 'mostly', 'mother', 'motherfucker', 'motivate', 'motivating', 'motive', 'motorola', 'mountain', 'mouse', 'mouth', 'move', 'moved', 'movie', 'moviewat', 'moving', 'mp3', 'mquiz', 'mr', 'mre', 'mrng', 'mrt', 'msg', 'msg150p', 'msging', 'msgrcvd18', 'msgs150p', 'msgsd', 'msgsometext', 'msgsubscription', 'msgticketkioskvalid', 'msgwe', 'msgå', 'msn', 'mt', 'mtalk', 'mth', 'mths', 'mtnl', 'mu', 'much', 'muchand', 'muchi', 'muchimpede', 'muchxxlove', 'mudyadhu', 'mufti', 'muhommad', 'muht', 'multimedia', 'multiply', 'multis', 'mum', 'mumbai', 'mummy', 'mumtaz', 'mumtazs', 'mundhe', 'munsters', 'murali', 'murder', 'murdered', 'murderer', 'mush', 'mushy', 'music', 'musical', 'must', 'musta', 'musthu', 'mustprovide', 'mutai', 'mutation', 'muz', 'mw', 'mwahs', 'mylife', 'mymoby', 'myparents', 'mys', 'myspace', 'mystery', 'mytonecomenjoy', 'n', 'n8', 'na', 'naal', 'nacho', 'nag', 'nagar', 'nah', 'nail', 'naked', 'nalla', 'nalli', 'name', 'name1', 'name2', 'named', 'namemy', 'nammanna', 'nan', 'nange', 'nanny', 'nap', 'narcotic', 'nasdaq', 'nasty', 'nat', 'natalie', 'natalja', 'national', 'nationwide', 'nattil', 'natuition', 'natural', 'nature', 'natwest', 'naughty', 'nav', 'navigate', 'nb', 'nd', 'ne', 'near', 'nearby', 'nearer', 'nearly', 'necesity', 'necessarily', 'necessary', 'necessity', 'neck', 'necklace', 'ned', 'need', 'needa', 'needed', 'needing', 'needle', 'needy', 'neekunna', 'neft', 'negative', 'neglet', 'neighbor', 'neither', 'nelson', 'neshanthtel', 'net', 'netcollex', 'netflix', 'nething', 'netno', 'network', 'networking', 'neva', 'never', 'nevering', 'neville', 'new', 'neway', 'newest', 'newport', 'newquaysend', 'news', 'newshype', 'newspaper', 'next', 'ngage', 'nh', 'ni8', 'ni8swt', 'nic', 'nice', 'nicenicehow', 'nichols', 'nick', 'nickey', 'nicky', 'nigeria', 'nigh', 'night', 'nighters', 'nightnight', 'nightnobody', 'nigpun', 'nigro', 'nikiyu4net', 'nimya', 'nimyapls', 'ninish', 'nino', 'nit', 'nite', 'nite2', 'nitro', 'nitros', 'nitw', 'nitz', 'njan', 'no', 'no1', 'no165', 'no434', 'no440', 'no83355', 'no910', 'nobbing', 'noble', 'nobody', 'noe', 'nofew', 'nohe', 'noi', 'noice', 'noisy', 'nojst', 'nok', 'nokia', 'nokia150p', 'nokia6650', 'nokias', 'noline', 'non', 'noncomittal', 'none', 'nonenowhere', 'nonetheless', 'nookii', 'noon', 'nooooooo', 'noooooooo', 'nope', 'nora', 'norcorp', 'norm', 'norm150ptone', 'normal', 'normally', 'north', 'northampton', 'nosh', 'note', 'notebook', 'nothin', 'nothing', 'nothis', 'notice', 'notification', 'notixiquating', 'nottel', 'nottingham', 'notxtcouk', 'noun', 'novelty', 'november', 'nowadays', 'nowadayslot', 'nowcan', 'nowi', 'nownyt', 'nowonion', 'noworriesloanscom', 'nowreply', 'nowsavamobmember', 'nowsky', 'nowtcs', 'nowuse', 'nr31', 'nri', 'nt', 'nte', 'ntswt', 'ntt', 'ntwk', 'nu', 'nuclear', 'nudist', 'nuerologist', 'num', 'number', 'numberpls', 'numberrespectful', 'numberso', 'nurse', 'nursery', 'nurungu', 'nusstu', 'nuther', 'nutter', 'nvm', 'nvq', 'nw', 'nxt', 'ny', 'nyc', 'nydc', 'nyt', 'nyusa', 'nz', 'nìâte', 'o', 'o2', 'o2coukgames', 'o2fwd', 'obedient', 'obese', 'obey', 'objection', 'oblisingately', 'obviously', 'occupied', 'occupy', 'occur', 'occurs', 'oceand', 'oclock', 'odalebeku', 'odi', 'ofcourse', 'offc', 'offense', 'offer', 'offering', 'offerthe', 'office', 'officer', 'officestill', 'officethenampet', 'officeunderstand', 'officewhats', 'official', 'officially', 'ofsi', 'often', 'ofå', 'oga', 'ogunrinde', 'oh', 'ohas', 'ohi', 'oi', 'oic', 'oil', 'oja', 'ok', 'okay', 'okday', 'okden', 'okey', 'okie', 'okok', 'oktake', 'okthenwhats', 'okvarunnathu', 'ola', 'olage', 'olave', 'old', 'ollubut', 'olol', 'olowoyey', 'olympics', 'omg', 'omw', 'onam', 'oncall', 'ondu', 'one', 'onedge', 'oneta', 'oni', 'onionrs', 'online', 'onlinewhy', 'only1more', 'onlybettr', 'onlyfound', 'onto', 'onwards', 'onwords', 'ooh', 'oooh', 'oooooh', 'ooooooh', 'oops', 'open', 'opened', 'opener', 'openin', 'operator', 'opinion', 'opponenter', 'opportunity', 'opportunityall', 'opportunitypls', 'opposed', 'opposite', 'opps', 'opt', 'opted', 'optimistic', 'optin', 'option', 'optout', 'or', 'or2optouthv9d', 'or2stoptxt', 'oral', 'orange', 'orangei', 'orc', 'orchard', 'order', 'ordered', 'ore', 'oredi', 'oreo', 'organizer', 'orh', 'orig', 'original', 'orno', 'ortxt', 'oru', 'oscar', 'oso', 'otbox', 'others', 'otherwise', 'othrs', 'otside', 'ou', 'ourbacks', 'oursso', 'outage', 'outbid', 'outdoors', 'outfit', 'outfor', 'outgoing', 'outhave', 'outif', 'outl8r', 'outrageous', 'outreach', 'outside', 'outsider', 'outstanding', 'outta', 'overa', 'overdid', 'overemphasiseor', 'overtime', 'ovr', 'ovulation', 'ow', 'owe', 'owed', 'owl', 'owned', 'owns', 'ownyouve', 'owo', 'oxygen', 'oyea', 'oyster', 'oz', 'p', 'pa', 'pace', 'pack', 'package', 'packalso', 'packing', 'padhegm', 'page', 'paid', 'pain', 'painful', 'painhope', 'paining', 'painit', 'painting', 'pale', 'palm', 'pan', 'panalambut', 'panasonic', 'pandy', 'panic', 'panicks', 'panren', 'pansy', 'pant', 'panther', 'panty', 'pap', 'papa', 'paper', 'paracetamol', 'parade', 'paragon', 'paragraph', 'paranoid', 'parantella', 'parchi', 'parco', 'parent', 'parentnot', 'parentsi', 'paris', 'parisfree', 'parish', 'park', 'park6ph', 'parked', 'parking', 'part', 'participate', 'particular', 'partner', 'partnership', 'party', 'paru', 'pas', 'pass', 'passable', 'passed', 'passion', 'passionate', 'passport', 'passthey', 'password', 'passwordsatmsms', 'past', 'pataistha', 'patent', 'path', 'patient', 'patrick', 'pattern', 'patty', 'paul', 'pause', 'pay', 'payback', 'payed', 'payee', 'paying', 'payment', 'payoh', 'pc', 'pdatenow', 'peace', 'peaceful', 'peach', 'peak', 'pear', 'pee', 'peep', 'pei', 'pen', 'pendent', 'pending', 'penis', 'penny', 'people', 'per', 'percent', 'percentage', 'perfect', 'perform', 'performance', 'perfume', 'perhaps', 'period', 'peripheral', 'permanent', 'permission', 'perpetual', 'persevered', 'persian', 'person', 'person2die', 'personal', 'personality', 'personally', 'personmeet', 'perspective', 'perumbavoor', 'pesky', 'pest', 'pete', 'petey', 'peteynoiåõm', 'petrol', 'petrolrs', 'pg', 'ph', 'ph08700435505150p', 'ph08704050406', 'pharmacy', 'phasing', 'phd', 'phil', 'philosophical', 'philosophy', 'phne', 'phoenix', 'phone', 'phone750', 'phonebook', 'phoned', 'photo', 'photoshop', 'php', 'phrase', 'physic', 'piah', 'pic', 'pick', 'picked', 'picking', 'pickle', 'picsfree1', 'picture', 'pictxt', 'pie', 'piece', 'pierre', 'pig', 'piggy', 'pilate', 'pile', 'pillow', 'pimple', 'pin', 'pink', 'pinku', 'pint', 'pisces', 'piss', 'pissed', 'pity', 'pix', 'pixel', 'pizza', 'place', 'placed', 'placement', 'placeno', 'plan', 'plane', 'planet', 'planeti', 'planettalkinstantcom', 'planned', 'planning', 'plate', 'platt', 'play', 'played', 'player', 'playerwhy', 'playi', 'playin', 'playing', 'playng', 'plaza', 'pleasant', 'please', 'pleased', 'pleasure', 'pleasured', 'plenty', 'plm', 'ploughing', 'pls', 'plsi', 'plum', 'plumber', 'plumbingremixed', 'plural', 'plus', 'plyr', 'plz', 'pm', 'po', 'po19', 'pobox', 'pobox1', 'pobox11414tcrw1', 'pobox12n146tf15', 'pobox12n146tf150p', 'pobox202', 'pobox334', 'pobox36504w45wq', 'pobox365o4w45wq', 'pobox45w2tg150p', 'pobox75ldns7', 'pobox84', 'poboxox36504w45wq', 'pocay', 'pocketbabecouk', 'pocy', 'pod', 'poem', 'poet', 'point', 'poker', 'poking', 'pokkiri', 'pole', 'police', 'politician', 'polo', 'poly', 'poly200p', 'poly3', 'polyc', 'polyh', 'polyph', 'polyphonic', 'polys', 'polytruepixringtonesgames', 'pongal', 'pongaldo', 'ponnungale', 'poo', 'pookie', 'pool', 'poop', 'poor', 'poorly', 'poortiyagi', 'pop', 'popcorn', 'popcornjust', 'popped', 'porn', 'portal', 'portege', 'pose', 'posh', 'posible', 'position', 'positive', 'possession', 'possessive', 'possessiveness', 'possible', 'possiblehope', 'possibly', 'post', 'postcard', 'postcode', 'posted', 'posterode', 'posting', 'postponed', 'potato', 'potential', 'potter', 'pouch', 'pound', 'pounded', 'poured', 'pours', 'pout', 'power', 'powerful', 'poyyarikaturkolathupalayamunjalur', 'ppl', 'pple', 'ppm', 'ppm150', 'ppt150x3normal', 'prabha', 'prabhaim', 'prabu', 'pract', 'practical', 'practice', 'practicing', 'practicum', 'praise', 'prakasam', 'prakasamanu', 'prakesh', 'prasad', 'prasanth', 'prashanthettans', 'pray', 'prayer', 'praying', 'prayingwill', 'prayrs', 'pre', 'predict', 'predicte', 'predicting', 'prediction', 'predictive', 'prefer', 'preferably', 'prem', 'premier', 'premium', 'prepaid', 'prepare', 'prepared', 'prepayment', 'preponed', 'prescribed', 'prescripiton', 'prescription', 'presence', 'present', 'president', 'presley', 'presnts', 'press', 'pressure', 'prestige', 'pretend', 'pretsorginta', 'pretsovru', 'pretty', 'prevent', 'previous', 'previously', 'prey', 'price', 'prin', 'prince', 'princegn', 'princess', 'print', 'printed', 'printer', 'printing', 'prior', 'priscillas', 'privacy', 'private', 'prix', 'prize', 'prizeawaiting', 'prizeswith', 'prizeto', 'pro', 'prob', 'probably', 'problem', 'problematic', 'problembut', 'problemfree', 'problum', 'probs', 'processed', 'processits', 'prod', 'product', 'prof', 'professional', 'professor', 'profile', 'profit', 'program', 'project', 'prolly', 'prometazine', 'prominent', 'promise', 'promo', 'promoting', 'promotion', 'prompt', 'promptly', 'proof', 'proove', 'prop', 'proper', 'properly', 'property', 'propose', 'propsd', 'prospect', 'protect', 'proverb', 'provided', 'province', 'proze', 'prsn', 'ps3', 'pshewmissing', 'psp', 'psychiatrist', 'psychologist', 'pt2', 'ptbo', 'pthis', 'pub', 'pubcafe', 'public', 'publish', 'pudunga', 'pull', 'pulling', 'pump', 'punch', 'punishment', 'punto', 'pura', 'purchase', 'pure', 'purity', 'purpleu', 'purpose', 'purse', 'push', 'pushbutton', 'pussy', 'put', 'puttin', 'putting', 'puzzeles', 'puzzle', 'px3748', 'på', 'q', 'qatar', 'qatarrakhesh', 'qbank', 'qing', 'qlynnbv', 'quality', 'quarter', 'que', 'queen', 'ques', 'question', 'questioned', 'questionstd', 'quick', 'quickly', 'quiet', 'quit', 'quite', 'quitting', 'quiz', 'quizclub', 'quizwin', 'quote', 'quoting', 'r', 'r836', 'racal', 'racing', 'radiator', 'radio', 'raed', 'rael', 'raglan', 'rahul', 'raiden', 'railway', 'rain', 'raining', 'raise', 'raj', 'raja', 'rajini', 'rajipls', 'rajitha', 'rajnikant', 'raksha', 'rally', 'ramen', 'ran', 'random', 'randomly', 'randy', 'rang', 'range', 'ranjith', 'ranju', 'raping', 'rat', 'rate', 'ratetcs', 'rather', 'ratio', 'raviyog', 'ray', 'rayan', 'rcbbattle', 'rct', 'rcv', 'rcvd', 'rd', 'rdy', 'reach', 'reached', 'reaching', 'reaction', 'read', 'reader', 'readiness', 'reading', 'ready', 'real', 'real1', 'realise', 'realised', 'realising', 'reality', 'realize', 'realized', 'really', 'realy', 'reason', 'reasonable', 'reassurance', 'reboot', 'rebtel', 'rec', 'recd', 'recdthirtyeight', 'receipt', 'receive', 'receivea', 'received', 'receiving', 'recent', 'recently', 'reception', 'recession', 'recharge', 'rechargerakhesh', 'recieve', 'reckon', 'recognise', 'recognises', 'record', 'recorded', 'recorder', 'recovery', 'recpt', 'recreation', 'recycling', 'red', 'redeemable', 'redim', 'redred', 'ree', 'ref', 'ref9280114', 'reference', 'referin', 'reffering', 'refilled', 'reflex', 'reformat', 'refreshed', 'refund', 'refundedthis', 'refused', 'reg', 'regard', 'regarding', 'register', 'registered', 'registration', 'regret', 'regretted', 'regular', 'rejected', 'relation', 'relationshipits', 'relax', 'released', 'reliant', 'relieved', 'religiously', 'reltnship', 'rem', 'remain', 'remains', 'remb', 'remember', 'remembered', 'rememberi', 'remembrs', 'remet', 'remind', 'reminded', 'reminder', 'reminding', 'reminds', 'removal', 'remove', 'removed', 'renewal', 'renewed', 'renewing', 'rent', 'rental', 'renting', 'rentl', 'repair', 'repeat', 'repent', 'replacement', 'replacing', 'replied', 'reply', 'replybe', 'replying', 'report', 'reppurcussions', 'representative', 'republic', 'request', 'require', 'required', 'reschedule', 'research', 'resend', 'reservation', 'reserve', 'reserved', 'reset', 'residency', 'resolution', 'resolved', 'resort', 'respect', 'respectful', 'responcewhat', 'respond', 'responding', 'response', 'responsibility', 'rest', 'restaurant', 'restock', 'restocked', 'restrict', 'restriction', 'restuwud', 'restwish', 'resub', 'resubmit', 'result', 'resume', 'retard', 'retired', 'retrieve', 'return', 'returned', 'reunion', 'reveal', 'revealed', 'reverse', 'review', 'revision', 'reward', 'rg21', 'rgds', 'rgent', 'rhythm', 'rice', 'rich', 'ridden', 'ride', 'right', 'rightly', 'riley', 'rimac', 'ring', 'ringing', 'ringsreturn', 'ringtone', 'ringtonefrom', 'ringtoneget', 'ringtoneking', 'ringtones', 'rip', 'ripped', 'rite', 'ritten', 'river', 'ro', 'road', 'roadsrvx', 'roast', 'rob', 'robinson', 'robs', 'rock', 'rocking', 'rodds1', 'rodger', 'rofl', 'roger', 'role', 'roller', 'romantic', 'romcapspam', 'ron', 'room', 'roomate', 'roommate', 'rose', 'rough', 'round', 'rounderso', 'route', 'row', 'roww1j6hl', 'roww1jhl', 'royal', 'rp176781', 'rply', 'rr', 'rreveal', 'rsi', 'rstm', 'rtking', 'rto', 'ru', 'rub', 'rubber', 'rude', 'rugby', 'ruin', 'ruining', 'rule', 'rum', 'rumbling', 'rummer', 'rumour', 'run', 'running', 'runninglets', 'rupaul', 'rush', 'rushing', 'rv', 'ryan', 'ryans', 's3xy', 's8', 's89', 'sac', 'sachin', 'sachinjust', 'sacked', 'sacrifice', 'sad', 'sae', 'saeed', 'safe', 'safely', 'sagamu', 'saibaba', 'said', 'saidif', 'sake', 'salary', 'sale', 'salesman', 'salespee', 'salmon', 'salon', 'salt', 'sam', 'samachara', 'sambarlife', 'sameso', 'samus', 'sandiago', 'sane', 'sang', 'sankranti', 'santa', 'santha', 'sao', 'sapna', 'sar', 'sara', 'sarasota', 'sarcasm', 'sarcastic', 'saristar', 'sariyag', 'sary', 'sashimi', 'sat', 'sathy', 'satisfied', 'satisfy', 'satlove', 'satsgettin', 'satsoundåõs', 'saturday', 'satì', 'saucy', 'savamob', 'save', 'saved', 'saving', 'saw', 'say', 'sayask', 'sayin', 'saying', 'sbut', 'sc', 'scammer', 'scared', 'scary', 'scenario', 'scenery', 'sch', 'schedule', 'school', 'science', 'scold', 'score', 'scoring', 'scotch', 'scotland', 'scotsman', 'scouse', 'scrappy', 'scratch', 'scratching', 'scream', 'screamed', 'screaming', 'screen', 'screwd', 'scrounge', 'scrumptious', 'sculpture', 'sd', 'sday', 'se', 'sea', 'search', 'searching', 'season', 'seat', 'sec', 'second', 'secondary', 'secret', 'secretary', 'secretly', 'section', 'secure', 'secured', 'sed', 'see', 'seed', 'seeing', 'seeker', 'seeking', 'seem', 'seemed', 'seems', 'seen', 'sehwag', 'seing', 'select', 'selected', 'selection', 'self', 'selfindependence', 'selfish', 'selflessness', 'sell', 'selling', 'sem', 'semester', 'semi', 'semiobscure', 'sen', 'send', 'sender', 'sendername', 'sending', 'sends', 'senor', 'senrddnot', 'sense', 'sensesrespect', 'sensible', 'sensitive', 'sent', 'sentdate', 'sentence', 'sept', 'september', 'serena', 'series', 'serious', 'seriously', 'served', 'server', 'service', 'serving', 'servs', 'set', 'setting', 'settle', 'settled', 'settling', 'seven', 'seventeen', 'several', 'sex', 'sexiest', 'sextextukcom', 'sexy', 'sez', 'sfine', 'sfirst', 'sfrom', 'sha', 'shade', 'shadow', 'shag', 'shagged', 'shah', 'shahjahan', 'shahjahans', 'shakara', 'shake', 'shakespeare', 'shaking', 'shall', 'shame', 'shampain', 'shanghai', 'shanilrakhesh', 'shant', 'shaping', 'share', 'shared', 'sharing', 'shattered', 'shaved', 'shb', 'shd', 'sheet', 'sheffield', 'shelf', 'shell', 'sherawat', 'shes', 'shesil', 'shhhhh', 'shijas', 'shinco', 'shining', 'shiny', 'ship', 'shipped', 'shipping', 'shirt', 'shit', 'shite', 'shitjustfound', 'shitstorm', 'shivratri', 'shjas', 'shld', 'shocking', 'shoe', 'shola', 'shoot', 'shop', 'shoppin', 'shopping', 'shopthe', 'shopwe', 'shoranur', 'shore', 'shorethe', 'short', 'shortage', 'shortcode', 'shorter', 'shortly', 'shot', 'shoul', 'shoulder', 'shouldnt', 'shouted', 'shouting', 'shove', 'shoving', 'show', 'showed', 'shower', 'showered', 'showing', 'showr', 'showroomscity', 'shracomorsglsuplt10', 'shrek', 'shrub', 'shud', 'shuhui', 'shun', 'shut', 'shy', 'si', 'sian', 'sib', 'sic', 'sick', 'sickness', 'side', 'sif', 'sigh', 'sight', 'sign', 'signal', 'significance', 'significant', 'signin', 'signing', 'siguviri', 'silent', 'silently', 'silly', 'silver', 'sim', 'simonwatson5120', 'simple', 'simpler', 'simply', 'simpson', 'simulate', 'since', 'sinco', 'sindu', 'sing', 'singing', 'single', 'sink', 'sip', 'sipix', 'sir', 'siri', 'sirjii', 'sirsalam', 'sister', 'sit', 'site', 'sitll', 'sittin', 'sitting', 'situation', 'siva', 'sivatats', 'six', 'size', 'sized', 'sk3', 'sk38xh', 'skallis', 'skateboarding', 'skilgme', 'skillgame', 'skillgame1winaweek', 'skinny', 'skint', 'skip', 'skirt', 'sky', 'skye', 'skype', 'skyped', 'skyving', 'slaaaaave', 'slacking', 'slap', 'slave', 'sleep', 'sleepin', 'sleeping', 'sleepingand', 'sleepingwith', 'sleepsweet', 'sleepwellamptake', 'sleepy', 'slept', 'slice', 'slide', 'sliding', 'slightly', 'slip', 'slipper', 'slippery', 'slo', 'slo4msgs', 'slot', 'slovely', 'slow', 'slowly', 'slurp', 'sm', 'smack', 'small', 'smaller', 'smart', 'smartcall', 'smarter', 'smartthough', 'smash', 'smashed', 'smear', 'smell', 'smeone', 'smidgin', 'smile', 'smiled', 'smiley', 'smiling', 'smith', 'smithswitch', 'smoke', 'smoked', 'smokin', 'smoking', 'smoothly', 'sms08718727870', 'smsd', 'smsing', 'smsshsexnetun', 'smth', 'sn', 'snake', 'snap', 'snappy', 'snatch', 'sneham', 'snickering', 'sno', 'snogs', 'snow', 'snowman', 'snuggle', 'so', 'soany', 'social', 'sofa', 'soft', 'software', 'soiree', 'sol', 'soladha', 'sold', 'solihull', 'solve', 'solved', 'some1', 'somebody', 'someday', 'someone', 'someonone', 'someplace', 'somerset', 'somethin', 'something', 'somethings', 'sometime', 'sometimes', 'sometme', 'somewhat', 'somewhere', 'somewheresomeone', 'somewhr', 'somtimes', 'sonathaya', 'sonetimes', 'song', 'sonot', 'sony', 'sonyericsson', 'soo', 'soon', 'sooner', 'soonlots', 'soonxxx', 'sooo', 'sooooo', 'sophas', 'sore', 'sorrow', 'sorrowsi', 'sorry', 'sorryi', 'sorryin', 'sort', 'sorted', 'sortedbut', 'sorting', 'sory', 'sorydarealyfrm', 'soso', 'soul', 'sound', 'sounding', 'soundtrack', 'soup', 'source', 'south', 'southern', 'souveniers', 'sp', 'space', 'spacebucks', 'spageddies', 'spain', 'spam', 'spanish', 'spare', 'spatula', 'speak', 'speaking', 'spec', 'special', 'specialcall', 'speciale', 'specialisation', 'specialise', 'specially', 'specific', 'specify', 'speechless', 'speed', 'speeding', 'speling', 'spell', 'spelling', 'spend', 'spending', 'spent', 'spice', 'spider', 'spiderman', 'spiffing', 'spile', 'spinout', 'spiritual', 'spjanuary', 'spk', 'spl', 'splash', 'splashmobile', 'splat', 'splendid', 'split', 'splleing', 'splwat', 'spoil', 'spoiled', 'spoilt', 'spoke', 'spoken', 'sponsor', 'spook', 'spoon', 'sporadically', 'sport', 'spose', 'spot', 'spotty', 'sppok', 'spreadsheet', 'spree', 'spring', 'sprint', 'sprwm', 'sptv', 'sptyrone', 'spunout', 'squatting', 'squeezed', 'squid', 'squishy', 'sr', 'srsly', 'srt', 'sry', 'ssi', 'ssnervous', 'st', 'stability', 'stable', 'stadium', 'staff', 'stage', 'stagwood', 'stalk', 'stalking', 'stamp', 'stamped', 'stand', 'standard', 'standing', 'stapati', 'star', 'staring', 'starring', 'starshine', 'start', 'started', 'starti', 'starting', 'starve', 'starwars3', 'stash', 'stated', 'statement', 'station', 'status', 'stay', 'stayed', 'stayin', 'staying', 'std', 'stdtxtrate', 'steak', 'steal', 'steam', 'steamboat', 'steed', 'steering', 'step', 'stereo', 'stereophonics', 'sterling', 'sterm', 'stevelike', 'stewartsize', 'steyn', 'sth', 'sthis', 'stick', 'sticky', 'stifled', 'stil', 'still', 'stillmaybe', 'stink', 'stitch', 'stock', 'stocked', 'stockport', 'stolen', 'stomach', 'stomp', 'stone', 'stoner', 'stool', 'stop', 'stop2', 'stop2stop', 'stopcost', 'stopped', 'stoptxt', 'stoptxtstop', 'store', 'storelike', 'storming', 'story', 'str', 'str8', 'straight', 'strain', 'strange', 'stranger', 'stream', 'street', 'streetshall', 'stress', 'stressed', 'stressful', 'stressfull', 'stretch', 'strewn', 'strict', 'strike', 'string', 'strip', 'stripe', 'stroke', 'strong', 'strongbuy', 'strongly', 'struggling', 'stu', 'stubborn', 'stuck', 'studdying', 'student', 'studio', 'study', 'studying', 'studyn', 'stuff', 'stuff42moro', 'stuffed', 'stuffing', 'stuffleaving', 'stunning', 'stupid', 'stupidits', 'style', 'styling', 'stylish', 'stylist', 'sub', 'subject', 'subletting', 'submitted', 'submitting', 'subpoly', 'subscribe6gbpmnth', 'subscribed', 'subscriber', 'subscription', 'subscriptn3gbpwk', 'subscrition', 'subsequent', 'subtoitles', 'success', 'successful', 'successfully', 'suck', 'sucker', 'sudden', 'sudn', 'sue', 'suffer', 'suffering', 'sufficient', 'sugababes', 'suganya', 'sugar', 'suggest', 'suggestion', 'suit', 'suite', 'suitemates', 'sum', 'sum1', 'sumfing', 'summer', 'summon', 'sumthinxx', 'sun', 'sun0819', 'sunday', 'sundayish', 'sunny', 'sunoco', 'sunscreen', 'sunshine', 'suntec', 'sup', 'super', 'superb', 'superior', 'supervisor', 'suply', 'supose', 'supply', 'support', 'supportproviding', 'supportvery', 'suppose', 'supposed', 'supreme', 'suprman', 'sura', 'sure', 'surely', 'surf', 'surfing', 'surly', 'surname', 'surprise', 'surprised', 'surrounded', 'survey', 'surya', 'sutra', 'sux', 'suzy', 'svc', 'sw7', 'sw73ss', 'swalpa', 'swann', 'swashbuckling', 'swat', 'swatch', 'sway', 'swayze', 'sweater', 'sweet', 'sweetest', 'sweetheart', 'sweetie', 'swhrt', 'swimming', 'swing', 'swiss', 'switch', 'swollen', 'swoop', 'swt', 'swtheart', 'syd', 'syllabus', 'symbol', 'sympathetic', 'symptom', 'syria', 'syrup', 'system', 't', 't91', 'ta', 'table', 'tablet', 'tackle', 'taco', 'tactful', 'tadaaaaa', 'tag', 'tagged', 'tahan', 'tai', 'taj', 'taka', 'take', 'takecare', 'taken', 'takenonly', 'takin', 'taking', 'talent', 'talk', 'talkbut', 'talked', 'talkin', 'talking', 'tallent', 'tamilnaduthen', 'tampa', 'tank', 'tantrum', 'tap', 'tape', 'tariff', 'tarot', 'tarpon', 'tasts', 'tat', 'tata', 'tattoo', 'tau', 'taught', 'taunton', 'tax', 'taxi', 'taxless', 'taxt', 'taylor', 'tb', 'tbspersolvo', 'tc', 'tcllc', 'tcrw1', 'tcsbcm4235wc1n3xx', 'tcsc', 'tcsstop', 'tddnewsletteremc1couk', 'tea', 'teach', 'teacher', 'teaching', 'teacoffee', 'team', 'tear', 'teasing', 'tech', 'technical', 'technology', 'tee', 'teenager', 'teeth', 'teethif', 'teethis', 'tel', 'telephone', 'teletext', 'tell', 'telling', 'telly', 'telphone', 'telugu', 'teluguthts', 'temales', 'temper', 'temple', 'ten', 'tenant', 'tendency', 'tenerife', 'tensed', 'tension', 'teresa', 'term', 'terminatedwe', 'terrible', 'terrific', 'terrorist', 'terry', 'tessypls', 'test', 'testing', 'tex', 'texas', 'texd', 'text', 'text82228', 'textand', 'textbook', 'textbuddy', 'textcomp', 'texted', 'texting', 'textoperator', 'textpod', 'textsweekend', 'tgxxrz', 'th', 'thandiyachu', 'thangam', 'thangamits', 'thank', 'thanks', 'thanks2', 'thanksgiving', 'thankyou', 'thanx', 'thanxxx', 'thasa', 'that2worzels', 'thatd', 'thati', 'thatll', 'thatmum', 'thatnow', 'thats', 'thatåõs', 'theacusations', 'theater', 'theatre', 'thedailydraw', 'thekingshead', 'theme', 'themed', 'themob', 'themobhit', 'themobyo', 'themp', 'thenwill', 'theoretically', 'theory', 'there', 'theredo', 'theregoodnight', 'therere', 'therexx', 'thesedays', 'theseyours', 'thesis', 'thesmszonecom', 'thewend', 'theyll', 'theyre', 'thgt', 'thin', 'thing', 'thinghow', 'think', 'thinked', 'thinkin', 'thinking', 'thinkthis', 'thinl', 'thirunelvali', 'thisdon', 'thk', 'thkin', 'thm', 'thnk', 'thnq', 'tho', 'thoso', 'thot', 'thou', 'though', 'thought', 'thoughtsi', 'thousand', 'thread', 'three', 'threw', 'thriller', 'throat', 'throw', 'thrown', 'thru', 'tht', 'thts', 'thuglyfe', 'thurs', 'thursday', 'thus', 'thx', 'thy', 'ti', 'tick', 'ticket', 'tiempo', 'tiger', 'tight', 'tightly', 'tigress', 'tihs', 'tiime', 'til', 'till', 'time', 'timedhoni', 'timehope', 'timeslil', 'timeyou', 'timeyour', 'timi', 'timin', 'timing', 'tip', 'tired', 'tiring', 'tirunelvali', 'tirupur', 'tisscotayseer', 'title', 'titleso', 'tiwary', 'tix', 'tke', 'tkts', 'tlk', 'tm', 'tming', 'tmobile', 'tmorrowpls', 'tmr', 'tmrw', 'tmw', 'tnc', 'tncs', 'toa', 'toaday', 'tobacco', 'tobed', 'tocallshall', 'toclaim', 'today', 'todaybut', 'todaydo', 'todayfrom', 'todaygood', 'todayhe', 'todaysundaysunday', 'todo', 'tog', 'together', 'tohar', 'toilet', 'tok', 'toking', 'told', 'toldshe', 'tolerance', 'toll', 'tom', 'tomarrow', 'tomeandsaidthis', 'tomo', 'tomocant', 'tomorro', 'tomorrow', 'tomorrowcall', 'tomorrowtoday', 'tomorw', 'ton', 'tone', 'tones2u', 'tones2youcouk', 'tonesreply', 'tonexs', 'tonght', 'tongued', 'tonight', 'tonite', 'tonitebusy', 'tonitethings', 'took', 'tookplace', 'tool', 'tooo', 'toopray', 'toot', 'toothpaste', 'top', 'topic', 'topicsorry', 'toplay', 'topped', 'toppoly', 'tor', 'torch', 'tortilla', 'torture', 'tosend', 'toshiba', 'toss', 'tot', 'total', 'totally', 'tote', 'touch', 'touched', 'tough', 'tour', 'towards', 'town', 'towndontmatter', 'toxic', 'tp', 'track', 'trade', 'traffic', 'train', 'trained', 'training', 'trainners', 'tram', 'tranquility', 'transaction', 'transcribing', 'transfer', 'transferacc', 'transfered', 'transfr', 'transfred', 'transport', 'trash', 'trav', 'travel', 'traveling', 'travelling', 'treacle', 'treadmill', 'treasure', 'treat', 'treated', 'treatin', 'treble', 'tree', 'trek', 'trend', 'trial', 'tried', 'trip', 'triple', 'trishul', 'triumphed', 'tron', 'trouble', 'troubleshooting', 'trouser', 'truble', 'truck', 'true', 'truekdo', 'truffle', 'truly', 'truro', 'trust', 'trusting', 'truth', 'truthful', 'try', 'trying', 'trywales', 'tsandcs', 'tscs', 'tscs08714740323', 'tscs087147403231winawkage16', 'tsunami', 'tt', 'ttyl', 'tue', 'tues', 'tuesday', 'tui', 'tuition', 'tul', 'tulip', 'tunde', 'tune', 'tunji', 'turkey', 'turn', 'turned', 'turning', 'tuth', 'tv', 'tvhe', 'twat', 'twelve', 'twenty', 'twice', 'twiggs', 'twilight', 'twin', 'twittering', 'two', 'txt', 'txt250com', 'txtauction', 'txtin', 'txting', 'txtno', 'txts', 'txtx', 'tyler', 'type', 'typelyk', 'typical', 'u', 'u4', 'uawakefeellikw', 'ubandu', 'ubi', 'ucall', 'ufind', 'ugadi', 'ugh', 'uh', 'uhhhhrmm', 'uif', 'uin', 'ujhhhhhhh', 'uk', 'ukmobiledate', 'ukp2000', 'ull', 'ultimate', 'ultimately', 'ultimatum', 'um', 'umma', 'ummmawill', 'ummmmmaah', 'un', 'unable', 'unbelievable', 'uncle', 'uncomfortable', 'unconditionally', 'unconscious', 'uncountable', 'uncut', 'underdtand', 'understand', 'understanding', 'understood', 'underwear', 'undrstndng', 'unemployed', 'uneventful', 'unfortunately', 'unfortuntly', 'unhappiness', 'uni', 'unicef', 'unintentional', 'unintentionally', 'unique', 'uniquei', 'united', 'univ', 'university', 'unknown', 'unless', 'unlike', 'unlimited', 'unnecessarily', 'unni', 'unredeemed', 'unsecured', 'unsold', 'unsub', 'unsubscribe', 'unsubscribed', 'unusual', 'uothrwise', 'up4', 'upd8', 'updat', 'update', 'updatenow', 'upgrade', 'upgrading', 'upgrdcentre', 'uphad', 'upload', 'uploaded', 'upnot', 'upon', 'upstairs', 'upto', 'uptown', 'upyeh', 'ur', 'ure', 'urgent', 'urgentbut', 'urgentlyits', 'urgh', 'urgnt', 'urgoin', 'urination', 'url', 'urmomi', 'urn', 'urself', 'us', 'usb', 'usc', 'uscedu', 'use', 'used', 'useful', 'user', 'usf', 'usget', 'usher', 'using', 'usmle', 'usno', 'uso', 'usual', 'usualiam', 'usually', 'uterus', 'utter', 'uttered', 'uu', 'uup', 'uv', 'uve', 'uworld', 'uxxxx', 'v', 'vaazhthukkal', 'vague', 'vaguely', 'vai', 'vale', 'valentine', 'valid', 'valid12hrs', 'valuable', 'value', 'valued', 'valuemorning', 'varaya', 'vargu', 'various', 'varma', 'vary', 'vasai', 'vat', 'vatian', 'vava', 'vco', 'vega', 'vegetable', 'veggie', 'vehicle', 'velachery', 'velly', 'velusamy', 'venaam', 'venugopal', 'verified', 'verify', 'verifying', 'version', 'versus', 'vettam', 'vewy', 'via', 'vibrant', 'vibrate', 'vibrator', 'vic', 'victor', 'vid', 'video', 'videochat', 'videophones', 'videopic', 'vidnot', 'view', 'vijay', 'vijaykanth', 'vikky', 'vikkyim', 'vilikkamt', 'vill', 'village', 'violence', 'violet', 'vip', 'virgil', 'virgin', 'virtual', 'visionsmscom', 'visit', 'visiting', 'visitneed', 'visitor', 'vital', 'vitamin', 'viva', 'vivek', 'viveki', 'vl', 'vldo', 'voda', 'vodafone', 'vodka', 'voice', 'voicemail', 'volcano', 'vomitin', 'vomiting', 'vote', 'voted', 'voucher', 'voucherstext', 'vpod', 'vry', 'vth', 'vtired', 'vu', 'w', 'w111wx', 'w14rg', 'w1j', 'w1t1jy', 'w4', 'w45wq', 'w8in', 'wa', 'wa14', 'waaaat', 'wad', 'wadebridgei', 'wah', 'wahala', 'wahay', 'waheed', 'waheeda', 'waht', 'wait', 'waitin', 'waiting', 'waitshould', 'waitu', 'wake', 'waking', 'wale', 'waliking', 'walk', 'walkabout', 'walked', 'walkin', 'walking', 'wall', 'wallpaper', 'wallpaperall', 'walmart', 'walsall', 'wamma', 'wan', 'wan2', 'wana', 'wanna', 'wannatell', 'want', 'want2come', 'wanted', 'wanting', 'wap', 'warm', 'warming', 'warned', 'warner', 'warning', 'warranty', 'warwick', 'washob', 'wasnt', 'waste', 'wasted', 'wasting', 'wat', 'watch', 'watched', 'watching', 'watchng', 'water', 'wating', 'watll', 'wats', 'watt', 'wave', 'way', 'way2smscom', 'waythis', 'wc', 'wc1n', 'wc1n3xx', 'weak', 'weakness', 'weapon', 'wear', 'wearing', 'weasel', 'weaseling', 'weather', 'web', 'web2mobile', 'webadres', 'webeburnin', 'webpage', 'website', 'websitenow', 'wed', 'weddin', 'wedding', 'wednesday', 'wee', 'weed', 'week', 'weekday', 'weekend', 'weekly', 'weekstop', 'weigh', 'weighed', 'weight', 'weighthaha', 'weightloss', 'weird', 'weirdest', 'weirdo', 'weirdy', 'weiyi', 'welcome', 'well', 'welli', 'welltake', 'wellyou', 'welp', 'wen', 'wendy', 'went', 'wenwecan', 'wer', 'wereare', 'werebored', 'werent', 'werethe', 'wesley', 'west', 'western', 'westlife', 'westonzoyland', 'westshore', 'wet', 'weve', 'wewa', 'weåõve', 'whatever', 'whats', 'whatsup', 'wheat', 'wheellock', 'whenever', 'whenevr', 'whenre', 'whens', 'whenwhere', 'whereare', 'wherebtw', 'wheres', 'wherever', 'wherevr', 'wherres', 'whether', 'whilltake', 'whisper', 'white', 'whn', 'who', 'whole', 'whore', 'whose', 'whr', 'wi', 'wicket', 'wicklow', 'wid', 'widelivecomindex', 'wif', 'wife', 'wifehow', 'wifi', 'wihtuot', 'wikipediacom', 'wil', 'wild', 'wildest', 'wildlife', 'willing', 'win', 'win150ppmx3age16', 'wind', 'window', 'windy', 'wine', 'wing', 'wining', 'winner', 'winnersclub', 'winning', 'winterstone', 'wipro', 'wiproyou', 'wisdom', 'wise', 'wish', 'wisheds', 'wishin', 'wishing', 'wishlist', 'wiskey', 'wit', 'within', 'without', 'witin', 'witot', 'witout', 'wiv', 'wizzle', 'wk', 'wkend', 'wkent150p16', 'wkg', 'wkly', 'wknd', 'wks', 'wktxt', 'wlcome', 'wld', 'wmlid1b6a5ecef91ff937819firsttrue180430jul05', 'wn', 'wnevr', 'wnt', 'woah', 'wocay', 'woke', 'woken', 'woman', 'womdarfull', 'wondar', 'wondarfull', 'wonder', 'wonderful', 'wondering', 'wont', 'woo', 'wood', 'woodland', 'woohoo', 'woot', 'woould', 'woozles', 'worc', 'word', 'wordcollect', 'wordnot', 'wordsevry', 'work', 'workage', 'workand', 'workin', 'working', 'worklove', 'world', 'worldgnun', 'worldmay', 'worldvery', 'worm', 'worried', 'worriedx', 'worry', 'worrying', 'worryuse', 'worse', 'worst', 'worth', 'worthless', 'wot', 'wotu', 'wotz', 'woul', 'would', 'woulda', 'wouldnt', 'wound', 'wow', 'wrc', 'wrecked', 'wrench', 'wrenching', 'wright', 'write', 'writhing', 'wrk', 'wrki', 'wrkin', 'wrking', 'wrks', 'wrld', 'wrnog', 'wrong', 'wrongly', 'wrote', 'wt', 'wtc', 'wtf', 'wth', 'wthout', 'wud', 'wudnt', 'wuld', 'wuldnt', 'wun', 'www07781482378com', 'www4tcbiz', 'www80488biz', 'wwwapplausestorecom', 'wwwareyouuniquecouk', 'wwwasjesuscom', 'wwwb4utelecom', 'wwwcashbincouk', 'wwwclubmobycom', 'wwwclubzedcouk', 'wwwcnupdatescomnewsletter', 'wwwcomuknet', 'wwwfullonsmscom', 'wwwgambtv', 'wwwgetzedcouk', 'wwwidewcom', 'wwwldewcom', 'wwwldewcom1win150ppmx3age16', 'wwwldewcom1win150ppmx3age16subscription', 'wwwldewcomsubs161win150ppmx3', 'wwwmovietriviatv', 'wwwmusictrivianet', 'wwworangecoukow', 'wwwphb1com', 'wwwregalportfoliocouk', 'wwwringtonekingcouk', 'wwwringtonescouk', 'wwwrtfsphostingcom', 'wwwsantacallingcom', 'wwwsmsacubootydelious', 'wwwsmsacuhmmross', 'wwwsmsacunat27081980', 'wwwsmsacunatalie2k9', 'wwwsmsconet', 'wwwtcbiz', 'wwwtelediscountcouk', 'wwwtextcompcom', 'wwwtextpodnet', 'wwwtxt2shopcom', 'wwwtxt82228com', 'wwwtxttowincouk', 'wwwwin82050couk', 'wylie', 'x', 'x2', 'x29', 'x49', 'x49your', 'xafter', 'xam', 'xavier', 'xchat', 'xclusiveclubsaisai', 'xin', 'xins', 'xmas', 'xuhui', 'xx', 'xxsp', 'xxuk', 'xxx', 'xxxx', 'xxxxx', 'xxxxxx', 'xxxxxxx', 'xxxxxxxx', 'xxxxxxxxxxxxxx', 'xy', 'y87', 'ya', 'yagoing', 'yah', 'yahoo', 'yalrigu', 'yalru', 'yan', 'yar', 'yard', 'yavnt', 'yaxx', 'yay', 'yck', 'yday', 'yeah', 'yeahand', 'year', 'yeesh', 'yeh', 'yelling', 'yellow', 'yelowi', 'yen', 'yep', 'yer', 'yes', 'yes165', 'yes434', 'yes440', 'yes910', 'yesbut', 'yesgauti', 'yeshe', 'yeshere', 'yesim', 'yesmum', 'yest', 'yesterday', 'yet', 'yettys', 'yetunde', 'yi', 'yijue', 'yijuehotmailcom', 'ym', 'ymca', 'yo', 'yoga', 'yogasana', 'yohere', 'yor', 'yorge', 'youany', 'youcarlos', 'youclean', 'youd', 'youdearwith', 'youdoing', 'youi', 'youkwhere', 'yould', 'youll', 'youmoney', 'youmy', 'young', 'younger', 'youphone', 'youre', 'yourjob', 'youso', 'youto', 'youve', 'youwanna', 'youåõre', 'yoville', 'yr', 'ystrdayice', 'yummmm', 'yummy', 'yun', 'yunny', 'yuo', 'yuou', 'yup', 'ywhere', 'z', 'zac', 'zahers', 'zealand', 'zebra', 'zed', 'zero', 'zhong', 'zoe', 'zogtorius', 'zoom', 'zouk', 'å', 'åè10', 'åð', 'åòharry', 'åômorrow', 'åôrents', 'ì', 'ìll', 'ìï', 'û', 'ûthanks', 'ûªm', 'ûªt', 'ûªve', 'ûï', 'ûïharry', 'ûò', 'ûówell']\n"
          ],
          "name": "stdout"
        }
      ]
    },
    {
      "cell_type": "code",
      "metadata": {
        "colab": {
          "base_uri": "https://localhost:8080/"
        },
        "id": "JjwbEnr757cP",
        "outputId": "6934deab-b732-4df9-967d-6aa171333feb"
      },
      "source": [
        "train_vect.shape"
      ],
      "execution_count": null,
      "outputs": [
        {
          "output_type": "execute_result",
          "data": {
            "text/plain": [
              "(4457, 7813)"
            ]
          },
          "metadata": {
            "tags": []
          },
          "execution_count": 114
        }
      ]
    },
    {
      "cell_type": "code",
      "metadata": {
        "colab": {
          "base_uri": "https://localhost:8080/"
        },
        "id": "evQQ768Os-u5",
        "outputId": "947e9fa3-9ec2-4a29-9d4a-28f0bdeceb62"
      },
      "source": [
        "tfidf_train = pd.DataFrame(train_vect.toarray())\n",
        "tfidf_train.columns = tfidf_vect.get_feature_names()\n",
        "tfidf_test = pd.DataFrame(test_vect.toarray())\n",
        "tfidf_test.columns = tfidf_vect.get_feature_names()\n",
        "print(tfidf_train.shape)\n",
        "print(tfidf_test.shape)"
      ],
      "execution_count": null,
      "outputs": [
        {
          "output_type": "stream",
          "text": [
            "(4457, 7813)\n",
            "(1115, 7813)\n"
          ],
          "name": "stdout"
        }
      ]
    },
    {
      "cell_type": "code",
      "metadata": {
        "id": "QAp6W4mht0O1"
      },
      "source": [
        "dff=pd.DataFrame(X_train['text_len'])\n",
        "dgg=pd.DataFrame(X_train['punct_percent'])"
      ],
      "execution_count": null,
      "outputs": []
    },
    {
      "cell_type": "code",
      "metadata": {
        "id": "8U5z4j0stlHp"
      },
      "source": [
        "dss=pd.DataFrame(X_test['text_len'])\n",
        "dqq=pd.DataFrame(X_test['punct_percent'])"
      ],
      "execution_count": null,
      "outputs": []
    },
    {
      "cell_type": "code",
      "metadata": {
        "colab": {
          "base_uri": "https://localhost:8080/"
        },
        "id": "6rP35BolmiCG",
        "outputId": "b9c8e711-b002-4da0-f753-a7e72a9be2ae"
      },
      "source": [
        "from scipy.sparse import hstack\n",
        "# with the same hstack function we are concatinating a sparse matrix and a dense matirx :)\n",
        "train_feat= hstack((tfidf_train,dff,dgg))\n",
        "test_feat=hstack((tfidf_test,dss,dqq))\n",
        "print(train_feat.shape)\n",
        "print(test_feat.shape)"
      ],
      "execution_count": null,
      "outputs": [
        {
          "output_type": "stream",
          "text": [
            "(4457, 7815)\n",
            "(1115, 7815)\n"
          ],
          "name": "stdout"
        }
      ]
    },
    {
      "cell_type": "code",
      "metadata": {
        "id": "lblv2jWGdPsu"
      },
      "source": [
        "from sklearn.ensemble import RandomForestClassifier\n",
        "rf = RandomForestClassifier()\n",
        "rf_model = rf.fit(train_feat, y_train)"
      ],
      "execution_count": null,
      "outputs": []
    },
    {
      "cell_type": "code",
      "metadata": {
        "id": "M7oNKS11jtWu"
      },
      "source": [
        "y_pred = rf_model.predict(test_feat)"
      ],
      "execution_count": null,
      "outputs": []
    },
    {
      "cell_type": "code",
      "metadata": {
        "colab": {
          "base_uri": "https://localhost:8080/"
        },
        "id": "swYBIzKbjx4f",
        "outputId": "fca8d735-4dad-4bbd-856d-732ac5d074b3"
      },
      "source": [
        "\n",
        "from sklearn.metrics import precision_score, recall_score\n",
        "precision = precision_score(y_test, y_pred)\n",
        "recall = recall_score(y_test, y_pred)\n",
        "print('Precision: {} / Recall: {} / Accuracy: {}'.format(\n",
        "    round(precision, 3), round(recall, 3), round((y_pred==y_test).sum()/len(y_pred), 3)))"
      ],
      "execution_count": null,
      "outputs": [
        {
          "output_type": "stream",
          "text": [
            "Precision: 1.0 / Recall: 0.827 / Accuracy: 0.978\n"
          ],
          "name": "stdout"
        }
      ]
    },
    {
      "cell_type": "markdown",
      "metadata": {
        "id": "-7fFekian0FV"
      },
      "source": [
        "VERCTORIZING TEXT USING WORD2VEC\n",
        "-------------------"
      ]
    },
    {
      "cell_type": "code",
      "metadata": {
        "id": "3EtnPUbIj9TI"
      },
      "source": [
        "import gensim\n",
        "w2v_model = gensim.models.Word2Vec(X_train['clean_text'],\n",
        "                                   size=100,\n",
        "                                   window=5,\n",
        "                                   min_count=2)\n",
        "# Train a basic word2vec model on our training data"
      ],
      "execution_count": null,
      "outputs": []
    },
    {
      "cell_type": "code",
      "metadata": {
        "id": "v_WJ8GPdkx43"
      },
      "source": [
        "words = set(w2v_model.wv.index2word)"
      ],
      "execution_count": null,
      "outputs": []
    },
    {
      "cell_type": "code",
      "metadata": {
        "colab": {
          "base_uri": "https://localhost:8080/"
        },
        "id": "TQ3jTUXbBHT2",
        "outputId": "d20ea5c1-2d22-4769-b646-f737a9b2a674"
      },
      "source": [
        "from tqdm import tqdm\n",
        "avg_w2v_vectors = []; # the avg-w2v for each sentence/review is stored in this list\n",
        "for sentence in tqdm(X_train['clean_text']): # for each review/sentence\n",
        "    vector = np.zeros(100) # as word vectors are of zero length\n",
        "    cnt_words =0; # num of words with a valid vector in the sentence/review\n",
        "    for word in sentence: # for each word in a review/sentence\n",
        "        if word in words:\n",
        "            vector += w2v_model[word]\n",
        "            cnt_words += 1\n",
        "    if cnt_words != 0:\n",
        "        vector /= cnt_words\n",
        "    avg_w2v_vectors.append(vector)\n",
        "\n",
        "print(len(avg_w2v_vectors))\n",
        "print(len(avg_w2v_vectors[0]))"
      ],
      "execution_count": null,
      "outputs": [
        {
          "output_type": "stream",
          "text": [
            "  0%|          | 0/4457 [00:00<?, ?it/s]/usr/local/lib/python3.6/dist-packages/ipykernel_launcher.py:8: DeprecationWarning: Call to deprecated `__getitem__` (Method will be removed in 4.0.0, use self.wv.__getitem__() instead).\n",
            "  \n",
            "100%|██████████| 4457/4457 [00:00<00:00, 11669.57it/s]"
          ],
          "name": "stderr"
        },
        {
          "output_type": "stream",
          "text": [
            "4457\n",
            "100\n"
          ],
          "name": "stdout"
        },
        {
          "output_type": "stream",
          "text": [
            "\n"
          ],
          "name": "stderr"
        }
      ]
    },
    {
      "cell_type": "code",
      "metadata": {
        "colab": {
          "base_uri": "https://localhost:8080/"
        },
        "id": "BO0XY0p2CZLg",
        "outputId": "af4a5e1e-ecdf-4575-be03-3e33da6d4876"
      },
      "source": [
        "from tqdm import tqdm\n",
        "test_w2v_vectors = []; # the avg-w2v for each sentence/review is stored in this list\n",
        "for sentence in tqdm(X_test['clean_text']): # for each review/sentence\n",
        "    vector = np.zeros(100) # as word vectors are of zero length\n",
        "    cnt_words =0; # num of words with a valid vector in the sentence/review\n",
        "    for word in sentence: # for each word in a review/sentence\n",
        "        if word in words:\n",
        "            vector += w2v_model[word]\n",
        "            cnt_words += 1\n",
        "    if cnt_words != 0:\n",
        "        vector /= cnt_words\n",
        "    test_w2v_vectors.append(vector)\n"
      ],
      "execution_count": null,
      "outputs": [
        {
          "output_type": "stream",
          "text": [
            "  0%|          | 0/1115 [00:00<?, ?it/s]/usr/local/lib/python3.6/dist-packages/ipykernel_launcher.py:8: DeprecationWarning: Call to deprecated `__getitem__` (Method will be removed in 4.0.0, use self.wv.__getitem__() instead).\n",
            "  \n",
            "100%|██████████| 1115/1115 [00:00<00:00, 7004.72it/s]\n"
          ],
          "name": "stderr"
        }
      ]
    },
    {
      "cell_type": "code",
      "metadata": {
        "colab": {
          "base_uri": "https://localhost:8080/"
        },
        "id": "STPGskkICFUn",
        "outputId": "47bf2bd3-257a-4a99-fec4-cde39ffd0850"
      },
      "source": [
        "print(len(test_w2v_vectors))\n",
        "print(len(test_w2v_vectors[0]))"
      ],
      "execution_count": null,
      "outputs": [
        {
          "output_type": "stream",
          "text": [
            "1115\n",
            "100\n"
          ],
          "name": "stdout"
        }
      ]
    },
    {
      "cell_type": "code",
      "metadata": {
        "colab": {
          "base_uri": "https://localhost:8080/"
        },
        "id": "Lh2YaBZiD18U",
        "outputId": "6fea6c56-f6fe-497f-ff8c-e7f0284a9724"
      },
      "source": [
        "#lets stack numeric aand text features\n",
        "train_w2v= hstack((avg_w2v_vectors,dff,dgg))\n",
        "test_w2v=hstack((test_w2v_vectors,dss,dqq))\n",
        "print(train_w2v.shape)\n",
        "print(test_w2v.shape)\n"
      ],
      "execution_count": null,
      "outputs": [
        {
          "output_type": "stream",
          "text": [
            "(4457, 102)\n",
            "(1115, 102)\n"
          ],
          "name": "stdout"
        }
      ]
    },
    {
      "cell_type": "code",
      "metadata": {
        "id": "a7KoRNE4n03w"
      },
      "source": [
        "rf = RandomForestClassifier()\n",
        "rf_model = rf.fit(train_w2v, y_train)"
      ],
      "execution_count": null,
      "outputs": []
    },
    {
      "cell_type": "code",
      "metadata": {
        "colab": {
          "base_uri": "https://localhost:8080/"
        },
        "id": "fY3a8Bn5tjAY",
        "outputId": "1aa43e56-353c-44aa-b159-d8e5039161d6"
      },
      "source": [
        "#model prediction and evaluation on test set\n",
        "y_pred = rf_model.predict(test_w2v) \n",
        "precision = precision_score(y_test, y_pred)\n",
        "recall = recall_score(y_test, y_pred)\n",
        "print('Precision: {} / Recall: {} / Accuracy: {}'.format(\n",
        "    round(precision, 3), round(recall, 3), round((y_pred==y_test).sum()/len(y_pred), 3)))"
      ],
      "execution_count": null,
      "outputs": [
        {
          "output_type": "stream",
          "text": [
            "Precision: 1.0 / Recall: 0.691 / Accuracy: 0.961\n"
          ],
          "name": "stdout"
        }
      ]
    },
    {
      "cell_type": "markdown",
      "metadata": {
        "id": "QNwlVUfbPRvB"
      },
      "source": [
        "Vectorization using DOC2VEC\n",
        "========="
      ]
    },
    {
      "cell_type": "code",
      "metadata": {
        "id": "x9UKFrDjtY5k"
      },
      "source": [
        "#getting words usind DOC2VEC\n",
        "doc_tag_train = [gensim.models.doc2vec.TaggedDocument(v, [i])\n",
        "                     for i, v in enumerate(X_train['clean_text'])]\n",
        "doc_tag_test = [gensim.models.doc2vec.TaggedDocument(v, [i])\n",
        "                    for i, v in enumerate(X_test['clean_text'])]"
      ],
      "execution_count": null,
      "outputs": []
    },
    {
      "cell_type": "code",
      "metadata": {
        "colab": {
          "base_uri": "https://localhost:8080/"
        },
        "id": "GtZyZKRozd23",
        "outputId": "9a064915-782a-485a-ccd0-e5d17860dd40"
      },
      "source": [
        "doc_tag_train[:10]"
      ],
      "execution_count": null,
      "outputs": [
        {
          "output_type": "execute_result",
          "data": {
            "text/plain": [
              "[TaggedDocument(words=['omw', 'back', 'tampa', 'west', 'palm', 'hear', 'happened'], tags=[0]),\n",
              " TaggedDocument(words=['pure', 'hearted', 'person', 'wonderful', 'smile', 'make', 'even', 'hisher', 'enemy', 'feel', 'guilty', 'enemy', 'catch', 'world', 'smile', 'goodmorning', 'amp', 'smiley', 'sunday'], tags=[1]),\n",
              " TaggedDocument(words=['recpt', '13', 'ordered', 'ringtone', 'order', 'processed'], tags=[2]),\n",
              " TaggedDocument(words=['ok', 'april', 'cant', 'wait'], tags=[3]),\n",
              " TaggedDocument(words=['ya', 'ok', 'dinner'], tags=[4]),\n",
              " TaggedDocument(words=['consider', 'wall', 'bunker', 'shit', 'important', 'never', 'play', 'peaceful', 'guess', 'place', 'high', 'enough', 'dont', 'matter'], tags=[5]),\n",
              " TaggedDocument(words=['sure', 'night', 'menu', 'know', 'noon', 'menu'], tags=[6]),\n",
              " TaggedDocument(words=['someone', 'u', 'know', 'asked', 'dating', 'service', '2', 'contact', 'cant', 'guess', 'call', '09058091854', 'revealed', 'po', 'box385', 'm6', '6wu'], tags=[7]),\n",
              " TaggedDocument(words=['callsmessagesmissed', 'call'], tags=[8]),\n",
              " TaggedDocument(words=['ok', 'enjoy', 'r', 'u', 'home'], tags=[9])]"
            ]
          },
          "metadata": {
            "tags": []
          },
          "execution_count": 134
        }
      ]
    },
    {
      "cell_type": "code",
      "metadata": {
        "id": "HzLjm3pKzqmM"
      },
      "source": [
        "d2v_model = gensim.models.Doc2Vec(doc_tag_train,\n",
        "                                  vector_size=100,\n",
        "                                  window=5,\n",
        "                                  min_count=2)\n",
        "# Training a basic doc2vec model"
      ],
      "execution_count": null,
      "outputs": []
    },
    {
      "cell_type": "code",
      "metadata": {
        "colab": {
          "base_uri": "https://localhost:8080/"
        },
        "id": "-W_QesIL7e-k",
        "outputId": "edd158db-f5ad-492d-eaa7-fc11a22619c1"
      },
      "source": [
        "d2v_model.infer_vector(['happy', 'deepavali', 'to', 'everyone'])\n",
        "#example to see how d2v vectors look like"
      ],
      "execution_count": null,
      "outputs": [
        {
          "output_type": "execute_result",
          "data": {
            "text/plain": [
              "array([ 2.50690710e-03, -1.48047535e-02, -7.04272278e-03, -6.83367485e-03,\n",
              "        2.22320762e-03,  7.95769412e-03,  2.40248279e-03,  5.61994128e-03,\n",
              "       -6.94849482e-03,  2.21587182e-03,  9.69665218e-03, -7.47682585e-04,\n",
              "       -8.38195160e-03,  3.77993286e-03,  2.37473124e-03,  3.40466481e-03,\n",
              "        1.12460693e-02, -1.95820280e-03, -1.47327119e-02, -9.97993909e-03,\n",
              "        1.61639787e-03, -9.83112841e-04,  1.74994243e-03, -1.05431754e-05,\n",
              "       -9.99938138e-03,  1.25824036e-02,  1.13125984e-02,  1.06225237e-02,\n",
              "       -1.18393479e-02,  1.00579225e-02,  5.54088643e-03, -7.88440183e-03,\n",
              "       -4.85946424e-03,  1.16722926e-03, -5.48183126e-03,  1.90768912e-02,\n",
              "       -2.68416409e-03,  6.02410734e-03,  9.82735027e-03,  9.06077679e-03,\n",
              "        1.04715605e-03,  1.75151974e-03,  7.35337613e-04, -1.01058381e-02,\n",
              "        1.23227686e-02,  7.22568668e-03, -3.17909825e-03,  1.39575843e-02,\n",
              "       -1.19969165e-02,  3.40859126e-03,  1.10997027e-02, -1.99971627e-03,\n",
              "        4.96758195e-03,  1.31764226e-02,  6.83411164e-03,  1.04980776e-02,\n",
              "       -1.25934593e-02, -1.93415571e-03,  4.31372924e-03, -1.09696584e-02,\n",
              "       -7.16959534e-04, -4.89237078e-04,  5.18846652e-03,  1.04651600e-02,\n",
              "       -1.49765788e-02,  4.46408521e-03, -1.37381935e-02, -3.39567450e-05,\n",
              "       -5.46319690e-03,  7.82365911e-03, -2.32040347e-03,  3.52951465e-03,\n",
              "        1.88128110e-02, -9.90920886e-03, -1.38948644e-02,  3.17864888e-03,\n",
              "        8.02118052e-03, -1.44566512e-02, -1.74165110e-03,  1.02729397e-02,\n",
              "       -4.64663794e-03, -4.63069417e-03, -2.79618357e-03,  4.05988144e-03,\n",
              "        1.36338081e-02,  1.09986365e-02,  1.31692588e-02, -1.02669010e-02,\n",
              "        4.77355625e-03, -3.27168289e-03, -2.74333428e-03, -1.40287820e-02,\n",
              "       -4.53165872e-03,  8.06259178e-03,  7.81726383e-04, -1.15796539e-03,\n",
              "        5.56509849e-03,  6.25510188e-03, -6.00026734e-03,  1.35983210e-02],\n",
              "      dtype=float32)"
            ]
          },
          "metadata": {
            "tags": []
          },
          "execution_count": 136
        }
      ]
    },
    {
      "cell_type": "code",
      "metadata": {
        "id": "kS_PyzQP9XPi"
      },
      "source": [
        "#obtaning vectors using d2v for train and test data\n",
        "train_vectors_final = [d2v_model.infer_vector (v.words) for v in doc_tag_train]\n",
        "test_vectors_final = [d2v_model.infer_vector (v.words) for v in doc_tag_test]   "
      ],
      "execution_count": null,
      "outputs": []
    },
    {
      "cell_type": "code",
      "metadata": {
        "colab": {
          "base_uri": "https://localhost:8080/"
        },
        "id": "AHLbsmXKFVcV",
        "outputId": "e315393e-04a1-406b-ab10-7e3ca555ba8d"
      },
      "source": [
        "#stack numerical and text features \n",
        "train_d2v= hstack((train_vectors_final,dff,dgg))\n",
        "test_d2v=hstack((test_vectors_final,dss,dqq))\n",
        "print(train_d2v.shape)\n",
        "print(test_d2v.shape)"
      ],
      "execution_count": null,
      "outputs": [
        {
          "output_type": "stream",
          "text": [
            "(4457, 102)\n",
            "(1115, 102)\n"
          ],
          "name": "stdout"
        }
      ]
    },
    {
      "cell_type": "code",
      "metadata": {
        "colab": {
          "base_uri": "https://localhost:8080/"
        },
        "id": "3OQn72soBTcJ",
        "outputId": "af00ff3f-c2f2-4e0c-f8b3-169fd1c4f1aa"
      },
      "source": [
        "#instantiate the random forest classifier\n",
        "rf = RandomForestClassifier()\n",
        "rf_model = rf.fit(train_d2v, y_train)\n",
        "#predict model performance using test vectors\n",
        "y_pred = rf_model.predict(test_d2v)\n",
        "#evaluate the models performance\n",
        "precision = precision_score(y_test, y_pred)\n",
        "recall = recall_score(y_test, y_pred)\n",
        "print('Precision: {} //// Recall: {} //// Accuracy: {}'.format(\n",
        "    round(precision,2), round(recall, 2), round((y_pred==y_test).sum()/len(y_pred), 2)))"
      ],
      "execution_count": null,
      "outputs": [
        {
          "output_type": "stream",
          "text": [
            "Precision: 0.81 //// Recall: 0.27 //// Accuracy: 0.9\n"
          ],
          "name": "stdout"
        }
      ]
    },
    {
      "cell_type": "markdown",
      "metadata": {
        "id": "c--XHZ3QD631"
      },
      "source": [
        "Recurrent neural network \n",
        "========="
      ]
    },
    {
      "cell_type": "code",
      "metadata": {
        "id": "nLqxgJl8BLN_"
      },
      "source": [
        "# training the tokenizer and use tokenizer to convert the sentences to sequences of numbers\n",
        "from keras.preprocessing.text import Tokenizer\n",
        "from keras.preprocessing.sequence import pad_sequences\n",
        "\n",
        "tokenizer = Tokenizer()\n",
        "tokenizer.fit_on_texts(X_train['clean_text'])\n",
        "X_train_seq = tokenizer.texts_to_sequences(X_train['clean_text'])\n",
        "X_test_seq = tokenizer.texts_to_sequences(X_test['clean_text'])"
      ],
      "execution_count": null,
      "outputs": []
    },
    {
      "cell_type": "code",
      "metadata": {
        "id": "w9OYrg3NHKc7"
      },
      "source": [
        "train_seq_padded = pad_sequences(X_train_seq, 50)\n",
        "test_seq_padded = pad_sequences(X_test_seq, 50)\n",
        "# padding the sequences so each sequence is of same length"
      ],
      "execution_count": null,
      "outputs": []
    },
    {
      "cell_type": "code",
      "metadata": {
        "colab": {
          "base_uri": "https://localhost:8080/"
        },
        "id": "8pBtQM5uGz9L",
        "outputId": "fc049f37-2d9e-4005-9a3d-5f553ba736ec"
      },
      "source": [
        "train_rnn= hstack((train_seq_padded,dff,dgg))\n",
        "test_rnn=hstack((test_seq_padded,dss,dqq))\n",
        "\n",
        "print(train_rnn.shape)\n",
        "print(test_rnn.shape)"
      ],
      "execution_count": null,
      "outputs": [
        {
          "output_type": "stream",
          "text": [
            "(4457, 52)\n",
            "(1115, 52)\n"
          ],
          "name": "stdout"
        }
      ]
    },
    {
      "cell_type": "code",
      "metadata": {
        "id": "xH2X3xCdJwys"
      },
      "source": [
        "import keras.backend as K\n",
        "from keras.layers import Dense, Embedding, LSTM\n",
        "from keras.models import Sequential"
      ],
      "execution_count": null,
      "outputs": []
    },
    {
      "cell_type": "code",
      "metadata": {
        "colab": {
          "base_uri": "https://localhost:8080/"
        },
        "id": "aHxoE9-SJxa9",
        "outputId": "e1b16478-bf51-43d4-e382-6be9378d0e60"
      },
      "source": [
        "#instantiating our neural network model\n",
        "model = Sequential()\n",
        "\n",
        "model.add(Embedding(len(tokenizer.index_word)+1, 32))\n",
        "model.add(LSTM(32, dropout=0, recurrent_dropout=0))\n",
        "model.add(Dense(32, activation='relu'))\n",
        "model.add(Dense(1, activation='sigmoid'))\n",
        "model.summary()"
      ],
      "execution_count": null,
      "outputs": [
        {
          "output_type": "stream",
          "text": [
            "Model: \"sequential_3\"\n",
            "_________________________________________________________________\n",
            "Layer (type)                 Output Shape              Param #   \n",
            "=================================================================\n",
            "embedding_3 (Embedding)      (None, None, 32)          250048    \n",
            "_________________________________________________________________\n",
            "lstm_3 (LSTM)                (None, 32)                8320      \n",
            "_________________________________________________________________\n",
            "dense_6 (Dense)              (None, 32)                1056      \n",
            "_________________________________________________________________\n",
            "dense_7 (Dense)              (None, 1)                 33        \n",
            "=================================================================\n",
            "Total params: 259,457\n",
            "Trainable params: 259,457\n",
            "Non-trainable params: 0\n",
            "_________________________________________________________________\n"
          ],
          "name": "stdout"
        }
      ]
    },
    {
      "cell_type": "code",
      "metadata": {
        "id": "x0NCFVESl6ae"
      },
      "source": [
        "import keras\n",
        "train_data=train_rnn.toarray()\n",
        "test_data=test_rnn.toarray()"
      ],
      "execution_count": null,
      "outputs": []
    },
    {
      "cell_type": "code",
      "metadata": {
        "colab": {
          "base_uri": "https://localhost:8080/"
        },
        "id": "Fbjtjd80bpPI",
        "outputId": "1063946e-6ab9-42de-be0b-077382c99753"
      },
      "source": [
        "train_seq_padded"
      ],
      "execution_count": null,
      "outputs": [
        {
          "output_type": "execute_result",
          "data": {
            "text/plain": [
              "array([[   0,    0,    0, ..., 3492,  291,  554],\n",
              "       [   0,    0,    0, ...,   97, 3496,  927],\n",
              "       [   0,    0,    0, ...,  351,  524, 2227],\n",
              "       ...,\n",
              "       [   0,    0,    0, ..., 1575,  559,  310],\n",
              "       [   0,    0,    0, ...,  479,   28,   77],\n",
              "       [   0,    0,    0, ...,   97, 1829,    1]], dtype=int32)"
            ]
          },
          "metadata": {
            "tags": []
          },
          "execution_count": 165
        }
      ]
    },
    {
      "cell_type": "code",
      "metadata": {
        "id": "4bqnxPDWJxL0"
      },
      "source": [
        "#compiling our rnn model\n",
        "model.compile(optimizer='adam',loss='binary_crossentropy',metrics=['accuracy',keras.metrics.Precision(),keras.metrics.Recall()])"
      ],
      "execution_count": null,
      "outputs": []
    },
    {
      "cell_type": "code",
      "metadata": {
        "id": "YP_AfVEdKD0J",
        "colab": {
          "base_uri": "https://localhost:8080/"
        },
        "outputId": "66ce2db7-8e6c-46ad-8e93-82d6e8527b0b"
      },
      "source": [
        "#fitting our model to our train data and evaluating on test data for each epoch\n",
        "history = model.fit(train_data,\n",
        "                    y_train,\n",
        "                    batch_size=32, \n",
        "                    epochs=10,\n",
        "                    validation_data=(test_data, y_test))"
      ],
      "execution_count": null,
      "outputs": [
        {
          "output_type": "stream",
          "text": [
            "Epoch 1/10\n",
            "140/140 [==============================] - 4s 27ms/step - loss: 1.1528e-05 - accuracy: 1.0000 - precision_3: 1.0000 - recall_3: 1.0000 - val_loss: 0.1387 - val_accuracy: 0.9848 - val_precision_3: 0.9919 - val_recall_3: 0.8849\n",
            "Epoch 2/10\n",
            "140/140 [==============================] - 4s 25ms/step - loss: 9.9789e-06 - accuracy: 1.0000 - precision_3: 1.0000 - recall_3: 1.0000 - val_loss: 0.1403 - val_accuracy: 0.9848 - val_precision_3: 0.9919 - val_recall_3: 0.8849\n",
            "Epoch 3/10\n",
            "140/140 [==============================] - 4s 26ms/step - loss: 8.7129e-06 - accuracy: 1.0000 - precision_3: 1.0000 - recall_3: 1.0000 - val_loss: 0.1419 - val_accuracy: 0.9848 - val_precision_3: 0.9919 - val_recall_3: 0.8849\n",
            "Epoch 4/10\n",
            "140/140 [==============================] - 4s 26ms/step - loss: 7.6621e-06 - accuracy: 1.0000 - precision_3: 1.0000 - recall_3: 1.0000 - val_loss: 0.1433 - val_accuracy: 0.9848 - val_precision_3: 0.9919 - val_recall_3: 0.8849\n",
            "Epoch 5/10\n",
            "140/140 [==============================] - 4s 26ms/step - loss: 6.7922e-06 - accuracy: 1.0000 - precision_3: 1.0000 - recall_3: 1.0000 - val_loss: 0.1446 - val_accuracy: 0.9848 - val_precision_3: 0.9919 - val_recall_3: 0.8849\n",
            "Epoch 6/10\n",
            "140/140 [==============================] - 4s 26ms/step - loss: 6.0493e-06 - accuracy: 1.0000 - precision_3: 1.0000 - recall_3: 1.0000 - val_loss: 0.1460 - val_accuracy: 0.9848 - val_precision_3: 0.9919 - val_recall_3: 0.8849\n",
            "Epoch 7/10\n",
            "140/140 [==============================] - 4s 26ms/step - loss: 5.4026e-06 - accuracy: 1.0000 - precision_3: 1.0000 - recall_3: 1.0000 - val_loss: 0.1471 - val_accuracy: 0.9848 - val_precision_3: 0.9919 - val_recall_3: 0.8849\n",
            "Epoch 8/10\n",
            "140/140 [==============================] - 4s 26ms/step - loss: 4.8466e-06 - accuracy: 1.0000 - precision_3: 1.0000 - recall_3: 1.0000 - val_loss: 0.1485 - val_accuracy: 0.9848 - val_precision_3: 0.9919 - val_recall_3: 0.8849\n",
            "Epoch 9/10\n",
            "140/140 [==============================] - 4s 26ms/step - loss: 4.3662e-06 - accuracy: 1.0000 - precision_3: 1.0000 - recall_3: 1.0000 - val_loss: 0.1496 - val_accuracy: 0.9848 - val_precision_3: 0.9919 - val_recall_3: 0.8849\n",
            "Epoch 10/10\n",
            "140/140 [==============================] - 4s 26ms/step - loss: 3.9453e-06 - accuracy: 1.0000 - precision_3: 1.0000 - recall_3: 1.0000 - val_loss: 0.1508 - val_accuracy: 0.9848 - val_precision_3: 0.9919 - val_recall_3: 0.8849\n"
          ],
          "name": "stdout"
        }
      ]
    },
    {
      "cell_type": "markdown",
      "metadata": {
        "id": "_YjjtmlTKVkM"
      },
      "source": [
        "Summarizing All models performace "
      ]
    },
    {
      "cell_type": "code",
      "metadata": {
        "id": "_AegChQGKbhf"
      },
      "source": [
        "from prettytable import PrettyTable\n"
      ],
      "execution_count": 56,
      "outputs": []
    },
    {
      "cell_type": "code",
      "metadata": {
        "id": "CjrRQUIaKdc7"
      },
      "source": [
        "myTable = PrettyTable([\"model\", \"Accuracy \", \"Precision           \",\"Recall           \"])"
      ],
      "execution_count": 57,
      "outputs": []
    },
    {
      "cell_type": "code",
      "metadata": {
        "id": "U8kXLxJcLp04"
      },
      "source": [
        "#x.add_column(\"TFIDF\",\"WORD2VEC\",\"DOC2VEC\",\"RNN\",[model])\n",
        "myTable.add_row([\"TFIDF\", \"97 %\", \"1.0\", \"0.82\"]) \n",
        "myTable.add_row([\"WORD2VEC\", \"96.1 %\", \"1.0\", \"0.69\"]) \n",
        "myTable.add_row([\"DOC2VEC\", \"90 %\", \"0.81\", \"0.27\"]) \n",
        "myTable.add_row([\"RNN\", \"98 %\", \"0.99\", \"0.88\"]) \n"
      ],
      "execution_count": 58,
      "outputs": []
    },
    {
      "cell_type": "code",
      "metadata": {
        "colab": {
          "base_uri": "https://localhost:8080/"
        },
        "id": "rcdxyr5FLC18",
        "outputId": "b3278d78-26e1-42fb-cf58-c0ebeb3555bf"
      },
      "source": [
        "print(myTable)"
      ],
      "execution_count": 59,
      "outputs": [
        {
          "output_type": "stream",
          "text": [
            "+----------+-----------+----------------------+-------------------+\n",
            "|  model   | Accuracy  | Precision            | Recall            |\n",
            "+----------+-----------+----------------------+-------------------+\n",
            "|  TFIDF   |    97 %   |         1.0          |        0.82       |\n",
            "| WORD2VEC |   96.1 %  |         1.0          |        0.69       |\n",
            "| DOC2VEC  |    90 %   |         0.81         |        0.27       |\n",
            "|   RNN    |    98 %   |         0.99         |        0.88       |\n",
            "+----------+-----------+----------------------+-------------------+\n"
          ],
          "name": "stdout"
        }
      ]
    },
    {
      "cell_type": "markdown",
      "metadata": {
        "id": "aQW3DWrOXTnN"
      },
      "source": [
        "Summary\n",
        "-------------\n",
        "We can clearly see that our basic RNN model performs better than TFIDF,W2V,D2V models.\n",
        "we can further tune the hyper parameters and experiment on TFIDF,W2V,D2V which might increase the models performance."
      ]
    },
    {
      "cell_type": "code",
      "metadata": {
        "id": "xFHBV7nRTlDD"
      },
      "source": [
        ""
      ],
      "execution_count": null,
      "outputs": []
    }
  ]
}