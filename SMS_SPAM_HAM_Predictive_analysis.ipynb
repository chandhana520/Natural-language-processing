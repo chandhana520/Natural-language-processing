{
  "nbformat": 4,
  "nbformat_minor": 0,
  "metadata": {
    "colab": {
      "name": "SMS_SPAM/HAM Predictive analysis",
      "provenance": [],
      "collapsed_sections": []
    },
    "kernelspec": {
      "name": "python3",
      "display_name": "Python 3"
    }
  },
  "cells": [
    {
      "cell_type": "markdown",
      "metadata": {
        "id": "9_x1GxgsduEH"
      },
      "source": [
        "**SMS SPAM/HAM DATASET**\n",
        "==============\n",
        "The SMS Spam Collection is a set of SMS tagged messages that have been collected for SMS Spam research. It contains one set of SMS messages in English of 5,574 messages, tagged acording being ham (legitimate) or spam."
      ]
    },
    {
      "cell_type": "markdown",
      "metadata": {
        "id": "iJDybKPBgwz5"
      },
      "source": [
        "Analysing the dataset![spam_classifier_g2mt4wa.png](data:image/png;base64,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)\n",
        "------\n",
        "\n",
        "Objective is to predict if a new sms is spam or ham.It is much worse to misclassify ham than misclassify an spam.\n",
        "\n",
        "*The reason is we normally don't check the spam messages if a ham message is moved to spam folder we probably don't read it.*\n",
        "The two possible situations are:\n",
        "------------\n",
        "\n",
        "* New spam sms in my inbox. (False negative). I delete it.\n",
        "* New ham sms in my spam folder (False positive). I may not read it.\n",
        "\n",
        "I prefer the first case and I dont want False positives.\n",
        "\n",
        "First we transform the variable spam/ham into binary variable, then we split our data set in training set and test .\n",
        "\n"
      ]
    },
    {
      "cell_type": "markdown",
      "metadata": {
        "id": "TVTH3TTBgwtz"
      },
      "source": [
        ""
      ]
    },
    {
      "cell_type": "code",
      "metadata": {
        "id": "T3Er64s_VcTw"
      },
      "source": [
        "import nltk\n",
        "import pandas as pd\n",
        "import re\n",
        "from sklearn.feature_extraction.text import TfidfVectorizer\n",
        "import string\n"
      ],
      "execution_count": 93,
      "outputs": []
    },
    {
      "cell_type": "code",
      "metadata": {
        "id": "sOOJv5NmWHGU",
        "colab": {
          "base_uri": "https://localhost:8080/"
        },
        "outputId": "aeb635e7-ad02-4567-93c8-6b82c985ae3c"
      },
      "source": [
        "from nltk.corpus import stopwords\n",
        "nltk.download('stopwords')\n",
        "stopwords.words('english')[1:5]"
      ],
      "execution_count": 94,
      "outputs": [
        {
          "output_type": "stream",
          "text": [
            "[nltk_data] Downloading package stopwords to /root/nltk_data...\n",
            "[nltk_data]   Package stopwords is already up-to-date!\n"
          ],
          "name": "stdout"
        },
        {
          "output_type": "execute_result",
          "data": {
            "text/plain": [
              "['me', 'my', 'myself', 'we']"
            ]
          },
          "metadata": {
            "tags": []
          },
          "execution_count": 94
        }
      ]
    },
    {
      "cell_type": "code",
      "metadata": {
        "id": "q18a4haaWQ0f"
      },
      "source": [
        "# Code to read csv file into Colaboratory:\n",
        "!pip install -U -q PyDrive\n",
        "\n",
        "from pydrive.auth import GoogleAuth\n",
        "from pydrive.drive import GoogleDrive\n",
        "from google.colab import auth\n",
        "from oauth2client.client import GoogleCredentials\n",
        "# Authenticate and create the PyDrive client.\n",
        "auth.authenticate_user()\n",
        "gauth = GoogleAuth()\n",
        "gauth.credentials = GoogleCredentials.get_application_default()\n",
        "drive = GoogleDrive(gauth)"
      ],
      "execution_count": 95,
      "outputs": []
    },
    {
      "cell_type": "code",
      "metadata": {
        "id": "O3p4-Iu9ilIh"
      },
      "source": [
        "train_downloaded = drive.CreateFile({'id': '1l30dRqD9p0Xtx7L7Ge65OAwd_LXOQKvq'})\n",
        "train_downloaded.GetContentFile('spam.csv')"
      ],
      "execution_count": 96,
      "outputs": []
    },
    {
      "cell_type": "code",
      "metadata": {
        "id": "sfbz983Bi1Wf",
        "colab": {
          "base_uri": "https://localhost:8080/",
          "height": 204
        },
        "outputId": "8208b1c4-7bcb-4693-88ce-8cd81d3f762e"
      },
      "source": [
        "\n",
        "df=pd.read_csv('spam.csv',encoding='latin-1')\n",
        "df.head()"
      ],
      "execution_count": 97,
      "outputs": [
        {
          "output_type": "execute_result",
          "data": {
            "text/html": [
              "<div>\n",
              "<style scoped>\n",
              "    .dataframe tbody tr th:only-of-type {\n",
              "        vertical-align: middle;\n",
              "    }\n",
              "\n",
              "    .dataframe tbody tr th {\n",
              "        vertical-align: top;\n",
              "    }\n",
              "\n",
              "    .dataframe thead th {\n",
              "        text-align: right;\n",
              "    }\n",
              "</style>\n",
              "<table border=\"1\" class=\"dataframe\">\n",
              "  <thead>\n",
              "    <tr style=\"text-align: right;\">\n",
              "      <th></th>\n",
              "      <th>v1</th>\n",
              "      <th>v2</th>\n",
              "      <th>Unnamed: 2</th>\n",
              "      <th>Unnamed: 3</th>\n",
              "      <th>Unnamed: 4</th>\n",
              "    </tr>\n",
              "  </thead>\n",
              "  <tbody>\n",
              "    <tr>\n",
              "      <th>0</th>\n",
              "      <td>ham</td>\n",
              "      <td>Go until jurong point, crazy.. Available only ...</td>\n",
              "      <td>NaN</td>\n",
              "      <td>NaN</td>\n",
              "      <td>NaN</td>\n",
              "    </tr>\n",
              "    <tr>\n",
              "      <th>1</th>\n",
              "      <td>ham</td>\n",
              "      <td>Ok lar... Joking wif u oni...</td>\n",
              "      <td>NaN</td>\n",
              "      <td>NaN</td>\n",
              "      <td>NaN</td>\n",
              "    </tr>\n",
              "    <tr>\n",
              "      <th>2</th>\n",
              "      <td>spam</td>\n",
              "      <td>Free entry in 2 a wkly comp to win FA Cup fina...</td>\n",
              "      <td>NaN</td>\n",
              "      <td>NaN</td>\n",
              "      <td>NaN</td>\n",
              "    </tr>\n",
              "    <tr>\n",
              "      <th>3</th>\n",
              "      <td>ham</td>\n",
              "      <td>U dun say so early hor... U c already then say...</td>\n",
              "      <td>NaN</td>\n",
              "      <td>NaN</td>\n",
              "      <td>NaN</td>\n",
              "    </tr>\n",
              "    <tr>\n",
              "      <th>4</th>\n",
              "      <td>ham</td>\n",
              "      <td>Nah I don't think he goes to usf, he lives aro...</td>\n",
              "      <td>NaN</td>\n",
              "      <td>NaN</td>\n",
              "      <td>NaN</td>\n",
              "    </tr>\n",
              "  </tbody>\n",
              "</table>\n",
              "</div>"
            ],
            "text/plain": [
              "     v1  ... Unnamed: 4\n",
              "0   ham  ...        NaN\n",
              "1   ham  ...        NaN\n",
              "2  spam  ...        NaN\n",
              "3   ham  ...        NaN\n",
              "4   ham  ...        NaN\n",
              "\n",
              "[5 rows x 5 columns]"
            ]
          },
          "metadata": {
            "tags": []
          },
          "execution_count": 97
        }
      ]
    },
    {
      "cell_type": "code",
      "metadata": {
        "id": "R3nQDBG4j1kA",
        "colab": {
          "base_uri": "https://localhost:8080/"
        },
        "outputId": "d00964be-e557-4de8-d1c4-ead9f9276e2d"
      },
      "source": [
        "\n",
        "df.info()"
      ],
      "execution_count": 98,
      "outputs": [
        {
          "output_type": "stream",
          "text": [
            "<class 'pandas.core.frame.DataFrame'>\n",
            "RangeIndex: 5572 entries, 0 to 5571\n",
            "Data columns (total 5 columns):\n",
            " #   Column      Non-Null Count  Dtype \n",
            "---  ------      --------------  ----- \n",
            " 0   v1          5572 non-null   object\n",
            " 1   v2          5572 non-null   object\n",
            " 2   Unnamed: 2  50 non-null     object\n",
            " 3   Unnamed: 3  12 non-null     object\n",
            " 4   Unnamed: 4  6 non-null      object\n",
            "dtypes: object(5)\n",
            "memory usage: 217.8+ KB\n"
          ],
          "name": "stdout"
        }
      ]
    },
    {
      "cell_type": "code",
      "metadata": {
        "id": "ztSmufEajCnd",
        "colab": {
          "base_uri": "https://localhost:8080/"
        },
        "outputId": "46a98938-d4cb-4cc2-9b14-83bb8aa3eb48"
      },
      "source": [
        "#checking the columns with most null values\n",
        "df.isnull().sum()"
      ],
      "execution_count": 99,
      "outputs": [
        {
          "output_type": "execute_result",
          "data": {
            "text/plain": [
              "v1               0\n",
              "v2               0\n",
              "Unnamed: 2    5522\n",
              "Unnamed: 3    5560\n",
              "Unnamed: 4    5566\n",
              "dtype: int64"
            ]
          },
          "metadata": {
            "tags": []
          },
          "execution_count": 99
        }
      ]
    },
    {
      "cell_type": "markdown",
      "metadata": {
        "id": "T8Dl9eVMkDBp"
      },
      "source": [
        "As most of the values in Unnamed: 2 , Unnamed: 3   ,Unnamed: 4 columns are null values lets drop those columns"
      ]
    },
    {
      "cell_type": "code",
      "metadata": {
        "id": "9zVbFBuUjlik"
      },
      "source": [
        "\n",
        "#drop unused columns and label the columns which are used \n",
        "df.drop(labels=[\"Unnamed: 2\" , \"Unnamed: 3\" ,\"Unnamed: 4\"],inplace=True,axis=1)\n",
        "df.columns=['label','text']"
      ],
      "execution_count": 100,
      "outputs": []
    },
    {
      "cell_type": "code",
      "metadata": {
        "id": "d2LkF7Fhk4uc",
        "colab": {
          "base_uri": "https://localhost:8080/"
        },
        "outputId": "2175eb5d-9652-4c9e-a01f-08746039998f"
      },
      "source": [
        "df.shape"
      ],
      "execution_count": 101,
      "outputs": [
        {
          "output_type": "execute_result",
          "data": {
            "text/plain": [
              "(5572, 2)"
            ]
          },
          "metadata": {
            "tags": []
          },
          "execution_count": 101
        }
      ]
    },
    {
      "cell_type": "code",
      "metadata": {
        "id": "ZhGUSmwnlfi_",
        "colab": {
          "base_uri": "https://localhost:8080/",
          "height": 204
        },
        "outputId": "c9f6de34-8c1e-435c-d419-ef66870e4cdd"
      },
      "source": [
        "df.head()"
      ],
      "execution_count": 102,
      "outputs": [
        {
          "output_type": "execute_result",
          "data": {
            "text/html": [
              "<div>\n",
              "<style scoped>\n",
              "    .dataframe tbody tr th:only-of-type {\n",
              "        vertical-align: middle;\n",
              "    }\n",
              "\n",
              "    .dataframe tbody tr th {\n",
              "        vertical-align: top;\n",
              "    }\n",
              "\n",
              "    .dataframe thead th {\n",
              "        text-align: right;\n",
              "    }\n",
              "</style>\n",
              "<table border=\"1\" class=\"dataframe\">\n",
              "  <thead>\n",
              "    <tr style=\"text-align: right;\">\n",
              "      <th></th>\n",
              "      <th>label</th>\n",
              "      <th>text</th>\n",
              "    </tr>\n",
              "  </thead>\n",
              "  <tbody>\n",
              "    <tr>\n",
              "      <th>0</th>\n",
              "      <td>ham</td>\n",
              "      <td>Go until jurong point, crazy.. Available only ...</td>\n",
              "    </tr>\n",
              "    <tr>\n",
              "      <th>1</th>\n",
              "      <td>ham</td>\n",
              "      <td>Ok lar... Joking wif u oni...</td>\n",
              "    </tr>\n",
              "    <tr>\n",
              "      <th>2</th>\n",
              "      <td>spam</td>\n",
              "      <td>Free entry in 2 a wkly comp to win FA Cup fina...</td>\n",
              "    </tr>\n",
              "    <tr>\n",
              "      <th>3</th>\n",
              "      <td>ham</td>\n",
              "      <td>U dun say so early hor... U c already then say...</td>\n",
              "    </tr>\n",
              "    <tr>\n",
              "      <th>4</th>\n",
              "      <td>ham</td>\n",
              "      <td>Nah I don't think he goes to usf, he lives aro...</td>\n",
              "    </tr>\n",
              "  </tbody>\n",
              "</table>\n",
              "</div>"
            ],
            "text/plain": [
              "  label                                               text\n",
              "0   ham  Go until jurong point, crazy.. Available only ...\n",
              "1   ham                      Ok lar... Joking wif u oni...\n",
              "2  spam  Free entry in 2 a wkly comp to win FA Cup fina...\n",
              "3   ham  U dun say so early hor... U c already then say...\n",
              "4   ham  Nah I don't think he goes to usf, he lives aro..."
            ]
          },
          "metadata": {
            "tags": []
          },
          "execution_count": 102
        }
      ]
    },
    {
      "cell_type": "code",
      "metadata": {
        "id": "psgAmVFIlxpL",
        "colab": {
          "base_uri": "https://localhost:8080/",
          "height": 264
        },
        "outputId": "ddc89931-8f09-462b-e501-42a6af6f6e83"
      },
      "source": [
        "import matplotlib.pyplot as plt\n",
        "\n",
        "count=df['label'].value_counts()\n",
        "count.plot(kind = 'pie')\n",
        "plt.title('pie chart')\n",
        "plt.ylabel('')\n",
        "plt.show();\n",
        "#portion of text messages actually spam"
      ],
      "execution_count": 103,
      "outputs": [
        {
          "output_type": "display_data",
          "data": {
            "image/png": "[encoded data removed]",
            "text/plain": [
              "<Figure size 432x288 with 1 Axes>"
            ]
          },
          "metadata": {
            "tags": []
          }
        }
      ]
    },
    {
      "cell_type": "markdown",
      "metadata": {
        "id": "WA921hxwE7_g"
      },
      "source": [
        "Feature engineering\n",
        "---------\n",
        "lets see if the text length and the percentage of special characters might be useful for identifying spam messages"
      ]
    },
    {
      "cell_type": "code",
      "metadata": {
        "id": "4PehqMhGT70b"
      },
      "source": [
        ""
      ],
      "execution_count": 103,
      "outputs": []
    },
    {
      "cell_type": "code",
      "metadata": {
        "id": "0Zp0-FZnAyAA"
      },
      "source": [
        "def punct(txt):\n",
        "    count = sum([1 for char in txt if char in string.punctuation])\n",
        "    #counting punctuations\n",
        "    textlen=(len(txt) - txt.count(\" \"))\n",
        "    #counting text length \n",
        "    return round(count/textlen, 3)*100\n",
        "    #percentage of punctuation in text\n",
        "\n",
        "df['text_len'] = df['text'].apply(lambda x: len(x) - x.count(\" \"))\n",
        "df['punct_percent'] = df['text'].apply(lambda x: punct(x))\n"
      ],
      "execution_count": 104,
      "outputs": []
    },
    {
      "cell_type": "code",
      "metadata": {
        "colab": {
          "base_uri": "https://localhost:8080/",
          "height": 204
        },
        "id": "MjfN7fyXEs_I",
        "outputId": "9a897881-f77b-41a1-f62d-c377cd83aeee"
      },
      "source": [
        "df.head()"
      ],
      "execution_count": 105,
      "outputs": [
        {
          "output_type": "execute_result",
          "data": {
            "text/html": [
              "<div>\n",
              "<style scoped>\n",
              "    .dataframe tbody tr th:only-of-type {\n",
              "        vertical-align: middle;\n",
              "    }\n",
              "\n",
              "    .dataframe tbody tr th {\n",
              "        vertical-align: top;\n",
              "    }\n",
              "\n",
              "    .dataframe thead th {\n",
              "        text-align: right;\n",
              "    }\n",
              "</style>\n",
              "<table border=\"1\" class=\"dataframe\">\n",
              "  <thead>\n",
              "    <tr style=\"text-align: right;\">\n",
              "      <th></th>\n",
              "      <th>label</th>\n",
              "      <th>text</th>\n",
              "      <th>text_len</th>\n",
              "      <th>punct_percent</th>\n",
              "    </tr>\n",
              "  </thead>\n",
              "  <tbody>\n",
              "    <tr>\n",
              "      <th>0</th>\n",
              "      <td>ham</td>\n",
              "      <td>Go until jurong point, crazy.. Available only ...</td>\n",
              "      <td>92</td>\n",
              "      <td>9.8</td>\n",
              "    </tr>\n",
              "    <tr>\n",
              "      <th>1</th>\n",
              "      <td>ham</td>\n",
              "      <td>Ok lar... Joking wif u oni...</td>\n",
              "      <td>24</td>\n",
              "      <td>25.0</td>\n",
              "    </tr>\n",
              "    <tr>\n",
              "      <th>2</th>\n",
              "      <td>spam</td>\n",
              "      <td>Free entry in 2 a wkly comp to win FA Cup fina...</td>\n",
              "      <td>128</td>\n",
              "      <td>4.7</td>\n",
              "    </tr>\n",
              "    <tr>\n",
              "      <th>3</th>\n",
              "      <td>ham</td>\n",
              "      <td>U dun say so early hor... U c already then say...</td>\n",
              "      <td>39</td>\n",
              "      <td>15.4</td>\n",
              "    </tr>\n",
              "    <tr>\n",
              "      <th>4</th>\n",
              "      <td>ham</td>\n",
              "      <td>Nah I don't think he goes to usf, he lives aro...</td>\n",
              "      <td>49</td>\n",
              "      <td>4.1</td>\n",
              "    </tr>\n",
              "  </tbody>\n",
              "</table>\n",
              "</div>"
            ],
            "text/plain": [
              "  label  ... punct_percent\n",
              "0   ham  ...           9.8\n",
              "1   ham  ...          25.0\n",
              "2  spam  ...           4.7\n",
              "3   ham  ...          15.4\n",
              "4   ham  ...           4.1\n",
              "\n",
              "[5 rows x 4 columns]"
            ]
          },
          "metadata": {
            "tags": []
          },
          "execution_count": 105
        }
      ]
    },
    {
      "cell_type": "code",
      "metadata": {
        "id": "rgSYdhKx9zSJ",
        "colab": {
          "base_uri": "https://localhost:8080/",
          "height": 386
        },
        "outputId": "e6433d4e-272f-4b4f-ed50-3b84aa009f20"
      },
      "source": [
        "import seaborn as sns\n",
        "import numpy as np\n",
        "\n",
        "plt.figure(figsize=(10,8))\n",
        "sns.displot(df,x=\"text_len\",hue=\"label\",palette='CMRmap_r',bins=70)\n",
        "plt.xlim(0,300)\n",
        "plt.tight_layout()"
      ],
      "execution_count": 106,
      "outputs": [
        {
          "output_type": "display_data",
          "data": {
            "text/plain": [
              "<Figure size 720x576 with 0 Axes>"
            ]
          },
          "metadata": {
            "tags": []
          }
        },
        {
          "output_type": "display_data",
          "data": {
            "image/png": "[encoded data removed]",
            "text/plain": [
              "<Figure size 423.25x360 with 1 Axes>"
            ]
          },
          "metadata": {
            "tags": [],
            "needs_background": "light"
          }
        }
      ]
    },
    {
      "cell_type": "code",
      "metadata": {
        "colab": {
          "base_uri": "https://localhost:8080/",
          "height": 289
        },
        "id": "L-jUOVXB4gBG",
        "outputId": "c25451f4-2450-4f83-c4a5-68ddbb6b28e3"
      },
      "source": [
        "bins = np.linspace(0, 200, 40)\n",
        "df.hist(column='text_len', by='label', bins=50,figsize=(12,4))\n",
        "plt.show()"
      ],
      "execution_count": 107,
      "outputs": [
        {
          "output_type": "display_data",
          "data": {
            "image/png": "[encoded data removed]",
            "text/plain": [
              "<Figure size 864x288 with 2 Axes>"
            ]
          },
          "metadata": {
            "tags": [],
            "needs_background": "light"
          }
        }
      ]
    },
    {
      "cell_type": "markdown",
      "metadata": {
        "id": "na1QNN0h9jT2"
      },
      "source": [
        "From the above plots its clear that spam messages are of more length and text_len emerged as an important feature for identifying spam messages"
      ]
    },
    {
      "cell_type": "code",
      "metadata": {
        "colab": {
          "base_uri": "https://localhost:8080/",
          "height": 386
        },
        "id": "oQGlVMpMA6e0",
        "outputId": "1aef653a-4975-418b-db1f-750d0ea390c0"
      },
      "source": [
        "%matplotlib inline\n",
        "sns.displot(df,x=\"punct_percent\",hue=\"label\",palette='inferno',bins=30)\n",
        "plt.xlim(0,60)"
      ],
      "execution_count": 108,
      "outputs": [
        {
          "output_type": "execute_result",
          "data": {
            "text/plain": [
              "(0.0, 60.0)"
            ]
          },
          "metadata": {
            "tags": []
          },
          "execution_count": 108
        },
        {
          "output_type": "display_data",
          "data": {
            "image/png": "[encoded data removed]",
            "text/plain": [
              "<Figure size 423.25x360 with 1 Axes>"
            ]
          },
          "metadata": {
            "tags": [],
            "needs_background": "light"
          }
        }
      ]
    },
    {
      "cell_type": "code",
      "metadata": {
        "colab": {
          "base_uri": "https://localhost:8080/",
          "height": 281
        },
        "id": "Uao3RzMU-jOf",
        "outputId": "cd263a15-e9d0-4896-bfb7-aed455fe12a2"
      },
      "source": [
        "bins = np.linspace(0, 50, 40)\n",
        "\n",
        "plt.hist(df['punct_percent'], bins)\n",
        "plt.title(\"Punctuation % Distribution\")\n",
        "plt.show()"
      ],
      "execution_count": 109,
      "outputs": [
        {
          "output_type": "display_data",
          "data": {
            "image/png": "[encoded data removed]",
            "text/plain": [
              "<Figure size 432x288 with 1 Axes>"
            ]
          },
          "metadata": {
            "tags": [],
            "needs_background": "light"
          }
        }
      ]
    },
    {
      "cell_type": "code",
      "metadata": {
        "id": "24cTNWPC96Cx"
      },
      "source": [
        "import numpy as np\n",
        "df['label']=np.where(df['label']=='spam',1,0)"
      ],
      "execution_count": 110,
      "outputs": []
    },
    {
      "cell_type": "markdown",
      "metadata": {
        "id": "ANPFer4Go34c"
      },
      "source": [
        "Preprocessing the text\n",
        "========="
      ]
    },
    {
      "cell_type": "code",
      "metadata": {
        "colab": {
          "base_uri": "https://localhost:8080/"
        },
        "id": "EIytolV3BkLn",
        "outputId": "f26515c6-d297-449b-b8c2-87f449254126"
      },
      "source": [
        "df['text'][8:15]"
      ],
      "execution_count": 111,
      "outputs": [
        {
          "output_type": "execute_result",
          "data": {
            "text/plain": [
              "8     WINNER!! As a valued network customer you have...\n",
              "9     Had your mobile 11 months or more? U R entitle...\n",
              "10    I'm gonna be home soon and i don't want to tal...\n",
              "11    SIX chances to win CASH! From 100 to 20,000 po...\n",
              "12    URGENT! You have won a 1 week FREE membership ...\n",
              "13    I've been searching for the right words to tha...\n",
              "14                  I HAVE A DATE ON SUNDAY WITH WILL!!\n",
              "Name: text, dtype: object"
            ]
          },
          "metadata": {
            "tags": []
          },
          "execution_count": 111
        }
      ]
    },
    {
      "cell_type": "markdown",
      "metadata": {
        "id": "uaHS2-HQqJwh"
      },
      "source": [
        "we can clearly see that the text is containig punctuations ,lets dive into data cleaning"
      ]
    },
    {
      "cell_type": "code",
      "metadata": {
        "id": "9fEc13jshwqr"
      },
      "source": [
        "lemma = nltk.WordNetLemmatizer()"
      ],
      "execution_count": 112,
      "outputs": []
    },
    {
      "cell_type": "code",
      "metadata": {
        "id": "OcnVwy4-5sWG"
      },
      "source": [
        "def cleaning_text(text):\n",
        "   #removing punctuations\n",
        "   text=\"\".join([word.lower() for word in text if word not in string.punctuation])\n",
        "   # tokenizing data\n",
        "   tokens=re.split('\\W+',text)\n",
        "   #removal of stopwords from the tokenixed text\n",
        "   text=[lemma.lemmatize(word) for word in tokens if word not in stopwords]\n",
        "   return text"
      ],
      "execution_count": 113,
      "outputs": []
    },
    {
      "cell_type": "code",
      "metadata": {
        "id": "TIvZCc2lUnVR"
      },
      "source": [
        "stopwords=nltk.corpus.stopwords.words('english')"
      ],
      "execution_count": 114,
      "outputs": []
    },
    {
      "cell_type": "code",
      "metadata": {
        "id": "5t5jb2Mv-7nI",
        "colab": {
          "base_uri": "https://localhost:8080/",
          "height": 238
        },
        "outputId": "54fc2c56-ff0b-4e63-8670-5ce6aa28c020"
      },
      "source": [
        "import nltk\n",
        "nltk.download('wordnet')\n",
        "df['clean_text'] = df['text'].apply(lambda x: cleaning_text(x))\n",
        "df.head()"
      ],
      "execution_count": 115,
      "outputs": [
        {
          "output_type": "stream",
          "text": [
            "[nltk_data] Downloading package wordnet to /root/nltk_data...\n",
            "[nltk_data]   Unzipping corpora/wordnet.zip.\n"
          ],
          "name": "stdout"
        },
        {
          "output_type": "execute_result",
          "data": {
            "text/html": [
              "<div>\n",
              "<style scoped>\n",
              "    .dataframe tbody tr th:only-of-type {\n",
              "        vertical-align: middle;\n",
              "    }\n",
              "\n",
              "    .dataframe tbody tr th {\n",
              "        vertical-align: top;\n",
              "    }\n",
              "\n",
              "    .dataframe thead th {\n",
              "        text-align: right;\n",
              "    }\n",
              "</style>\n",
              "<table border=\"1\" class=\"dataframe\">\n",
              "  <thead>\n",
              "    <tr style=\"text-align: right;\">\n",
              "      <th></th>\n",
              "      <th>label</th>\n",
              "      <th>text</th>\n",
              "      <th>text_len</th>\n",
              "      <th>punct_percent</th>\n",
              "      <th>clean_text</th>\n",
              "    </tr>\n",
              "  </thead>\n",
              "  <tbody>\n",
              "    <tr>\n",
              "      <th>0</th>\n",
              "      <td>0</td>\n",
              "      <td>Go until jurong point, crazy.. Available only ...</td>\n",
              "      <td>92</td>\n",
              "      <td>9.8</td>\n",
              "      <td>[go, jurong, point, crazy, available, bugis, n...</td>\n",
              "    </tr>\n",
              "    <tr>\n",
              "      <th>1</th>\n",
              "      <td>0</td>\n",
              "      <td>Ok lar... Joking wif u oni...</td>\n",
              "      <td>24</td>\n",
              "      <td>25.0</td>\n",
              "      <td>[ok, lar, joking, wif, u, oni]</td>\n",
              "    </tr>\n",
              "    <tr>\n",
              "      <th>2</th>\n",
              "      <td>1</td>\n",
              "      <td>Free entry in 2 a wkly comp to win FA Cup fina...</td>\n",
              "      <td>128</td>\n",
              "      <td>4.7</td>\n",
              "      <td>[free, entry, 2, wkly, comp, win, fa, cup, fin...</td>\n",
              "    </tr>\n",
              "    <tr>\n",
              "      <th>3</th>\n",
              "      <td>0</td>\n",
              "      <td>U dun say so early hor... U c already then say...</td>\n",
              "      <td>39</td>\n",
              "      <td>15.4</td>\n",
              "      <td>[u, dun, say, early, hor, u, c, already, say]</td>\n",
              "    </tr>\n",
              "    <tr>\n",
              "      <th>4</th>\n",
              "      <td>0</td>\n",
              "      <td>Nah I don't think he goes to usf, he lives aro...</td>\n",
              "      <td>49</td>\n",
              "      <td>4.1</td>\n",
              "      <td>[nah, dont, think, go, usf, life, around, though]</td>\n",
              "    </tr>\n",
              "  </tbody>\n",
              "</table>\n",
              "</div>"
            ],
            "text/plain": [
              "   label  ...                                         clean_text\n",
              "0      0  ...  [go, jurong, point, crazy, available, bugis, n...\n",
              "1      0  ...                     [ok, lar, joking, wif, u, oni]\n",
              "2      1  ...  [free, entry, 2, wkly, comp, win, fa, cup, fin...\n",
              "3      0  ...      [u, dun, say, early, hor, u, c, already, say]\n",
              "4      0  ...  [nah, dont, think, go, usf, life, around, though]\n",
              "\n",
              "[5 rows x 5 columns]"
            ]
          },
          "metadata": {
            "tags": []
          },
          "execution_count": 115
        }
      ]
    },
    {
      "cell_type": "code",
      "metadata": {
        "id": "QhZK0J4xXiPo"
      },
      "source": [
        "from sklearn.model_selection import train_test_split"
      ],
      "execution_count": 116,
      "outputs": []
    },
    {
      "cell_type": "code",
      "metadata": {
        "id": "QZy9u21_Ui9W"
      },
      "source": [
        "#splitting our data into train and text\n",
        "X_train, X_test, y_train, y_test = train_test_split(df.drop('label',axis=1),df['label'], test_size=0.2)"
      ],
      "execution_count": 117,
      "outputs": []
    },
    {
      "cell_type": "markdown",
      "metadata": {
        "id": "SmWtaJhtf5jp"
      },
      "source": [
        "Vectorizing text using TF-IDF\n",
        "==============="
      ]
    },
    {
      "cell_type": "code",
      "metadata": {
        "id": "BYMrWDwUYK46"
      },
      "source": [
        "tfidf_vect = TfidfVectorizer(analyzer=cleaning_text)\n",
        "train_vect=tfidf_vect.fit_transform(X_train['text'])\n",
        "test_vect = tfidf_vect.transform(X_test['text'])"
      ],
      "execution_count": 118,
      "outputs": []
    },
    {
      "cell_type": "code",
      "metadata": {
        "colab": {
          "base_uri": "https://localhost:8080/"
        },
        "id": "JjwbEnr757cP",
        "outputId": "6934deab-b732-4df9-967d-6aa171333feb"
      },
      "source": [
        "train_vect.shape"
      ],
      "execution_count": null,
      "outputs": [
        {
          "output_type": "execute_result",
          "data": {
            "text/plain": [
              "(4457, 7813)"
            ]
          },
          "metadata": {
            "tags": []
          },
          "execution_count": 114
        }
      ]
    },
    {
      "cell_type": "code",
      "metadata": {
        "colab": {
          "base_uri": "https://localhost:8080/"
        },
        "id": "evQQ768Os-u5",
        "outputId": "947e9fa3-9ec2-4a29-9d4a-28f0bdeceb62"
      },
      "source": [
        "tfidf_train = pd.DataFrame(train_vect.toarray())\n",
        "tfidf_train.columns = tfidf_vect.get_feature_names()\n",
        "tfidf_test = pd.DataFrame(test_vect.toarray())\n",
        "tfidf_test.columns = tfidf_vect.get_feature_names()\n",
        "print(tfidf_train.shape)\n",
        "print(tfidf_test.shape)"
      ],
      "execution_count": null,
      "outputs": [
        {
          "output_type": "stream",
          "text": [
            "(4457, 7813)\n",
            "(1115, 7813)\n"
          ],
          "name": "stdout"
        }
      ]
    },
    {
      "cell_type": "code",
      "metadata": {
        "id": "QAp6W4mht0O1"
      },
      "source": [
        "dff=pd.DataFrame(X_train['text_len'])\n",
        "dgg=pd.DataFrame(X_train['punct_percent'])"
      ],
      "execution_count": null,
      "outputs": []
    },
    {
      "cell_type": "code",
      "metadata": {
        "id": "8U5z4j0stlHp"
      },
      "source": [
        "dss=pd.DataFrame(X_test['text_len'])\n",
        "dqq=pd.DataFrame(X_test['punct_percent'])"
      ],
      "execution_count": null,
      "outputs": []
    },
    {
      "cell_type": "code",
      "metadata": {
        "colab": {
          "base_uri": "https://localhost:8080/"
        },
        "id": "6rP35BolmiCG",
        "outputId": "b9c8e711-b002-4da0-f753-a7e72a9be2ae"
      },
      "source": [
        "from scipy.sparse import hstack\n",
        "# with the same hstack function we are concatinating a sparse matrix and a dense matirx :)\n",
        "train_feat= hstack((tfidf_train,dff,dgg))\n",
        "test_feat=hstack((tfidf_test,dss,dqq))\n",
        "print(train_feat.shape)\n",
        "print(test_feat.shape)"
      ],
      "execution_count": null,
      "outputs": [
        {
          "output_type": "stream",
          "text": [
            "(4457, 7815)\n",
            "(1115, 7815)\n"
          ],
          "name": "stdout"
        }
      ]
    },
    {
      "cell_type": "code",
      "metadata": {
        "id": "lblv2jWGdPsu"
      },
      "source": [
        "from sklearn.ensemble import RandomForestClassifier\n",
        "rf = RandomForestClassifier()\n",
        "rf_model = rf.fit(train_feat, y_train)"
      ],
      "execution_count": null,
      "outputs": []
    },
    {
      "cell_type": "code",
      "metadata": {
        "id": "M7oNKS11jtWu"
      },
      "source": [
        "y_pred = rf_model.predict(test_feat)"
      ],
      "execution_count": null,
      "outputs": []
    },
    {
      "cell_type": "code",
      "metadata": {
        "colab": {
          "base_uri": "https://localhost:8080/"
        },
        "id": "swYBIzKbjx4f",
        "outputId": "fca8d735-4dad-4bbd-856d-732ac5d074b3"
      },
      "source": [
        "from sklearn.metrics import precision_score, recall_score\n",
        "precision = precision_score(y_test, y_pred)\n",
        "recall = recall_score(y_test, y_pred)\n",
        "print('Precision: {} / Recall: {} / Accuracy: {}'.format(\n",
        "    round(precision, 3), round(recall, 3), round((y_pred==y_test).sum()/len(y_pred), 3)))"
      ],
      "execution_count": null,
      "outputs": [
        {
          "output_type": "stream",
          "text": [
            "Precision: 1.0 / Recall: 0.827 / Accuracy: 0.978\n"
          ],
          "name": "stdout"
        }
      ]
    },
    {
      "cell_type": "markdown",
      "metadata": {
        "id": "-7fFekian0FV"
      },
      "source": [
        "VERCTORIZING TEXT USING WORD2VEC\n",
        "-------------------"
      ]
    },
    {
      "cell_type": "code",
      "metadata": {
        "id": "3EtnPUbIj9TI"
      },
      "source": [
        "import gensim\n",
        "w2v_model = gensim.models.Word2Vec(X_train['clean_text'],\n",
        "                                   size=100,\n",
        "                                   window=5,\n",
        "                                   min_count=2)\n",
        "# Train a basic word2vec model on our training data"
      ],
      "execution_count": null,
      "outputs": []
    },
    {
      "cell_type": "code",
      "metadata": {
        "id": "v_WJ8GPdkx43"
      },
      "source": [
        "words = set(w2v_model.wv.index2word)"
      ],
      "execution_count": null,
      "outputs": []
    },
    {
      "cell_type": "code",
      "metadata": {
        "colab": {
          "base_uri": "https://localhost:8080/"
        },
        "id": "TQ3jTUXbBHT2",
        "outputId": "d20ea5c1-2d22-4769-b646-f737a9b2a674"
      },
      "source": [
        "from tqdm import tqdm\n",
        "avg_w2v_vectors = []; # the avg-w2v for each sentence/review is stored in this list\n",
        "for sentence in tqdm(X_train['clean_text']): # for each review/sentence\n",
        "    vector = np.zeros(100) # as word vectors are of zero length\n",
        "    cnt_words =0; # num of words with a valid vector in the sentence/review\n",
        "    for word in sentence: # for each word in a review/sentence\n",
        "        if word in words:\n",
        "            vector += w2v_model[word]\n",
        "            cnt_words += 1\n",
        "    if cnt_words != 0:\n",
        "        vector /= cnt_words\n",
        "    avg_w2v_vectors.append(vector)\n",
        "\n",
        "print(len(avg_w2v_vectors))\n",
        "print(len(avg_w2v_vectors[0]))"
      ],
      "execution_count": null,
      "outputs": [
        {
          "output_type": "stream",
          "text": [
            "  0%|          | 0/4457 [00:00<?, ?it/s]/usr/local/lib/python3.6/dist-packages/ipykernel_launcher.py:8: DeprecationWarning: Call to deprecated `__getitem__` (Method will be removed in 4.0.0, use self.wv.__getitem__() instead).\n",
            "  \n",
            "100%|██████████| 4457/4457 [00:00<00:00, 11669.57it/s]"
          ],
          "name": "stderr"
        },
        {
          "output_type": "stream",
          "text": [
            "4457\n",
            "100\n"
          ],
          "name": "stdout"
        },
        {
          "output_type": "stream",
          "text": [
            "\n"
          ],
          "name": "stderr"
        }
      ]
    },
    {
      "cell_type": "code",
      "metadata": {
        "colab": {
          "base_uri": "https://localhost:8080/"
        },
        "id": "BO0XY0p2CZLg",
        "outputId": "af4a5e1e-ecdf-4575-be03-3e33da6d4876"
      },
      "source": [
        "from tqdm import tqdm\n",
        "test_w2v_vectors = []; # the avg-w2v for each sentence/review is stored in this list\n",
        "for sentence in tqdm(X_test['clean_text']): # for each review/sentence\n",
        "    vector = np.zeros(100) # as word vectors are of zero length\n",
        "    cnt_words =0; # num of words with a valid vector in the sentence/review\n",
        "    for word in sentence: # for each word in a review/sentence\n",
        "        if word in words:\n",
        "            vector += w2v_model[word]\n",
        "            cnt_words += 1\n",
        "    if cnt_words != 0:\n",
        "        vector /= cnt_words\n",
        "    test_w2v_vectors.append(vector)\n"
      ],
      "execution_count": null,
      "outputs": [
        {
          "output_type": "stream",
          "text": [
            "  0%|          | 0/1115 [00:00<?, ?it/s]/usr/local/lib/python3.6/dist-packages/ipykernel_launcher.py:8: DeprecationWarning: Call to deprecated `__getitem__` (Method will be removed in 4.0.0, use self.wv.__getitem__() instead).\n",
            "  \n",
            "100%|██████████| 1115/1115 [00:00<00:00, 7004.72it/s]\n"
          ],
          "name": "stderr"
        }
      ]
    },
    {
      "cell_type": "code",
      "metadata": {
        "colab": {
          "base_uri": "https://localhost:8080/"
        },
        "id": "STPGskkICFUn",
        "outputId": "47bf2bd3-257a-4a99-fec4-cde39ffd0850"
      },
      "source": [
        "print(len(test_w2v_vectors))\n",
        "print(len(test_w2v_vectors[0]))"
      ],
      "execution_count": null,
      "outputs": [
        {
          "output_type": "stream",
          "text": [
            "1115\n",
            "100\n"
          ],
          "name": "stdout"
        }
      ]
    },
    {
      "cell_type": "code",
      "metadata": {
        "colab": {
          "base_uri": "https://localhost:8080/"
        },
        "id": "Lh2YaBZiD18U",
        "outputId": "6fea6c56-f6fe-497f-ff8c-e7f0284a9724"
      },
      "source": [
        "#lets stack numeric aand text features\n",
        "train_w2v= hstack((avg_w2v_vectors,dff,dgg))\n",
        "test_w2v=hstack((test_w2v_vectors,dss,dqq))\n",
        "print(train_w2v.shape)\n",
        "print(test_w2v.shape)\n"
      ],
      "execution_count": null,
      "outputs": [
        {
          "output_type": "stream",
          "text": [
            "(4457, 102)\n",
            "(1115, 102)\n"
          ],
          "name": "stdout"
        }
      ]
    },
    {
      "cell_type": "code",
      "metadata": {
        "id": "a7KoRNE4n03w"
      },
      "source": [
        "rf = RandomForestClassifier()\n",
        "rf_model = rf.fit(train_w2v, y_train)"
      ],
      "execution_count": null,
      "outputs": []
    },
    {
      "cell_type": "code",
      "metadata": {
        "colab": {
          "base_uri": "https://localhost:8080/"
        },
        "id": "fY3a8Bn5tjAY",
        "outputId": "1aa43e56-353c-44aa-b159-d8e5039161d6"
      },
      "source": [
        "#model prediction and evaluation on test set\n",
        "y_pred = rf_model.predict(test_w2v) \n",
        "precision = precision_score(y_test, y_pred)\n",
        "recall = recall_score(y_test, y_pred)\n",
        "print('Precision: {} / Recall: {} / Accuracy: {}'.format(\n",
        "    round(precision, 3), round(recall, 3), round((y_pred==y_test).sum()/len(y_pred), 3)))"
      ],
      "execution_count": null,
      "outputs": [
        {
          "output_type": "stream",
          "text": [
            "Precision: 1.0 / Recall: 0.691 / Accuracy: 0.961\n"
          ],
          "name": "stdout"
        }
      ]
    },
    {
      "cell_type": "markdown",
      "metadata": {
        "id": "QNwlVUfbPRvB"
      },
      "source": [
        "Vectorization using DOC2VEC\n",
        "========="
      ]
    },
    {
      "cell_type": "code",
      "metadata": {
        "id": "x9UKFrDjtY5k"
      },
      "source": [
        "#getting words usind DOC2VEC\n",
        "doc_tag_train = [gensim.models.doc2vec.TaggedDocument(v, [i])\n",
        "                     for i, v in enumerate(X_train['clean_text'])]\n",
        "doc_tag_test = [gensim.models.doc2vec.TaggedDocument(v, [i])\n",
        "                    for i, v in enumerate(X_test['clean_text'])]"
      ],
      "execution_count": null,
      "outputs": []
    },
    {
      "cell_type": "code",
      "metadata": {
        "colab": {
          "base_uri": "https://localhost:8080/"
        },
        "id": "GtZyZKRozd23",
        "outputId": "9a064915-782a-485a-ccd0-e5d17860dd40"
      },
      "source": [
        "doc_tag_train[:10]"
      ],
      "execution_count": null,
      "outputs": [
        {
          "output_type": "execute_result",
          "data": {
            "text/plain": [
              "[TaggedDocument(words=['omw', 'back', 'tampa', 'west', 'palm', 'hear', 'happened'], tags=[0]),\n",
              " TaggedDocument(words=['pure', 'hearted', 'person', 'wonderful', 'smile', 'make', 'even', 'hisher', 'enemy', 'feel', 'guilty', 'enemy', 'catch', 'world', 'smile', 'goodmorning', 'amp', 'smiley', 'sunday'], tags=[1]),\n",
              " TaggedDocument(words=['recpt', '13', 'ordered', 'ringtone', 'order', 'processed'], tags=[2]),\n",
              " TaggedDocument(words=['ok', 'april', 'cant', 'wait'], tags=[3]),\n",
              " TaggedDocument(words=['ya', 'ok', 'dinner'], tags=[4]),\n",
              " TaggedDocument(words=['consider', 'wall', 'bunker', 'shit', 'important', 'never', 'play', 'peaceful', 'guess', 'place', 'high', 'enough', 'dont', 'matter'], tags=[5]),\n",
              " TaggedDocument(words=['sure', 'night', 'menu', 'know', 'noon', 'menu'], tags=[6]),\n",
              " TaggedDocument(words=['someone', 'u', 'know', 'asked', 'dating', 'service', '2', 'contact', 'cant', 'guess', 'call', '09058091854', 'revealed', 'po', 'box385', 'm6', '6wu'], tags=[7]),\n",
              " TaggedDocument(words=['callsmessagesmissed', 'call'], tags=[8]),\n",
              " TaggedDocument(words=['ok', 'enjoy', 'r', 'u', 'home'], tags=[9])]"
            ]
          },
          "metadata": {
            "tags": []
          },
          "execution_count": 134
        }
      ]
    },
    {
      "cell_type": "code",
      "metadata": {
        "id": "HzLjm3pKzqmM"
      },
      "source": [
        "d2v_model = gensim.models.Doc2Vec(doc_tag_train,\n",
        "                                  vector_size=100,\n",
        "                                  window=5,\n",
        "                                  min_count=2)\n",
        "# Training a basic doc2vec model"
      ],
      "execution_count": null,
      "outputs": []
    },
    {
      "cell_type": "code",
      "metadata": {
        "colab": {
          "base_uri": "https://localhost:8080/"
        },
        "id": "-W_QesIL7e-k",
        "outputId": "edd158db-f5ad-492d-eaa7-fc11a22619c1"
      },
      "source": [
        "d2v_model.infer_vector(['happy', 'deepavali', 'to', 'everyone'])\n",
        "#example to see how d2v vectors look like"
      ],
      "execution_count": null,
      "outputs": [
        {
          "output_type": "execute_result",
          "data": {
            "text/plain": [
              "array([ 2.50690710e-03, -1.48047535e-02, -7.04272278e-03, -6.83367485e-03,\n",
              "        2.22320762e-03,  7.95769412e-03,  2.40248279e-03,  5.61994128e-03,\n",
              "       -6.94849482e-03,  2.21587182e-03,  9.69665218e-03, -7.47682585e-04,\n",
              "       -8.38195160e-03,  3.77993286e-03,  2.37473124e-03,  3.40466481e-03,\n",
              "        1.12460693e-02, -1.95820280e-03, -1.47327119e-02, -9.97993909e-03,\n",
              "        1.61639787e-03, -9.83112841e-04,  1.74994243e-03, -1.05431754e-05,\n",
              "       -9.99938138e-03,  1.25824036e-02,  1.13125984e-02,  1.06225237e-02,\n",
              "       -1.18393479e-02,  1.00579225e-02,  5.54088643e-03, -7.88440183e-03,\n",
              "       -4.85946424e-03,  1.16722926e-03, -5.48183126e-03,  1.90768912e-02,\n",
              "       -2.68416409e-03,  6.02410734e-03,  9.82735027e-03,  9.06077679e-03,\n",
              "        1.04715605e-03,  1.75151974e-03,  7.35337613e-04, -1.01058381e-02,\n",
              "        1.23227686e-02,  7.22568668e-03, -3.17909825e-03,  1.39575843e-02,\n",
              "       -1.19969165e-02,  3.40859126e-03,  1.10997027e-02, -1.99971627e-03,\n",
              "        4.96758195e-03,  1.31764226e-02,  6.83411164e-03,  1.04980776e-02,\n",
              "       -1.25934593e-02, -1.93415571e-03,  4.31372924e-03, -1.09696584e-02,\n",
              "       -7.16959534e-04, -4.89237078e-04,  5.18846652e-03,  1.04651600e-02,\n",
              "       -1.49765788e-02,  4.46408521e-03, -1.37381935e-02, -3.39567450e-05,\n",
              "       -5.46319690e-03,  7.82365911e-03, -2.32040347e-03,  3.52951465e-03,\n",
              "        1.88128110e-02, -9.90920886e-03, -1.38948644e-02,  3.17864888e-03,\n",
              "        8.02118052e-03, -1.44566512e-02, -1.74165110e-03,  1.02729397e-02,\n",
              "       -4.64663794e-03, -4.63069417e-03, -2.79618357e-03,  4.05988144e-03,\n",
              "        1.36338081e-02,  1.09986365e-02,  1.31692588e-02, -1.02669010e-02,\n",
              "        4.77355625e-03, -3.27168289e-03, -2.74333428e-03, -1.40287820e-02,\n",
              "       -4.53165872e-03,  8.06259178e-03,  7.81726383e-04, -1.15796539e-03,\n",
              "        5.56509849e-03,  6.25510188e-03, -6.00026734e-03,  1.35983210e-02],\n",
              "      dtype=float32)"
            ]
          },
          "metadata": {
            "tags": []
          },
          "execution_count": 136
        }
      ]
    },
    {
      "cell_type": "code",
      "metadata": {
        "id": "kS_PyzQP9XPi"
      },
      "source": [
        "#obtaning vectors using d2v for train and test data\n",
        "train_vectors_final = [d2v_model.infer_vector (v.words) for v in doc_tag_train]\n",
        "test_vectors_final = [d2v_model.infer_vector (v.words) for v in doc_tag_test]   "
      ],
      "execution_count": null,
      "outputs": []
    },
    {
      "cell_type": "code",
      "metadata": {
        "colab": {
          "base_uri": "https://localhost:8080/"
        },
        "id": "AHLbsmXKFVcV",
        "outputId": "e315393e-04a1-406b-ab10-7e3ca555ba8d"
      },
      "source": [
        "#stack numerical and text features \n",
        "train_d2v= hstack((train_vectors_final,dff,dgg))\n",
        "test_d2v=hstack((test_vectors_final,dss,dqq))\n",
        "print(train_d2v.shape)\n",
        "print(test_d2v.shape)"
      ],
      "execution_count": null,
      "outputs": [
        {
          "output_type": "stream",
          "text": [
            "(4457, 102)\n",
            "(1115, 102)\n"
          ],
          "name": "stdout"
        }
      ]
    },
    {
      "cell_type": "code",
      "metadata": {
        "colab": {
          "base_uri": "https://localhost:8080/"
        },
        "id": "3OQn72soBTcJ",
        "outputId": "af00ff3f-c2f2-4e0c-f8b3-169fd1c4f1aa"
      },
      "source": [
        "#instantiate the random forest classifier\n",
        "rf = RandomForestClassifier()\n",
        "rf_model = rf.fit(train_d2v, y_train)\n",
        "#predict model performance using test vectors\n",
        "y_pred = rf_model.predict(test_d2v)\n",
        "#evaluate the models performance\n",
        "precision = precision_score(y_test, y_pred)\n",
        "recall = recall_score(y_test, y_pred)\n",
        "print('Precision: {} //// Recall: {} //// Accuracy: {}'.format(\n",
        "    round(precision,2), round(recall, 2), round((y_pred==y_test).sum()/len(y_pred), 2)))"
      ],
      "execution_count": null,
      "outputs": [
        {
          "output_type": "stream",
          "text": [
            "Precision: 0.81 //// Recall: 0.27 //// Accuracy: 0.9\n"
          ],
          "name": "stdout"
        }
      ]
    },
    {
      "cell_type": "markdown",
      "metadata": {
        "id": "c--XHZ3QD631"
      },
      "source": [
        "Recurrent neural network \n",
        "========="
      ]
    },
    {
      "cell_type": "code",
      "metadata": {
        "id": "nLqxgJl8BLN_"
      },
      "source": [
        "# training the tokenizer and use tokenizer to convert the sentences to sequences of numbers\n",
        "from keras.preprocessing.text import Tokenizer\n",
        "from keras.preprocessing.sequence import pad_sequences\n",
        "\n",
        "tokenizer = Tokenizer()\n",
        "tokenizer.fit_on_texts(X_train['clean_text'])\n",
        "X_train_seq = tokenizer.texts_to_sequences(X_train['clean_text'])\n",
        "X_test_seq = tokenizer.texts_to_sequences(X_test['clean_text'])"
      ],
      "execution_count": null,
      "outputs": []
    },
    {
      "cell_type": "code",
      "metadata": {
        "id": "w9OYrg3NHKc7"
      },
      "source": [
        "train_seq_padded = pad_sequences(X_train_seq, 50)\n",
        "test_seq_padded = pad_sequences(X_test_seq, 50)\n",
        "# padding the sequences so each sequence is of same length"
      ],
      "execution_count": null,
      "outputs": []
    },
    {
      "cell_type": "code",
      "metadata": {
        "colab": {
          "base_uri": "https://localhost:8080/"
        },
        "id": "8pBtQM5uGz9L",
        "outputId": "fc049f37-2d9e-4005-9a3d-5f553ba736ec"
      },
      "source": [
        "train_rnn= hstack((train_seq_padded,dff,dgg))\n",
        "test_rnn=hstack((test_seq_padded,dss,dqq))\n",
        "\n",
        "print(train_rnn.shape)\n",
        "print(test_rnn.shape)"
      ],
      "execution_count": null,
      "outputs": [
        {
          "output_type": "stream",
          "text": [
            "(4457, 52)\n",
            "(1115, 52)\n"
          ],
          "name": "stdout"
        }
      ]
    },
    {
      "cell_type": "code",
      "metadata": {
        "id": "xH2X3xCdJwys"
      },
      "source": [
        "import keras.backend as K\n",
        "from keras.layers import Dense, Embedding, LSTM\n",
        "from keras.models import Sequential"
      ],
      "execution_count": null,
      "outputs": []
    },
    {
      "cell_type": "code",
      "metadata": {
        "colab": {
          "base_uri": "https://localhost:8080/"
        },
        "id": "aHxoE9-SJxa9",
        "outputId": "e1b16478-bf51-43d4-e382-6be9378d0e60"
      },
      "source": [
        "#instantiating our neural network model\n",
        "model = Sequential()\n",
        "\n",
        "model.add(Embedding(len(tokenizer.index_word)+1, 32))\n",
        "model.add(LSTM(32, dropout=0, recurrent_dropout=0))\n",
        "model.add(Dense(32, activation='relu'))\n",
        "model.add(Dense(1, activation='sigmoid'))\n",
        "model.summary()"
      ],
      "execution_count": null,
      "outputs": [
        {
          "output_type": "stream",
          "text": [
            "Model: \"sequential_3\"\n",
            "_________________________________________________________________\n",
            "Layer (type)                 Output Shape              Param #   \n",
            "=================================================================\n",
            "embedding_3 (Embedding)      (None, None, 32)          250048    \n",
            "_________________________________________________________________\n",
            "lstm_3 (LSTM)                (None, 32)                8320      \n",
            "_________________________________________________________________\n",
            "dense_6 (Dense)              (None, 32)                1056      \n",
            "_________________________________________________________________\n",
            "dense_7 (Dense)              (None, 1)                 33        \n",
            "=================================================================\n",
            "Total params: 259,457\n",
            "Trainable params: 259,457\n",
            "Non-trainable params: 0\n",
            "_________________________________________________________________\n"
          ],
          "name": "stdout"
        }
      ]
    },
    {
      "cell_type": "code",
      "metadata": {
        "id": "x0NCFVESl6ae"
      },
      "source": [
        "import keras\n",
        "train_data=train_rnn.toarray()\n",
        "test_data=test_rnn.toarray()"
      ],
      "execution_count": null,
      "outputs": []
    },
    {
      "cell_type": "code",
      "metadata": {
        "colab": {
          "base_uri": "https://localhost:8080/"
        },
        "id": "Fbjtjd80bpPI",
        "outputId": "1063946e-6ab9-42de-be0b-077382c99753"
      },
      "source": [
        "train_seq_padded"
      ],
      "execution_count": null,
      "outputs": [
        {
          "output_type": "execute_result",
          "data": {
            "text/plain": [
              "array([[   0,    0,    0, ..., 3492,  291,  554],\n",
              "       [   0,    0,    0, ...,   97, 3496,  927],\n",
              "       [   0,    0,    0, ...,  351,  524, 2227],\n",
              "       ...,\n",
              "       [   0,    0,    0, ..., 1575,  559,  310],\n",
              "       [   0,    0,    0, ...,  479,   28,   77],\n",
              "       [   0,    0,    0, ...,   97, 1829,    1]], dtype=int32)"
            ]
          },
          "metadata": {
            "tags": []
          },
          "execution_count": 165
        }
      ]
    },
    {
      "cell_type": "code",
      "metadata": {
        "id": "4bqnxPDWJxL0"
      },
      "source": [
        "#compiling our rnn model\n",
        "model.compile(optimizer='adam',loss='binary_crossentropy',metrics=['accuracy',keras.metrics.Precision(),keras.metrics.Recall()])"
      ],
      "execution_count": null,
      "outputs": []
    },
    {
      "cell_type": "code",
      "metadata": {
        "id": "YP_AfVEdKD0J",
        "colab": {
          "base_uri": "https://localhost:8080/"
        },
        "outputId": "66ce2db7-8e6c-46ad-8e93-82d6e8527b0b"
      },
      "source": [
        "#fitting our model to our train data and evaluating on test data for each epoch\n",
        "history = model.fit(train_data,\n",
        "                    y_train,\n",
        "                    batch_size=32, \n",
        "                    epochs=10,\n",
        "                    validation_data=(test_data, y_test))"
      ],
      "execution_count": null,
      "outputs": [
        {
          "output_type": "stream",
          "text": [
            "Epoch 1/10\n",
            "140/140 [==============================] - 4s 27ms/step - loss: 1.1528e-05 - accuracy: 1.0000 - precision_3: 1.0000 - recall_3: 1.0000 - val_loss: 0.1387 - val_accuracy: 0.9848 - val_precision_3: 0.9919 - val_recall_3: 0.8849\n",
            "Epoch 2/10\n",
            "140/140 [==============================] - 4s 25ms/step - loss: 9.9789e-06 - accuracy: 1.0000 - precision_3: 1.0000 - recall_3: 1.0000 - val_loss: 0.1403 - val_accuracy: 0.9848 - val_precision_3: 0.9919 - val_recall_3: 0.8849\n",
            "Epoch 3/10\n",
            "140/140 [==============================] - 4s 26ms/step - loss: 8.7129e-06 - accuracy: 1.0000 - precision_3: 1.0000 - recall_3: 1.0000 - val_loss: 0.1419 - val_accuracy: 0.9848 - val_precision_3: 0.9919 - val_recall_3: 0.8849\n",
            "Epoch 4/10\n",
            "140/140 [==============================] - 4s 26ms/step - loss: 7.6621e-06 - accuracy: 1.0000 - precision_3: 1.0000 - recall_3: 1.0000 - val_loss: 0.1433 - val_accuracy: 0.9848 - val_precision_3: 0.9919 - val_recall_3: 0.8849\n",
            "Epoch 5/10\n",
            "140/140 [==============================] - 4s 26ms/step - loss: 6.7922e-06 - accuracy: 1.0000 - precision_3: 1.0000 - recall_3: 1.0000 - val_loss: 0.1446 - val_accuracy: 0.9848 - val_precision_3: 0.9919 - val_recall_3: 0.8849\n",
            "Epoch 6/10\n",
            "140/140 [==============================] - 4s 26ms/step - loss: 6.0493e-06 - accuracy: 1.0000 - precision_3: 1.0000 - recall_3: 1.0000 - val_loss: 0.1460 - val_accuracy: 0.9848 - val_precision_3: 0.9919 - val_recall_3: 0.8849\n",
            "Epoch 7/10\n",
            "140/140 [==============================] - 4s 26ms/step - loss: 5.4026e-06 - accuracy: 1.0000 - precision_3: 1.0000 - recall_3: 1.0000 - val_loss: 0.1471 - val_accuracy: 0.9848 - val_precision_3: 0.9919 - val_recall_3: 0.8849\n",
            "Epoch 8/10\n",
            "140/140 [==============================] - 4s 26ms/step - loss: 4.8466e-06 - accuracy: 1.0000 - precision_3: 1.0000 - recall_3: 1.0000 - val_loss: 0.1485 - val_accuracy: 0.9848 - val_precision_3: 0.9919 - val_recall_3: 0.8849\n",
            "Epoch 9/10\n",
            "140/140 [==============================] - 4s 26ms/step - loss: 4.3662e-06 - accuracy: 1.0000 - precision_3: 1.0000 - recall_3: 1.0000 - val_loss: 0.1496 - val_accuracy: 0.9848 - val_precision_3: 0.9919 - val_recall_3: 0.8849\n",
            "Epoch 10/10\n",
            "140/140 [==============================] - 4s 26ms/step - loss: 3.9453e-06 - accuracy: 1.0000 - precision_3: 1.0000 - recall_3: 1.0000 - val_loss: 0.1508 - val_accuracy: 0.9848 - val_precision_3: 0.9919 - val_recall_3: 0.8849\n"
          ],
          "name": "stdout"
        }
      ]
    },
    {
      "cell_type": "markdown",
      "metadata": {
        "id": "_YjjtmlTKVkM"
      },
      "source": [
        "Summarizing All models performace "
      ]
    },
    {
      "cell_type": "code",
      "metadata": {
        "id": "_AegChQGKbhf"
      },
      "source": [
        "from prettytable import PrettyTable\n"
      ],
      "execution_count": 56,
      "outputs": []
    },
    {
      "cell_type": "code",
      "metadata": {
        "id": "CjrRQUIaKdc7"
      },
      "source": [
        "myTable = PrettyTable([\"model\", \"Accuracy \", \"Precision           \",\"Recall           \"])"
      ],
      "execution_count": 57,
      "outputs": []
    },
    {
      "cell_type": "code",
      "metadata": {
        "id": "U8kXLxJcLp04"
      },
      "source": [
        "#x.add_column(\"TFIDF\",\"WORD2VEC\",\"DOC2VEC\",\"RNN\",[model])\n",
        "myTable.add_row([\"TFIDF\", \"97 %\", \"1.0\", \"0.82\"]) \n",
        "myTable.add_row([\"WORD2VEC\", \"96.1 %\", \"1.0\", \"0.69\"]) \n",
        "myTable.add_row([\"DOC2VEC\", \"90 %\", \"0.81\", \"0.27\"]) \n",
        "myTable.add_row([\"RNN\", \"98 %\", \"0.99\", \"0.88\"]) \n"
      ],
      "execution_count": 58,
      "outputs": []
    },
    {
      "cell_type": "code",
      "metadata": {
        "colab": {
          "base_uri": "https://localhost:8080/"
        },
        "id": "rcdxyr5FLC18",
        "outputId": "b3278d78-26e1-42fb-cf58-c0ebeb3555bf"
      },
      "source": [
        "print(myTable)"
      ],
      "execution_count": 59,
      "outputs": [
        {
          "output_type": "stream",
          "text": [
            "+----------+-----------+----------------------+-------------------+\n",
            "|  model   | Accuracy  | Precision            | Recall            |\n",
            "+----------+-----------+----------------------+-------------------+\n",
            "|  TFIDF   |    97 %   |         1.0          |        0.82       |\n",
            "| WORD2VEC |   96.1 %  |         1.0          |        0.69       |\n",
            "| DOC2VEC  |    90 %   |         0.81         |        0.27       |\n",
            "|   RNN    |    98 %   |         0.99         |        0.88       |\n",
            "+----------+-----------+----------------------+-------------------+\n"
          ],
          "name": "stdout"
        }
      ]
    },
    {
      "cell_type": "markdown",
      "metadata": {
        "id": "aQW3DWrOXTnN"
      },
      "source": [
        "Summary\n",
        "-------------\n",
        "We can clearly see that our basic RNN model performs better than TFIDF,W2V,D2V models.\n",
        "we can further tune the hyper parameters and experiment on TFIDF,W2V,D2V which might increase the models performance."
      ]
    },
    {
      "cell_type": "code",
      "metadata": {
        "id": "xFHBV7nRTlDD"
      },
      "source": [
        ""
      ],
      "execution_count": null,
      "outputs": []
    }
  ]
}